{
 "cells": [
  {
   "cell_type": "code",
   "execution_count": 50,
   "id": "cd8fa3e2",
   "metadata": {},
   "outputs": [],
   "source": [
    "import datetime as dt\n",
    "from pathlib import Path\n",
    "import os\n",
    "\n",
    "import numpy as np\n",
    "import pandas as pd\n",
    "import warnings\n",
    "warnings.filterwarnings('ignore')"
   ]
  },
  {
   "cell_type": "code",
   "execution_count": 51,
   "id": "6bdc8b38",
   "metadata": {},
   "outputs": [
    {
     "data": {
      "text/html": [
       "<div>\n",
       "<style scoped>\n",
       "    .dataframe tbody tr th:only-of-type {\n",
       "        vertical-align: middle;\n",
       "    }\n",
       "\n",
       "    .dataframe tbody tr th {\n",
       "        vertical-align: top;\n",
       "    }\n",
       "\n",
       "    .dataframe thead th {\n",
       "        text-align: right;\n",
       "    }\n",
       "</style>\n",
       "<table border=\"1\" class=\"dataframe\">\n",
       "  <thead>\n",
       "    <tr style=\"text-align: right;\">\n",
       "      <th></th>\n",
       "      <th>UserId</th>\n",
       "      <th>ItemId</th>\n",
       "      <th>Rating</th>\n",
       "      <th>Time</th>\n",
       "    </tr>\n",
       "  </thead>\n",
       "  <tbody>\n",
       "    <tr>\n",
       "      <th>31</th>\n",
       "      <td>1</td>\n",
       "      <td>3186</td>\n",
       "      <td>4</td>\n",
       "      <td>978300019</td>\n",
       "    </tr>\n",
       "    <tr>\n",
       "      <th>22</th>\n",
       "      <td>1</td>\n",
       "      <td>1270</td>\n",
       "      <td>5</td>\n",
       "      <td>978300055</td>\n",
       "    </tr>\n",
       "    <tr>\n",
       "      <th>27</th>\n",
       "      <td>1</td>\n",
       "      <td>1721</td>\n",
       "      <td>4</td>\n",
       "      <td>978300055</td>\n",
       "    </tr>\n",
       "    <tr>\n",
       "      <th>37</th>\n",
       "      <td>1</td>\n",
       "      <td>1022</td>\n",
       "      <td>5</td>\n",
       "      <td>978300055</td>\n",
       "    </tr>\n",
       "    <tr>\n",
       "      <th>24</th>\n",
       "      <td>1</td>\n",
       "      <td>2340</td>\n",
       "      <td>3</td>\n",
       "      <td>978300103</td>\n",
       "    </tr>\n",
       "  </tbody>\n",
       "</table>\n",
       "</div>"
      ],
      "text/plain": [
       "    UserId  ItemId  Rating       Time\n",
       "31       1    3186       4  978300019\n",
       "22       1    1270       5  978300055\n",
       "27       1    1721       4  978300055\n",
       "37       1    1022       5  978300055\n",
       "24       1    2340       3  978300103"
      ]
     },
     "execution_count": 51,
     "metadata": {},
     "output_type": "execute_result"
    }
   ],
   "source": [
    "data_path = Path(os.getenv('HOME')+'/aiffel/yoochoose/data/') \n",
    "train_path = data_path / 'ratings.dat'\n",
    "\n",
    "def load_data(data_path: Path, nrows=None):\n",
    "    data = pd.read_csv(data_path, sep='::', header=None, usecols=[0, 1, 2, 3], dtype={0: np.int32, 1: np.int32, 2: np.int32}, nrows=nrows)\n",
    "    data.columns = ['UserId', 'ItemId', 'Rating', 'Time']\n",
    "    return data\n",
    "\n",
    "data = load_data(train_path, None)\n",
    "data.sort_values(['UserId', 'Time'], inplace=True)  # data를 id와 시간 순서로 정렬해줍니다.\n",
    "data.head()"
   ]
  },
  {
   "cell_type": "code",
   "execution_count": 52,
   "id": "ec84e6e9",
   "metadata": {},
   "outputs": [
    {
     "data": {
      "text/plain": [
       "(6040, 3706)"
      ]
     },
     "execution_count": 52,
     "metadata": {},
     "output_type": "execute_result"
    }
   ],
   "source": [
    "data['UserId'].nunique(), data['ItemId'].nunique()"
   ]
  },
  {
   "cell_type": "markdown",
   "id": "842aafb8",
   "metadata": {},
   "source": [
    "# 데이터 전처리"
   ]
  },
  {
   "cell_type": "markdown",
   "id": "e67cb105",
   "metadata": {},
   "source": [
    "UserId와 Time 정보를 가지고 Session 단위로 해석합니다.\n",
    "* UserId 같으면서 시간이 10분 이내 간격인 것\n"
   ]
  },
  {
   "cell_type": "markdown",
   "id": "e0a6d9b6",
   "metadata": {},
   "source": [
    "#### TimeDiff 컬럼 생성"
   ]
  },
  {
   "cell_type": "code",
   "execution_count": 53,
   "id": "b0eff139",
   "metadata": {},
   "outputs": [],
   "source": [
    "import datetime\n",
    "import time \n",
    "data['Time'] = (data['Time']).apply(datetime.datetime.fromtimestamp)"
   ]
  },
  {
   "cell_type": "code",
   "execution_count": 54,
   "id": "e0b92b52",
   "metadata": {},
   "outputs": [
    {
     "data": {
      "text/plain": [
       "31                    NaT\n",
       "22        0 days 00:00:36\n",
       "27        0 days 00:00:00\n",
       "37        0 days 00:00:00\n",
       "24        0 days 00:00:48\n",
       "                ...      \n",
       "1000019   0 days 00:00:31\n",
       "999988    0 days 00:00:35\n",
       "1000172   0 days 00:00:00\n",
       "1000167   0 days 00:00:22\n",
       "1000042   9 days 23:02:49\n",
       "Name: TimeDiff, Length: 1000209, dtype: timedelta64[ns]"
      ]
     },
     "execution_count": 54,
     "metadata": {},
     "output_type": "execute_result"
    }
   ],
   "source": [
    "data['TimeDiff'] = data['Time'].diff().abs()\n",
    "data['TimeDiff']"
   ]
  },
  {
   "cell_type": "code",
   "execution_count": 55,
   "id": "5401d7cd",
   "metadata": {},
   "outputs": [
    {
     "data": {
      "text/plain": [
       "31        0 days 00:00:00\n",
       "22        0 days 00:00:36\n",
       "27        0 days 00:00:00\n",
       "37        0 days 00:00:00\n",
       "24        0 days 00:00:48\n",
       "                ...      \n",
       "1000019   0 days 00:00:31\n",
       "999988    0 days 00:00:35\n",
       "1000172   0 days 00:00:00\n",
       "1000167   0 days 00:00:22\n",
       "1000042   9 days 23:02:49\n",
       "Name: TimeDiff, Length: 1000209, dtype: timedelta64[ns]"
      ]
     },
     "execution_count": 55,
     "metadata": {},
     "output_type": "execute_result"
    }
   ],
   "source": [
    "t = datetime.datetime.now()\n",
    "data.loc[31, 'TimeDiff'] =t-t\n",
    "data['TimeDiff']"
   ]
  },
  {
   "cell_type": "code",
   "execution_count": 56,
   "id": "d3ebb856",
   "metadata": {
    "scrolled": false
   },
   "outputs": [
    {
     "data": {
      "text/html": [
       "<div>\n",
       "<style scoped>\n",
       "    .dataframe tbody tr th:only-of-type {\n",
       "        vertical-align: middle;\n",
       "    }\n",
       "\n",
       "    .dataframe tbody tr th {\n",
       "        vertical-align: top;\n",
       "    }\n",
       "\n",
       "    .dataframe thead th {\n",
       "        text-align: right;\n",
       "    }\n",
       "</style>\n",
       "<table border=\"1\" class=\"dataframe\">\n",
       "  <thead>\n",
       "    <tr style=\"text-align: right;\">\n",
       "      <th></th>\n",
       "      <th>UserId</th>\n",
       "      <th>ItemId</th>\n",
       "      <th>Rating</th>\n",
       "      <th>Time</th>\n",
       "      <th>TimeDiff</th>\n",
       "    </tr>\n",
       "  </thead>\n",
       "  <tbody>\n",
       "    <tr>\n",
       "      <th>9</th>\n",
       "      <td>1</td>\n",
       "      <td>919</td>\n",
       "      <td>4</td>\n",
       "      <td>2000-12-31 22:22:48</td>\n",
       "      <td>0 days 00:10:08</td>\n",
       "    </tr>\n",
       "    <tr>\n",
       "      <th>28</th>\n",
       "      <td>1</td>\n",
       "      <td>1545</td>\n",
       "      <td>4</td>\n",
       "      <td>2001-01-06 23:35:39</td>\n",
       "      <td>6 days 00:57:38</td>\n",
       "    </tr>\n",
       "    <tr>\n",
       "      <th>130</th>\n",
       "      <td>2</td>\n",
       "      <td>1198</td>\n",
       "      <td>4</td>\n",
       "      <td>2000-12-31 21:28:44</td>\n",
       "      <td>6 days 02:10:27</td>\n",
       "    </tr>\n",
       "    <tr>\n",
       "      <th>217</th>\n",
       "      <td>3</td>\n",
       "      <td>593</td>\n",
       "      <td>3</td>\n",
       "      <td>2000-12-31 21:10:18</td>\n",
       "      <td>0 days 00:52:36</td>\n",
       "    </tr>\n",
       "    <tr>\n",
       "      <th>234</th>\n",
       "      <td>4</td>\n",
       "      <td>1210</td>\n",
       "      <td>3</td>\n",
       "      <td>2000-12-31 20:18:44</td>\n",
       "      <td>0 days 01:16:20</td>\n",
       "    </tr>\n",
       "    <tr>\n",
       "      <th>...</th>\n",
       "      <td>...</td>\n",
       "      <td>...</td>\n",
       "      <td>...</td>\n",
       "      <td>...</td>\n",
       "      <td>...</td>\n",
       "    </tr>\n",
       "    <tr>\n",
       "      <th>999907</th>\n",
       "      <td>6040</td>\n",
       "      <td>3095</td>\n",
       "      <td>4</td>\n",
       "      <td>2000-07-10 23:22:23</td>\n",
       "      <td>26 days 14:27:36</td>\n",
       "    </tr>\n",
       "    <tr>\n",
       "      <th>999979</th>\n",
       "      <td>6040</td>\n",
       "      <td>1900</td>\n",
       "      <td>5</td>\n",
       "      <td>2000-07-28 23:52:32</td>\n",
       "      <td>18 days 00:16:26</td>\n",
       "    </tr>\n",
       "    <tr>\n",
       "      <th>999975</th>\n",
       "      <td>6040</td>\n",
       "      <td>3182</td>\n",
       "      <td>5</td>\n",
       "      <td>2001-03-10 03:41:22</td>\n",
       "      <td>224 days 03:39:42</td>\n",
       "    </tr>\n",
       "    <tr>\n",
       "      <th>999984</th>\n",
       "      <td>6040</td>\n",
       "      <td>2575</td>\n",
       "      <td>4</td>\n",
       "      <td>2001-08-10 14:29:22</td>\n",
       "      <td>153 days 10:48:00</td>\n",
       "    </tr>\n",
       "    <tr>\n",
       "      <th>1000042</th>\n",
       "      <td>6040</td>\n",
       "      <td>1221</td>\n",
       "      <td>4</td>\n",
       "      <td>2001-08-20 13:44:15</td>\n",
       "      <td>9 days 23:02:49</td>\n",
       "    </tr>\n",
       "  </tbody>\n",
       "</table>\n",
       "<p>28273 rows × 5 columns</p>\n",
       "</div>"
      ],
      "text/plain": [
       "         UserId  ItemId  Rating                Time          TimeDiff\n",
       "9             1     919       4 2000-12-31 22:22:48   0 days 00:10:08\n",
       "28            1    1545       4 2001-01-06 23:35:39   6 days 00:57:38\n",
       "130           2    1198       4 2000-12-31 21:28:44   6 days 02:10:27\n",
       "217           3     593       3 2000-12-31 21:10:18   0 days 00:52:36\n",
       "234           4    1210       3 2000-12-31 20:18:44   0 days 01:16:20\n",
       "...         ...     ...     ...                 ...               ...\n",
       "999907     6040    3095       4 2000-07-10 23:22:23  26 days 14:27:36\n",
       "999979     6040    1900       5 2000-07-28 23:52:32  18 days 00:16:26\n",
       "999975     6040    3182       5 2001-03-10 03:41:22 224 days 03:39:42\n",
       "999984     6040    2575       4 2001-08-10 14:29:22 153 days 10:48:00\n",
       "1000042    6040    1221       4 2001-08-20 13:44:15   9 days 23:02:49\n",
       "\n",
       "[28273 rows x 5 columns]"
      ]
     },
     "execution_count": 56,
     "metadata": {},
     "output_type": "execute_result"
    }
   ],
   "source": [
    "td = datetime.timedelta(minutes=10)\n",
    "data[data['TimeDiff']>td]"
   ]
  },
  {
   "cell_type": "markdown",
   "id": "4ba7bed5",
   "metadata": {},
   "source": [
    "#### UserIdDiff 컬럼 생성"
   ]
  },
  {
   "cell_type": "code",
   "execution_count": 57,
   "id": "063d25c3",
   "metadata": {},
   "outputs": [
    {
     "data": {
      "text/plain": [
       "31         0.0\n",
       "22         0.0\n",
       "27         0.0\n",
       "37         0.0\n",
       "24         0.0\n",
       "          ... \n",
       "1000019    0.0\n",
       "999988     0.0\n",
       "1000172    0.0\n",
       "1000167    0.0\n",
       "1000042    0.0\n",
       "Name: UserIdDiff, Length: 1000209, dtype: float64"
      ]
     },
     "execution_count": 57,
     "metadata": {},
     "output_type": "execute_result"
    }
   ],
   "source": [
    "data['UserIdDiff'] = data['UserId'].diff().abs()\n",
    "data['UserIdDiff'][31]=0\n",
    "data['UserIdDiff']"
   ]
  },
  {
   "cell_type": "markdown",
   "id": "9764ab19",
   "metadata": {},
   "source": [
    "#### Session이 달라지는 곳을 찾아내서 SessionChange 컬럼 생성"
   ]
  },
  {
   "cell_type": "code",
   "execution_count": 58,
   "id": "52c9017d",
   "metadata": {},
   "outputs": [
    {
     "data": {
      "text/html": [
       "<div>\n",
       "<style scoped>\n",
       "    .dataframe tbody tr th:only-of-type {\n",
       "        vertical-align: middle;\n",
       "    }\n",
       "\n",
       "    .dataframe tbody tr th {\n",
       "        vertical-align: top;\n",
       "    }\n",
       "\n",
       "    .dataframe thead th {\n",
       "        text-align: right;\n",
       "    }\n",
       "</style>\n",
       "<table border=\"1\" class=\"dataframe\">\n",
       "  <thead>\n",
       "    <tr style=\"text-align: right;\">\n",
       "      <th></th>\n",
       "      <th>UserId</th>\n",
       "      <th>ItemId</th>\n",
       "      <th>Rating</th>\n",
       "      <th>Time</th>\n",
       "      <th>TimeDiff</th>\n",
       "      <th>UserIdDiff</th>\n",
       "    </tr>\n",
       "  </thead>\n",
       "  <tbody>\n",
       "    <tr>\n",
       "      <th>9</th>\n",
       "      <td>1</td>\n",
       "      <td>919</td>\n",
       "      <td>4</td>\n",
       "      <td>2000-12-31 22:22:48</td>\n",
       "      <td>0 days 00:10:08</td>\n",
       "      <td>0.0</td>\n",
       "    </tr>\n",
       "    <tr>\n",
       "      <th>28</th>\n",
       "      <td>1</td>\n",
       "      <td>1545</td>\n",
       "      <td>4</td>\n",
       "      <td>2001-01-06 23:35:39</td>\n",
       "      <td>6 days 00:57:38</td>\n",
       "      <td>0.0</td>\n",
       "    </tr>\n",
       "    <tr>\n",
       "      <th>130</th>\n",
       "      <td>2</td>\n",
       "      <td>1198</td>\n",
       "      <td>4</td>\n",
       "      <td>2000-12-31 21:28:44</td>\n",
       "      <td>6 days 02:10:27</td>\n",
       "      <td>1.0</td>\n",
       "    </tr>\n",
       "    <tr>\n",
       "      <th>217</th>\n",
       "      <td>3</td>\n",
       "      <td>593</td>\n",
       "      <td>3</td>\n",
       "      <td>2000-12-31 21:10:18</td>\n",
       "      <td>0 days 00:52:36</td>\n",
       "      <td>1.0</td>\n",
       "    </tr>\n",
       "    <tr>\n",
       "      <th>234</th>\n",
       "      <td>4</td>\n",
       "      <td>1210</td>\n",
       "      <td>3</td>\n",
       "      <td>2000-12-31 20:18:44</td>\n",
       "      <td>0 days 01:16:20</td>\n",
       "      <td>1.0</td>\n",
       "    </tr>\n",
       "    <tr>\n",
       "      <th>...</th>\n",
       "      <td>...</td>\n",
       "      <td>...</td>\n",
       "      <td>...</td>\n",
       "      <td>...</td>\n",
       "      <td>...</td>\n",
       "      <td>...</td>\n",
       "    </tr>\n",
       "    <tr>\n",
       "      <th>999907</th>\n",
       "      <td>6040</td>\n",
       "      <td>3095</td>\n",
       "      <td>4</td>\n",
       "      <td>2000-07-10 23:22:23</td>\n",
       "      <td>26 days 14:27:36</td>\n",
       "      <td>0.0</td>\n",
       "    </tr>\n",
       "    <tr>\n",
       "      <th>999979</th>\n",
       "      <td>6040</td>\n",
       "      <td>1900</td>\n",
       "      <td>5</td>\n",
       "      <td>2000-07-28 23:52:32</td>\n",
       "      <td>18 days 00:16:26</td>\n",
       "      <td>0.0</td>\n",
       "    </tr>\n",
       "    <tr>\n",
       "      <th>999975</th>\n",
       "      <td>6040</td>\n",
       "      <td>3182</td>\n",
       "      <td>5</td>\n",
       "      <td>2001-03-10 03:41:22</td>\n",
       "      <td>224 days 03:39:42</td>\n",
       "      <td>0.0</td>\n",
       "    </tr>\n",
       "    <tr>\n",
       "      <th>999984</th>\n",
       "      <td>6040</td>\n",
       "      <td>2575</td>\n",
       "      <td>4</td>\n",
       "      <td>2001-08-10 14:29:22</td>\n",
       "      <td>153 days 10:48:00</td>\n",
       "      <td>0.0</td>\n",
       "    </tr>\n",
       "    <tr>\n",
       "      <th>1000042</th>\n",
       "      <td>6040</td>\n",
       "      <td>1221</td>\n",
       "      <td>4</td>\n",
       "      <td>2001-08-20 13:44:15</td>\n",
       "      <td>9 days 23:02:49</td>\n",
       "      <td>0.0</td>\n",
       "    </tr>\n",
       "  </tbody>\n",
       "</table>\n",
       "<p>28378 rows × 6 columns</p>\n",
       "</div>"
      ],
      "text/plain": [
       "         UserId  ItemId  Rating                Time          TimeDiff  \\\n",
       "9             1     919       4 2000-12-31 22:22:48   0 days 00:10:08   \n",
       "28            1    1545       4 2001-01-06 23:35:39   6 days 00:57:38   \n",
       "130           2    1198       4 2000-12-31 21:28:44   6 days 02:10:27   \n",
       "217           3     593       3 2000-12-31 21:10:18   0 days 00:52:36   \n",
       "234           4    1210       3 2000-12-31 20:18:44   0 days 01:16:20   \n",
       "...         ...     ...     ...                 ...               ...   \n",
       "999907     6040    3095       4 2000-07-10 23:22:23  26 days 14:27:36   \n",
       "999979     6040    1900       5 2000-07-28 23:52:32  18 days 00:16:26   \n",
       "999975     6040    3182       5 2001-03-10 03:41:22 224 days 03:39:42   \n",
       "999984     6040    2575       4 2001-08-10 14:29:22 153 days 10:48:00   \n",
       "1000042    6040    1221       4 2001-08-20 13:44:15   9 days 23:02:49   \n",
       "\n",
       "         UserIdDiff  \n",
       "9               0.0  \n",
       "28              0.0  \n",
       "130             1.0  \n",
       "217             1.0  \n",
       "234             1.0  \n",
       "...             ...  \n",
       "999907          0.0  \n",
       "999979          0.0  \n",
       "999975          0.0  \n",
       "999984          0.0  \n",
       "1000042         0.0  \n",
       "\n",
       "[28378 rows x 6 columns]"
      ]
     },
     "execution_count": 58,
     "metadata": {},
     "output_type": "execute_result"
    }
   ],
   "source": [
    "data[(data['UserIdDiff']!=0) | (data['TimeDiff'] > td)]"
   ]
  },
  {
   "cell_type": "code",
   "execution_count": 59,
   "id": "c4f0e451",
   "metadata": {
    "scrolled": false
   },
   "outputs": [
    {
     "data": {
      "text/plain": [
       "31         False\n",
       "22         False\n",
       "27         False\n",
       "37         False\n",
       "24         False\n",
       "           ...  \n",
       "1000019    False\n",
       "999988     False\n",
       "1000172    False\n",
       "1000167    False\n",
       "1000042     True\n",
       "Name: SessionChange, Length: 1000209, dtype: bool"
      ]
     },
     "execution_count": 59,
     "metadata": {},
     "output_type": "execute_result"
    }
   ],
   "source": [
    "data['SessionChange'] = (data['UserIdDiff']!=0) | (data['TimeDiff'] > td)\n",
    "data['SessionChange']"
   ]
  },
  {
   "cell_type": "code",
   "execution_count": 60,
   "id": "34d5820a",
   "metadata": {},
   "outputs": [
    {
     "data": {
      "text/plain": [
       "False    971831\n",
       "True      28378\n",
       "Name: SessionChange, dtype: int64"
      ]
     },
     "execution_count": 60,
     "metadata": {},
     "output_type": "execute_result"
    }
   ],
   "source": [
    "data['SessionChange'].value_counts()"
   ]
  },
  {
   "cell_type": "markdown",
   "id": "462fd751",
   "metadata": {},
   "source": [
    "#### SessionChange를 바탕으로 SessionId 생성"
   ]
  },
  {
   "cell_type": "code",
   "execution_count": 61,
   "id": "73811a09",
   "metadata": {},
   "outputs": [
    {
     "data": {
      "text/plain": [
       "31             0\n",
       "22             0\n",
       "27             0\n",
       "37             0\n",
       "24             0\n",
       "           ...  \n",
       "1000019    28377\n",
       "999988     28377\n",
       "1000172    28377\n",
       "1000167    28377\n",
       "1000042    28378\n",
       "Name: SessionId, Length: 1000209, dtype: int64"
      ]
     },
     "execution_count": 61,
     "metadata": {},
     "output_type": "execute_result"
    }
   ],
   "source": [
    "data['SessionId'] = data['SessionChange'].cumsum()\n",
    "data['SessionId']"
   ]
  },
  {
   "cell_type": "code",
   "execution_count": 62,
   "id": "4bf0c4bd",
   "metadata": {},
   "outputs": [
    {
     "name": "stdout",
     "output_type": "stream",
     "text": [
      "<class 'pandas.core.frame.DataFrame'>\n",
      "Int64Index: 1000209 entries, 31 to 1000042\n",
      "Data columns (total 8 columns):\n",
      " #   Column         Non-Null Count    Dtype          \n",
      "---  ------         --------------    -----          \n",
      " 0   UserId         1000209 non-null  int32          \n",
      " 1   ItemId         1000209 non-null  int32          \n",
      " 2   Rating         1000209 non-null  int32          \n",
      " 3   Time           1000209 non-null  datetime64[ns] \n",
      " 4   TimeDiff       1000209 non-null  timedelta64[ns]\n",
      " 5   UserIdDiff     1000209 non-null  float64        \n",
      " 6   SessionChange  1000209 non-null  bool           \n",
      " 7   SessionId      1000209 non-null  int64          \n",
      "dtypes: bool(1), datetime64[ns](1), float64(1), int32(3), int64(1), timedelta64[ns](1)\n",
      "memory usage: 82.8 MB\n"
     ]
    }
   ],
   "source": [
    "data.info()"
   ]
  },
  {
   "cell_type": "code",
   "execution_count": 63,
   "id": "6944a751",
   "metadata": {},
   "outputs": [
    {
     "data": {
      "text/plain": [
       "SessionId\n",
       "0         12\n",
       "1         28\n",
       "2         13\n",
       "3        129\n",
       "4         51\n",
       "        ... \n",
       "28374      7\n",
       "28375     14\n",
       "28376      1\n",
       "28377     21\n",
       "28378      1\n",
       "Length: 28379, dtype: int64"
      ]
     },
     "execution_count": 63,
     "metadata": {},
     "output_type": "execute_result"
    }
   ],
   "source": [
    "session_length = data.groupby('SessionId').size()\n",
    "session_length"
   ]
  },
  {
   "cell_type": "code",
   "execution_count": 64,
   "id": "73212858",
   "metadata": {},
   "outputs": [
    {
     "data": {
      "text/plain": [
       "(6.0, 35.244687973501534)"
      ]
     },
     "execution_count": 64,
     "metadata": {},
     "output_type": "execute_result"
    }
   ],
   "source": [
    "session_length.median(), session_length.mean()"
   ]
  },
  {
   "cell_type": "code",
   "execution_count": 65,
   "id": "95e4765d",
   "metadata": {},
   "outputs": [
    {
     "data": {
      "text/plain": [
       "(1, 1193)"
      ]
     },
     "execution_count": 65,
     "metadata": {},
     "output_type": "execute_result"
    }
   ],
   "source": [
    "session_length.min(), session_length.max()"
   ]
  },
  {
   "cell_type": "code",
   "execution_count": 66,
   "id": "581ec0f6",
   "metadata": {},
   "outputs": [
    {
     "data": {
      "text/plain": [
       "683.1100000000151"
      ]
     },
     "execution_count": 66,
     "metadata": {},
     "output_type": "execute_result"
    }
   ],
   "source": [
    "session_length.quantile(0.999)"
   ]
  },
  {
   "cell_type": "code",
   "execution_count": 67,
   "id": "79aa1350",
   "metadata": {
    "scrolled": true
   },
   "outputs": [
    {
     "data": {
      "text/html": [
       "<div>\n",
       "<style scoped>\n",
       "    .dataframe tbody tr th:only-of-type {\n",
       "        vertical-align: middle;\n",
       "    }\n",
       "\n",
       "    .dataframe tbody tr th {\n",
       "        vertical-align: top;\n",
       "    }\n",
       "\n",
       "    .dataframe thead th {\n",
       "        text-align: right;\n",
       "    }\n",
       "</style>\n",
       "<table border=\"1\" class=\"dataframe\">\n",
       "  <thead>\n",
       "    <tr style=\"text-align: right;\">\n",
       "      <th></th>\n",
       "      <th>UserId</th>\n",
       "      <th>ItemId</th>\n",
       "      <th>Rating</th>\n",
       "      <th>Time</th>\n",
       "      <th>TimeDiff</th>\n",
       "      <th>UserIdDiff</th>\n",
       "      <th>SessionChange</th>\n",
       "      <th>SessionId</th>\n",
       "    </tr>\n",
       "  </thead>\n",
       "  <tbody>\n",
       "    <tr>\n",
       "      <th>637775</th>\n",
       "      <td>3841</td>\n",
       "      <td>1480</td>\n",
       "      <td>3</td>\n",
       "      <td>2000-08-11 11:57:39</td>\n",
       "      <td>0 days 21:58:11</td>\n",
       "      <td>0.0</td>\n",
       "      <td>True</td>\n",
       "      <td>18614</td>\n",
       "    </tr>\n",
       "    <tr>\n",
       "      <th>637808</th>\n",
       "      <td>3841</td>\n",
       "      <td>969</td>\n",
       "      <td>5</td>\n",
       "      <td>2000-08-11 11:57:39</td>\n",
       "      <td>0 days 00:00:00</td>\n",
       "      <td>0.0</td>\n",
       "      <td>False</td>\n",
       "      <td>18614</td>\n",
       "    </tr>\n",
       "    <tr>\n",
       "      <th>638269</th>\n",
       "      <td>3841</td>\n",
       "      <td>858</td>\n",
       "      <td>5</td>\n",
       "      <td>2000-08-11 11:57:39</td>\n",
       "      <td>0 days 00:00:00</td>\n",
       "      <td>0.0</td>\n",
       "      <td>False</td>\n",
       "      <td>18614</td>\n",
       "    </tr>\n",
       "    <tr>\n",
       "      <th>638716</th>\n",
       "      <td>3841</td>\n",
       "      <td>2019</td>\n",
       "      <td>5</td>\n",
       "      <td>2000-08-11 11:57:39</td>\n",
       "      <td>0 days 00:00:00</td>\n",
       "      <td>0.0</td>\n",
       "      <td>False</td>\n",
       "      <td>18614</td>\n",
       "    </tr>\n",
       "    <tr>\n",
       "      <th>638733</th>\n",
       "      <td>3841</td>\n",
       "      <td>1221</td>\n",
       "      <td>5</td>\n",
       "      <td>2000-08-11 11:57:39</td>\n",
       "      <td>0 days 00:00:00</td>\n",
       "      <td>0.0</td>\n",
       "      <td>False</td>\n",
       "      <td>18614</td>\n",
       "    </tr>\n",
       "    <tr>\n",
       "      <th>637782</th>\n",
       "      <td>3841</td>\n",
       "      <td>2288</td>\n",
       "      <td>2</td>\n",
       "      <td>2000-08-11 11:58:36</td>\n",
       "      <td>0 days 00:00:57</td>\n",
       "      <td>0.0</td>\n",
       "      <td>False</td>\n",
       "      <td>18614</td>\n",
       "    </tr>\n",
       "    <tr>\n",
       "      <th>638122</th>\n",
       "      <td>3841</td>\n",
       "      <td>1304</td>\n",
       "      <td>5</td>\n",
       "      <td>2000-08-11 11:58:36</td>\n",
       "      <td>0 days 00:00:00</td>\n",
       "      <td>0.0</td>\n",
       "      <td>False</td>\n",
       "      <td>18614</td>\n",
       "    </tr>\n",
       "    <tr>\n",
       "      <th>638172</th>\n",
       "      <td>3841</td>\n",
       "      <td>1196</td>\n",
       "      <td>3</td>\n",
       "      <td>2000-08-11 11:58:36</td>\n",
       "      <td>0 days 00:00:00</td>\n",
       "      <td>0.0</td>\n",
       "      <td>False</td>\n",
       "      <td>18614</td>\n",
       "    </tr>\n",
       "    <tr>\n",
       "      <th>638266</th>\n",
       "      <td>3841</td>\n",
       "      <td>1387</td>\n",
       "      <td>5</td>\n",
       "      <td>2000-08-11 11:58:36</td>\n",
       "      <td>0 days 00:00:00</td>\n",
       "      <td>0.0</td>\n",
       "      <td>False</td>\n",
       "      <td>18614</td>\n",
       "    </tr>\n",
       "    <tr>\n",
       "      <th>638310</th>\n",
       "      <td>3841</td>\n",
       "      <td>2366</td>\n",
       "      <td>5</td>\n",
       "      <td>2000-08-11 11:58:36</td>\n",
       "      <td>0 days 00:00:00</td>\n",
       "      <td>0.0</td>\n",
       "      <td>False</td>\n",
       "      <td>18614</td>\n",
       "    </tr>\n",
       "    <tr>\n",
       "      <th>638520</th>\n",
       "      <td>3841</td>\n",
       "      <td>1953</td>\n",
       "      <td>5</td>\n",
       "      <td>2000-08-11 11:58:36</td>\n",
       "      <td>0 days 00:00:00</td>\n",
       "      <td>0.0</td>\n",
       "      <td>False</td>\n",
       "      <td>18614</td>\n",
       "    </tr>\n",
       "    <tr>\n",
       "      <th>638741</th>\n",
       "      <td>3841</td>\n",
       "      <td>2028</td>\n",
       "      <td>4</td>\n",
       "      <td>2000-08-11 11:58:36</td>\n",
       "      <td>0 days 00:00:00</td>\n",
       "      <td>0.0</td>\n",
       "      <td>False</td>\n",
       "      <td>18614</td>\n",
       "    </tr>\n",
       "    <tr>\n",
       "      <th>638090</th>\n",
       "      <td>3841</td>\n",
       "      <td>474</td>\n",
       "      <td>4</td>\n",
       "      <td>2000-08-11 11:59:13</td>\n",
       "      <td>0 days 00:00:37</td>\n",
       "      <td>0.0</td>\n",
       "      <td>False</td>\n",
       "      <td>18614</td>\n",
       "    </tr>\n",
       "    <tr>\n",
       "      <th>638535</th>\n",
       "      <td>3841</td>\n",
       "      <td>3702</td>\n",
       "      <td>4</td>\n",
       "      <td>2000-08-11 11:59:13</td>\n",
       "      <td>0 days 00:00:00</td>\n",
       "      <td>0.0</td>\n",
       "      <td>False</td>\n",
       "      <td>18614</td>\n",
       "    </tr>\n",
       "    <tr>\n",
       "      <th>638673</th>\n",
       "      <td>3841</td>\n",
       "      <td>1201</td>\n",
       "      <td>5</td>\n",
       "      <td>2000-08-11 11:59:13</td>\n",
       "      <td>0 days 00:00:00</td>\n",
       "      <td>0.0</td>\n",
       "      <td>False</td>\n",
       "      <td>18614</td>\n",
       "    </tr>\n",
       "    <tr>\n",
       "      <th>638711</th>\n",
       "      <td>3841</td>\n",
       "      <td>1214</td>\n",
       "      <td>5</td>\n",
       "      <td>2000-08-11 11:59:13</td>\n",
       "      <td>0 days 00:00:00</td>\n",
       "      <td>0.0</td>\n",
       "      <td>False</td>\n",
       "      <td>18614</td>\n",
       "    </tr>\n",
       "    <tr>\n",
       "      <th>638765</th>\n",
       "      <td>3841</td>\n",
       "      <td>1233</td>\n",
       "      <td>4</td>\n",
       "      <td>2000-08-11 11:59:13</td>\n",
       "      <td>0 days 00:00:00</td>\n",
       "      <td>0.0</td>\n",
       "      <td>False</td>\n",
       "      <td>18614</td>\n",
       "    </tr>\n",
       "    <tr>\n",
       "      <th>637666</th>\n",
       "      <td>3841</td>\n",
       "      <td>1287</td>\n",
       "      <td>5</td>\n",
       "      <td>2000-08-11 11:59:53</td>\n",
       "      <td>0 days 00:00:40</td>\n",
       "      <td>0.0</td>\n",
       "      <td>False</td>\n",
       "      <td>18614</td>\n",
       "    </tr>\n",
       "    <tr>\n",
       "      <th>637726</th>\n",
       "      <td>3841</td>\n",
       "      <td>3062</td>\n",
       "      <td>4</td>\n",
       "      <td>2000-08-11 11:59:53</td>\n",
       "      <td>0 days 00:00:00</td>\n",
       "      <td>0.0</td>\n",
       "      <td>False</td>\n",
       "      <td>18614</td>\n",
       "    </tr>\n",
       "    <tr>\n",
       "      <th>638521</th>\n",
       "      <td>3841</td>\n",
       "      <td>1954</td>\n",
       "      <td>4</td>\n",
       "      <td>2000-08-11 11:59:53</td>\n",
       "      <td>0 days 00:00:00</td>\n",
       "      <td>0.0</td>\n",
       "      <td>False</td>\n",
       "      <td>18614</td>\n",
       "    </tr>\n",
       "  </tbody>\n",
       "</table>\n",
       "</div>"
      ],
      "text/plain": [
       "        UserId  ItemId  Rating                Time        TimeDiff  \\\n",
       "637775    3841    1480       3 2000-08-11 11:57:39 0 days 21:58:11   \n",
       "637808    3841     969       5 2000-08-11 11:57:39 0 days 00:00:00   \n",
       "638269    3841     858       5 2000-08-11 11:57:39 0 days 00:00:00   \n",
       "638716    3841    2019       5 2000-08-11 11:57:39 0 days 00:00:00   \n",
       "638733    3841    1221       5 2000-08-11 11:57:39 0 days 00:00:00   \n",
       "637782    3841    2288       2 2000-08-11 11:58:36 0 days 00:00:57   \n",
       "638122    3841    1304       5 2000-08-11 11:58:36 0 days 00:00:00   \n",
       "638172    3841    1196       3 2000-08-11 11:58:36 0 days 00:00:00   \n",
       "638266    3841    1387       5 2000-08-11 11:58:36 0 days 00:00:00   \n",
       "638310    3841    2366       5 2000-08-11 11:58:36 0 days 00:00:00   \n",
       "638520    3841    1953       5 2000-08-11 11:58:36 0 days 00:00:00   \n",
       "638741    3841    2028       4 2000-08-11 11:58:36 0 days 00:00:00   \n",
       "638090    3841     474       4 2000-08-11 11:59:13 0 days 00:00:37   \n",
       "638535    3841    3702       4 2000-08-11 11:59:13 0 days 00:00:00   \n",
       "638673    3841    1201       5 2000-08-11 11:59:13 0 days 00:00:00   \n",
       "638711    3841    1214       5 2000-08-11 11:59:13 0 days 00:00:00   \n",
       "638765    3841    1233       4 2000-08-11 11:59:13 0 days 00:00:00   \n",
       "637666    3841    1287       5 2000-08-11 11:59:53 0 days 00:00:40   \n",
       "637726    3841    3062       4 2000-08-11 11:59:53 0 days 00:00:00   \n",
       "638521    3841    1954       4 2000-08-11 11:59:53 0 days 00:00:00   \n",
       "\n",
       "        UserIdDiff  SessionChange  SessionId  \n",
       "637775         0.0           True      18614  \n",
       "637808         0.0          False      18614  \n",
       "638269         0.0          False      18614  \n",
       "638716         0.0          False      18614  \n",
       "638733         0.0          False      18614  \n",
       "637782         0.0          False      18614  \n",
       "638122         0.0          False      18614  \n",
       "638172         0.0          False      18614  \n",
       "638266         0.0          False      18614  \n",
       "638310         0.0          False      18614  \n",
       "638520         0.0          False      18614  \n",
       "638741         0.0          False      18614  \n",
       "638090         0.0          False      18614  \n",
       "638535         0.0          False      18614  \n",
       "638673         0.0          False      18614  \n",
       "638711         0.0          False      18614  \n",
       "638765         0.0          False      18614  \n",
       "637666         0.0          False      18614  \n",
       "637726         0.0          False      18614  \n",
       "638521         0.0          False      18614  "
      ]
     },
     "execution_count": 67,
     "metadata": {},
     "output_type": "execute_result"
    }
   ],
   "source": [
    "long_session = session_length[session_length==1193].index[0]\n",
    "data[data['SessionId']==long_session].head(20)"
   ]
  },
  {
   "cell_type": "code",
   "execution_count": 68,
   "id": "7a3e7497",
   "metadata": {},
   "outputs": [
    {
     "data": {
      "text/plain": [
       "1      0.280101\n",
       "2      0.383030\n",
       "3      0.433701\n",
       "4      0.467775\n",
       "5      0.498467\n",
       "         ...   \n",
       "663    0.998802\n",
       "670    0.998872\n",
       "671    0.998908\n",
       "674    0.998943\n",
       "680    0.998978\n",
       "Length: 507, dtype: float64"
      ]
     },
     "execution_count": 68,
     "metadata": {},
     "output_type": "execute_result"
    }
   ],
   "source": [
    "# 세션 길이 기준 하위 99.9%까지 분포 누적합 시각화\n",
    "length_count = session_length.groupby(session_length).size()\n",
    "length_percent_cumsum = length_count.cumsum() / length_count.sum()\n",
    "length_percent_cumsum_999 = length_percent_cumsum[length_percent_cumsum < 0.999]\n",
    "\n",
    "length_percent_cumsum_999"
   ]
  },
  {
   "cell_type": "code",
   "execution_count": 69,
   "id": "c5bc445e",
   "metadata": {},
   "outputs": [
    {
     "data": {
      "image/png": "[encoded data removed]",
      "text/plain": [
       "<Figure size 864x720 with 1 Axes>"
      ]
     },
     "metadata": {
      "needs_background": "light"
     },
     "output_type": "display_data"
    }
   ],
   "source": [
    "import matplotlib.pyplot as plt\n",
    "\n",
    "plt.figure(figsize=(12, 10))\n",
    "plt.bar(x=length_percent_cumsum_999.index,\n",
    "        height=length_percent_cumsum_999, color='red')\n",
    "plt.xticks(length_percent_cumsum_999.index)\n",
    "plt.yticks(np.arange(0, 1.01, 0.05))\n",
    "plt.title('Cumsum Percentage Until 0.999', size=20)\n",
    "plt.show()"
   ]
  },
  {
   "cell_type": "code",
   "execution_count": 70,
   "id": "57c7936b",
   "metadata": {},
   "outputs": [
    {
     "name": "stdout",
     "output_type": "stream",
     "text": [
      "2000-04-25 23:05:32\n",
      "2003-02-28 17:49:50\n"
     ]
    }
   ],
   "source": [
    "oldest, latest = data['Time'].min(), data['Time'].max()\n",
    "print(oldest) \n",
    "print(latest)"
   ]
  },
  {
   "cell_type": "code",
   "execution_count": 78,
   "id": "c682e9c7",
   "metadata": {},
   "outputs": [],
   "source": [
    "def cleanse_recursive(data: pd.DataFrame, shortest, least_click, least_rating) -> pd.DataFrame:\n",
    "    while True:\n",
    "        before_len = len(data)\n",
    "        data = cleanse_short_session(data, shortest)\n",
    "        data = cleanse_unpopular_item(data, least_click)\n",
    "        data = cleanse_unfavorite_item(data, least_rating)\n",
    "        after_len = len(data)\n",
    "        if before_len == after_len:\n",
    "            break\n",
    "    return data\n",
    "\n",
    "\n",
    "def cleanse_short_session(data: pd.DataFrame, shortest):\n",
    "    session_len = data.groupby('SessionId').size()\n",
    "    session_use = session_len[session_len >= shortest].index\n",
    "    data = data[data['SessionId'].isin(session_use)]\n",
    "    return data\n",
    "\n",
    "\n",
    "def cleanse_unpopular_item(data: pd.DataFrame, least_click):\n",
    "    item_popular = data.groupby('ItemId').size()\n",
    "    item_use = item_popular[item_popular >= least_click].index\n",
    "    data = data[data['ItemId'].isin(item_use)]\n",
    "    return data\n",
    "\n",
    "\n",
    "def cleanse_unfavorite_item(data: pd.DataFrame, least_rating):\n",
    "    data = data.drop(data[data['Rating'] < least_rating].index)\n",
    "    return data"
   ]
  },
  {
   "cell_type": "code",
   "execution_count": 79,
   "id": "f4dce9a3",
   "metadata": {
    "scrolled": true
   },
   "outputs": [
    {
     "data": {
      "text/html": [
       "<div>\n",
       "<style scoped>\n",
       "    .dataframe tbody tr th:only-of-type {\n",
       "        vertical-align: middle;\n",
       "    }\n",
       "\n",
       "    .dataframe tbody tr th {\n",
       "        vertical-align: top;\n",
       "    }\n",
       "\n",
       "    .dataframe thead th {\n",
       "        text-align: right;\n",
       "    }\n",
       "</style>\n",
       "<table border=\"1\" class=\"dataframe\">\n",
       "  <thead>\n",
       "    <tr style=\"text-align: right;\">\n",
       "      <th></th>\n",
       "      <th>UserId</th>\n",
       "      <th>ItemId</th>\n",
       "      <th>Rating</th>\n",
       "      <th>Time</th>\n",
       "      <th>TimeDiff</th>\n",
       "      <th>UserIdDiff</th>\n",
       "      <th>SessionChange</th>\n",
       "      <th>SessionId</th>\n",
       "    </tr>\n",
       "  </thead>\n",
       "  <tbody>\n",
       "    <tr>\n",
       "      <th>31</th>\n",
       "      <td>1</td>\n",
       "      <td>3186</td>\n",
       "      <td>4</td>\n",
       "      <td>2000-12-31 22:00:19</td>\n",
       "      <td>0 days 00:00:00</td>\n",
       "      <td>0.0</td>\n",
       "      <td>False</td>\n",
       "      <td>0</td>\n",
       "    </tr>\n",
       "    <tr>\n",
       "      <th>22</th>\n",
       "      <td>1</td>\n",
       "      <td>1270</td>\n",
       "      <td>5</td>\n",
       "      <td>2000-12-31 22:00:55</td>\n",
       "      <td>0 days 00:00:36</td>\n",
       "      <td>0.0</td>\n",
       "      <td>False</td>\n",
       "      <td>0</td>\n",
       "    </tr>\n",
       "    <tr>\n",
       "      <th>27</th>\n",
       "      <td>1</td>\n",
       "      <td>1721</td>\n",
       "      <td>4</td>\n",
       "      <td>2000-12-31 22:00:55</td>\n",
       "      <td>0 days 00:00:00</td>\n",
       "      <td>0.0</td>\n",
       "      <td>False</td>\n",
       "      <td>0</td>\n",
       "    </tr>\n",
       "    <tr>\n",
       "      <th>37</th>\n",
       "      <td>1</td>\n",
       "      <td>1022</td>\n",
       "      <td>5</td>\n",
       "      <td>2000-12-31 22:00:55</td>\n",
       "      <td>0 days 00:00:00</td>\n",
       "      <td>0.0</td>\n",
       "      <td>False</td>\n",
       "      <td>0</td>\n",
       "    </tr>\n",
       "    <tr>\n",
       "      <th>24</th>\n",
       "      <td>1</td>\n",
       "      <td>2340</td>\n",
       "      <td>3</td>\n",
       "      <td>2000-12-31 22:01:43</td>\n",
       "      <td>0 days 00:00:48</td>\n",
       "      <td>0.0</td>\n",
       "      <td>False</td>\n",
       "      <td>0</td>\n",
       "    </tr>\n",
       "    <tr>\n",
       "      <th>...</th>\n",
       "      <td>...</td>\n",
       "      <td>...</td>\n",
       "      <td>...</td>\n",
       "      <td>...</td>\n",
       "      <td>...</td>\n",
       "      <td>...</td>\n",
       "      <td>...</td>\n",
       "      <td>...</td>\n",
       "    </tr>\n",
       "    <tr>\n",
       "      <th>999923</th>\n",
       "      <td>6040</td>\n",
       "      <td>232</td>\n",
       "      <td>5</td>\n",
       "      <td>2001-08-10 14:39:58</td>\n",
       "      <td>0 days 00:00:31</td>\n",
       "      <td>0.0</td>\n",
       "      <td>False</td>\n",
       "      <td>28377</td>\n",
       "    </tr>\n",
       "    <tr>\n",
       "      <th>1000019</th>\n",
       "      <td>6040</td>\n",
       "      <td>2917</td>\n",
       "      <td>4</td>\n",
       "      <td>2001-08-10 14:40:29</td>\n",
       "      <td>0 days 00:00:31</td>\n",
       "      <td>0.0</td>\n",
       "      <td>False</td>\n",
       "      <td>28377</td>\n",
       "    </tr>\n",
       "    <tr>\n",
       "      <th>999988</th>\n",
       "      <td>6040</td>\n",
       "      <td>1921</td>\n",
       "      <td>4</td>\n",
       "      <td>2001-08-10 14:41:04</td>\n",
       "      <td>0 days 00:00:35</td>\n",
       "      <td>0.0</td>\n",
       "      <td>False</td>\n",
       "      <td>28377</td>\n",
       "    </tr>\n",
       "    <tr>\n",
       "      <th>1000172</th>\n",
       "      <td>6040</td>\n",
       "      <td>1784</td>\n",
       "      <td>3</td>\n",
       "      <td>2001-08-10 14:41:04</td>\n",
       "      <td>0 days 00:00:00</td>\n",
       "      <td>0.0</td>\n",
       "      <td>False</td>\n",
       "      <td>28377</td>\n",
       "    </tr>\n",
       "    <tr>\n",
       "      <th>1000167</th>\n",
       "      <td>6040</td>\n",
       "      <td>161</td>\n",
       "      <td>3</td>\n",
       "      <td>2001-08-10 14:41:26</td>\n",
       "      <td>0 days 00:00:22</td>\n",
       "      <td>0.0</td>\n",
       "      <td>False</td>\n",
       "      <td>28377</td>\n",
       "    </tr>\n",
       "  </tbody>\n",
       "</table>\n",
       "<p>828100 rows × 8 columns</p>\n",
       "</div>"
      ],
      "text/plain": [
       "         UserId  ItemId  Rating                Time        TimeDiff  \\\n",
       "31            1    3186       4 2000-12-31 22:00:19 0 days 00:00:00   \n",
       "22            1    1270       5 2000-12-31 22:00:55 0 days 00:00:36   \n",
       "27            1    1721       4 2000-12-31 22:00:55 0 days 00:00:00   \n",
       "37            1    1022       5 2000-12-31 22:00:55 0 days 00:00:00   \n",
       "24            1    2340       3 2000-12-31 22:01:43 0 days 00:00:48   \n",
       "...         ...     ...     ...                 ...             ...   \n",
       "999923     6040     232       5 2001-08-10 14:39:58 0 days 00:00:31   \n",
       "1000019    6040    2917       4 2001-08-10 14:40:29 0 days 00:00:31   \n",
       "999988     6040    1921       4 2001-08-10 14:41:04 0 days 00:00:35   \n",
       "1000172    6040    1784       3 2001-08-10 14:41:04 0 days 00:00:00   \n",
       "1000167    6040     161       3 2001-08-10 14:41:26 0 days 00:00:22   \n",
       "\n",
       "         UserIdDiff  SessionChange  SessionId  \n",
       "31              0.0          False          0  \n",
       "22              0.0          False          0  \n",
       "27              0.0          False          0  \n",
       "37              0.0          False          0  \n",
       "24              0.0          False          0  \n",
       "...             ...            ...        ...  \n",
       "999923          0.0          False      28377  \n",
       "1000019         0.0          False      28377  \n",
       "999988          0.0          False      28377  \n",
       "1000172         0.0          False      28377  \n",
       "1000167         0.0          False      28377  \n",
       "\n",
       "[828100 rows x 8 columns]"
      ]
     },
     "execution_count": 79,
     "metadata": {},
     "output_type": "execute_result"
    }
   ],
   "source": [
    "data = cleanse_recursive(data, shortest=2, least_click=5, least_rating=3)\n",
    "data"
   ]
  },
  {
   "cell_type": "code",
   "execution_count": 80,
   "id": "c2832f70",
   "metadata": {},
   "outputs": [],
   "source": [
    "def split_by_date(data: pd.DataFrame, n_days: int):\n",
    "    final_time = data['Time'].max()\n",
    "    session_last_time = data.groupby('SessionId')['Time'].max()\n",
    "    session_in_train = session_last_time[session_last_time < final_time - dt.timedelta(n_days)].index\n",
    "    session_in_test = session_last_time[session_last_time >= final_time - dt.timedelta(n_days)].index\n",
    "\n",
    "    before_date = data[data['SessionId'].isin(session_in_train)]\n",
    "    after_date = data[data['SessionId'].isin(session_in_test)]\n",
    "    after_date = after_date[after_date['ItemId'].isin(before_date['ItemId'])]\n",
    "    return before_date, after_date"
   ]
  },
  {
   "cell_type": "markdown",
   "id": "d87eafb4",
   "metadata": {},
   "source": [
    "#### test 기간 60일, val 기간 60일로 설정"
   ]
  },
  {
   "cell_type": "code",
   "execution_count": 81,
   "id": "bd186259",
   "metadata": {},
   "outputs": [],
   "source": [
    "tr, test = split_by_date(data, n_days=60)\n",
    "tr, val = split_by_date(tr, n_days=60)"
   ]
  },
  {
   "cell_type": "code",
   "execution_count": 82,
   "id": "cb0db4a5",
   "metadata": {},
   "outputs": [],
   "source": [
    "# data에 대한 정보를 살펴봅니다.\n",
    "def stats_info(data: pd.DataFrame, status: str):\n",
    "    print(f'* {status} Set Stats Info\\n'\n",
    "          f'\\t Events: {len(data)}\\n'\n",
    "          f'\\t Sessions: {data[\"SessionId\"].nunique()}\\n'\n",
    "          f'\\t Items: {data[\"ItemId\"].nunique()}\\n'\n",
    "          f'\\t First Time : {data[\"Time\"].min()}\\n'\n",
    "          f'\\t Last Time : {data[\"Time\"].max()}\\n')"
   ]
  },
  {
   "cell_type": "code",
   "execution_count": 83,
   "id": "ec24cbc5",
   "metadata": {
    "scrolled": false
   },
   "outputs": [
    {
     "name": "stdout",
     "output_type": "stream",
     "text": [
      "* train Set Stats Info\n",
      "\t Events: 823258\n",
      "\t Sessions: 18958\n",
      "\t Items: 3298\n",
      "\t First Time : 2000-04-25 23:05:32\n",
      "\t Last Time : 2002-10-31 16:33:08\n",
      "\n",
      "* valid Set Stats Info\n",
      "\t Events: 2390\n",
      "\t Sessions: 207\n",
      "\t Items: 1246\n",
      "\t First Time : 2002-11-01 02:56:19\n",
      "\t Last Time : 2002-12-30 16:54:04\n",
      "\n",
      "* test Set Stats Info\n",
      "\t Events: 2452\n",
      "\t Sessions: 217\n",
      "\t Items: 1261\n",
      "\t First Time : 2002-12-30 19:06:03\n",
      "\t Last Time : 2003-02-28 17:49:50\n",
      "\n"
     ]
    }
   ],
   "source": [
    "stats_info(tr, 'train')\n",
    "stats_info(val, 'valid')\n",
    "stats_info(test, 'test')"
   ]
  },
  {
   "cell_type": "code",
   "execution_count": 84,
   "id": "c4d178ac",
   "metadata": {},
   "outputs": [],
   "source": [
    "# train set에 없는 아이템이 val, test기간에 생길 수 있으므로 train data를 기준으로 인덱싱합니다.\n",
    "id2idx = {item_id : index for index, item_id in enumerate(tr['ItemId'].unique())}\n",
    "\n",
    "def indexing(df, id2idx):\n",
    "    df['item_idx'] = df['ItemId'].map(lambda x: id2idx.get(x, -1))  # id2idx에 없는 아이템은 모르는 값(-1) 처리 해줍니다.\n",
    "    return df\n",
    "\n",
    "tr = indexing(tr, id2idx)\n",
    "val = indexing(val, id2idx)\n",
    "test = indexing(test, id2idx)"
   ]
  },
  {
   "cell_type": "code",
   "execution_count": 85,
   "id": "19f6cfba",
   "metadata": {},
   "outputs": [],
   "source": [
    "save_path = data_path / 'processed'\n",
    "save_path.mkdir(parents=True, exist_ok=True)\n",
    "\n",
    "tr.to_pickle(save_path / 'train.pkl')\n",
    "val.to_pickle(save_path / 'valid.pkl')\n",
    "test.to_pickle(save_path / 'test.pkl')"
   ]
  },
  {
   "cell_type": "code",
   "execution_count": null,
   "id": "2b17110e",
   "metadata": {},
   "outputs": [],
   "source": []
  },
  {
   "cell_type": "markdown",
   "id": "028a5a68",
   "metadata": {},
   "source": [
    "# 미니 배치의 구성"
   ]
  },
  {
   "cell_type": "markdown",
   "id": "0954b710",
   "metadata": {},
   "source": [
    "실습 코드 내역을 참고하여 데이터셋과 미니 배치를 구성해 봅시다. Session-Parallel Mini-Batch의 개념에 따라, 학습 속도의 저하가 최소화될 수 있도록 구성합니다.\n",
    "단, 위 Step 1에서 Session 단위를 어떻게 정의했느냐에 따라서 Session-Parallel Mini-Batch이 굳이 필요하지 않을 수도 있습니다."
   ]
  },
  {
   "cell_type": "code",
   "execution_count": 86,
   "id": "88da9773",
   "metadata": {},
   "outputs": [],
   "source": [
    "class SessionDataset:\n",
    "    \"\"\"Credit to yhs-968/pyGRU4REC.\"\"\"\n",
    "\n",
    "    def __init__(self, data):\n",
    "        self.df = data\n",
    "        self.click_offsets = self.get_click_offsets()\n",
    "        self.session_idx = np.arange(self.df['SessionId'].nunique())  # indexing to SessionId\n",
    "\n",
    "    def get_click_offsets(self):\n",
    "        \"\"\"\n",
    "        Return the indexes of the first click of each session IDs,\n",
    "        \"\"\"\n",
    "        offsets = np.zeros(self.df['SessionId'].nunique() + 1, dtype=np.int32)\n",
    "        offsets[1:] = self.df.groupby('SessionId').size().cumsum()\n",
    "        return offsets"
   ]
  },
  {
   "cell_type": "code",
   "execution_count": 87,
   "id": "dd2d3862",
   "metadata": {},
   "outputs": [
    {
     "data": {
      "text/plain": [
       "array([     0,     12,     40, ..., 823224, 823237, 823258], dtype=int32)"
      ]
     },
     "execution_count": 87,
     "metadata": {},
     "output_type": "execute_result"
    }
   ],
   "source": [
    "tr_dataset = SessionDataset(tr)\n",
    "tr_dataset.click_offsets"
   ]
  },
  {
   "cell_type": "code",
   "execution_count": 88,
   "id": "bba118e2",
   "metadata": {},
   "outputs": [
    {
     "data": {
      "text/plain": [
       "array([     0,     12,     40, ..., 823224, 823237, 823258], dtype=int32)"
      ]
     },
     "execution_count": 88,
     "metadata": {},
     "output_type": "execute_result"
    }
   ],
   "source": [
    "tr_dataset.click_offsets"
   ]
  },
  {
   "cell_type": "code",
   "execution_count": 89,
   "id": "744ffb83",
   "metadata": {},
   "outputs": [
    {
     "data": {
      "text/plain": [
       "array([    0,     1,     2, ..., 18955, 18956, 18957])"
      ]
     },
     "execution_count": 89,
     "metadata": {},
     "output_type": "execute_result"
    }
   ],
   "source": [
    "tr_dataset.session_idx"
   ]
  },
  {
   "cell_type": "code",
   "execution_count": 90,
   "id": "284e97ee",
   "metadata": {},
   "outputs": [],
   "source": [
    "class SessionDataLoader:\n",
    "    \"\"\"Credit to yhs-968/pyGRU4REC.\"\"\"\n",
    "\n",
    "    def __init__(self, dataset: SessionDataset, batch_size=50):\n",
    "        self.dataset = dataset\n",
    "        self.batch_size = batch_size\n",
    "\n",
    "    def __iter__(self):\n",
    "        \"\"\" Returns the iterator for producing session-parallel training mini-batches.\n",
    "        Yields:\n",
    "            input (B,):  Item indices that will be encoded as one-hot vectors later.\n",
    "            target (B,): a Variable that stores the target item indices\n",
    "            masks: Numpy array indicating the positions of the sessions to be terminated\n",
    "        \"\"\"\n",
    "\n",
    "        start, end, mask, last_session, finished = self.initialize()  # initialize 메소드에서 확인해주세요.\n",
    "        \"\"\"\n",
    "        start : Index Where Session Start\n",
    "        end : Index Where Session End\n",
    "        mask : indicator for the sessions to be terminated\n",
    "        \"\"\"\n",
    "        #print(start)\n",
    "        #print(end)\n",
    "        while not finished:\n",
    "            min_len = (end - start).min() - 1  # Shortest Length Among Sessions\n",
    "            for i in range(min_len):\n",
    "                # Build inputs & targets\n",
    "                inp = self.dataset.df['item_idx'].values[start + i]\n",
    "                target = self.dataset.df['item_idx'].values[start + i + 1]\n",
    "                yield inp, target, mask\n",
    "\n",
    "            start, end, mask, last_session, finished = self.update_status(start, end, min_len, last_session, finished)\n",
    "\n",
    "    def initialize(self):\n",
    "        length = len(self.dataset.session_idx)   \n",
    "        first_iters = np.arange(min(self.batch_size, length))    # 첫 배치에 사용할 세션 Index를 가져옵니다. [0, 1 ,...1496 .2048]\n",
    "        last_session = self.batch_size - 1  # 마지막으로 다루고 있는 세션 Index를 저장해둡니다.\n",
    "        start = self.dataset.click_offsets[self.dataset.session_idx[first_iters]]       # data 상에서 session이 시작된 위치를 가져옵니다.\n",
    "        end = self.dataset.click_offsets[self.dataset.session_idx[first_iters] + 1]  # session이 끝난 위치 바로 다음 위치를 가져옵니다.\n",
    "        mask = np.array([])   # session의 모든 아이템을 다 돌은 경우 mask에 추가해줄 것입니다.\n",
    "        finished = False         # data를 전부 돌았는지 기록하기 위한 변수입니다.\n",
    "        return start, end, mask, last_session, finished\n",
    "\n",
    "    def update_status(self, start: np.ndarray, end: np.ndarray, min_len: int, last_session: int, finished: bool):  \n",
    "        # 다음 배치 데이터를 생성하기 위해 상태를 update합니다.\n",
    "        \n",
    "        start += min_len   # __iter__에서 min_len 만큼 for문을 돌았으므로 start를 min_len 만큼 더해줍니다.\n",
    "        mask = np.arange(self.batch_size)[(end - start) == 1]  \n",
    "        # end는 다음 세션이 시작되는 위치인데 start와 한 칸 차이난다는 것은 session이 끝났다는 뜻입니다. mask에 기록해줍니다.\n",
    "\n",
    "        for i, idx in enumerate(mask, start=1):  # mask에 추가된 세션 개수만큼 새로운 세션을 돌것입니다.\n",
    "            new_session = last_session + i  \n",
    "            if new_session > self.dataset.session_idx[-1]:  # 만약 새로운 세션이 마지막 세션 index보다 크다면 모든 학습데이터를 돈 것입니다.\n",
    "                finished = True\n",
    "                break\n",
    "            # update the next starting/ending point\n",
    "            start[idx] = self.dataset.click_offsets[self.dataset.session_idx[new_session]]     # 종료된 세션 대신 새로운 세션의 시작점을 기록합니다.\n",
    "            end[idx] = self.dataset.click_offsets[self.dataset.session_idx[new_session] + 1]\n",
    "\n",
    "        last_session += len(mask)  # 마지막 세션의 위치를 기록해둡니다.\n",
    "        return start, end, mask, last_session, finished"
   ]
  },
  {
   "cell_type": "code",
   "execution_count": 91,
   "id": "4eaef5ae",
   "metadata": {},
   "outputs": [
    {
     "data": {
      "text/html": [
       "<div>\n",
       "<style scoped>\n",
       "    .dataframe tbody tr th:only-of-type {\n",
       "        vertical-align: middle;\n",
       "    }\n",
       "\n",
       "    .dataframe tbody tr th {\n",
       "        vertical-align: top;\n",
       "    }\n",
       "\n",
       "    .dataframe thead th {\n",
       "        text-align: right;\n",
       "    }\n",
       "</style>\n",
       "<table border=\"1\" class=\"dataframe\">\n",
       "  <thead>\n",
       "    <tr style=\"text-align: right;\">\n",
       "      <th></th>\n",
       "      <th>UserId</th>\n",
       "      <th>ItemId</th>\n",
       "      <th>Rating</th>\n",
       "      <th>Time</th>\n",
       "      <th>TimeDiff</th>\n",
       "      <th>UserIdDiff</th>\n",
       "      <th>SessionChange</th>\n",
       "      <th>SessionId</th>\n",
       "      <th>item_idx</th>\n",
       "    </tr>\n",
       "  </thead>\n",
       "  <tbody>\n",
       "    <tr>\n",
       "      <th>31</th>\n",
       "      <td>1</td>\n",
       "      <td>3186</td>\n",
       "      <td>4</td>\n",
       "      <td>2000-12-31 22:00:19</td>\n",
       "      <td>0 days 00:00:00</td>\n",
       "      <td>0.0</td>\n",
       "      <td>False</td>\n",
       "      <td>0</td>\n",
       "      <td>0</td>\n",
       "    </tr>\n",
       "    <tr>\n",
       "      <th>22</th>\n",
       "      <td>1</td>\n",
       "      <td>1270</td>\n",
       "      <td>5</td>\n",
       "      <td>2000-12-31 22:00:55</td>\n",
       "      <td>0 days 00:00:36</td>\n",
       "      <td>0.0</td>\n",
       "      <td>False</td>\n",
       "      <td>0</td>\n",
       "      <td>1</td>\n",
       "    </tr>\n",
       "    <tr>\n",
       "      <th>27</th>\n",
       "      <td>1</td>\n",
       "      <td>1721</td>\n",
       "      <td>4</td>\n",
       "      <td>2000-12-31 22:00:55</td>\n",
       "      <td>0 days 00:00:00</td>\n",
       "      <td>0.0</td>\n",
       "      <td>False</td>\n",
       "      <td>0</td>\n",
       "      <td>2</td>\n",
       "    </tr>\n",
       "    <tr>\n",
       "      <th>37</th>\n",
       "      <td>1</td>\n",
       "      <td>1022</td>\n",
       "      <td>5</td>\n",
       "      <td>2000-12-31 22:00:55</td>\n",
       "      <td>0 days 00:00:00</td>\n",
       "      <td>0.0</td>\n",
       "      <td>False</td>\n",
       "      <td>0</td>\n",
       "      <td>3</td>\n",
       "    </tr>\n",
       "    <tr>\n",
       "      <th>24</th>\n",
       "      <td>1</td>\n",
       "      <td>2340</td>\n",
       "      <td>3</td>\n",
       "      <td>2000-12-31 22:01:43</td>\n",
       "      <td>0 days 00:00:48</td>\n",
       "      <td>0.0</td>\n",
       "      <td>False</td>\n",
       "      <td>0</td>\n",
       "      <td>4</td>\n",
       "    </tr>\n",
       "    <tr>\n",
       "      <th>36</th>\n",
       "      <td>1</td>\n",
       "      <td>1836</td>\n",
       "      <td>5</td>\n",
       "      <td>2000-12-31 22:02:52</td>\n",
       "      <td>0 days 00:01:09</td>\n",
       "      <td>0.0</td>\n",
       "      <td>False</td>\n",
       "      <td>0</td>\n",
       "      <td>5</td>\n",
       "    </tr>\n",
       "    <tr>\n",
       "      <th>3</th>\n",
       "      <td>1</td>\n",
       "      <td>3408</td>\n",
       "      <td>4</td>\n",
       "      <td>2000-12-31 22:04:35</td>\n",
       "      <td>0 days 00:01:43</td>\n",
       "      <td>0.0</td>\n",
       "      <td>False</td>\n",
       "      <td>0</td>\n",
       "      <td>6</td>\n",
       "    </tr>\n",
       "    <tr>\n",
       "      <th>7</th>\n",
       "      <td>1</td>\n",
       "      <td>2804</td>\n",
       "      <td>5</td>\n",
       "      <td>2000-12-31 22:11:59</td>\n",
       "      <td>0 days 00:07:24</td>\n",
       "      <td>0.0</td>\n",
       "      <td>False</td>\n",
       "      <td>0</td>\n",
       "      <td>7</td>\n",
       "    </tr>\n",
       "    <tr>\n",
       "      <th>47</th>\n",
       "      <td>1</td>\n",
       "      <td>1207</td>\n",
       "      <td>4</td>\n",
       "      <td>2000-12-31 22:11:59</td>\n",
       "      <td>0 days 00:00:00</td>\n",
       "      <td>0.0</td>\n",
       "      <td>False</td>\n",
       "      <td>0</td>\n",
       "      <td>8</td>\n",
       "    </tr>\n",
       "    <tr>\n",
       "      <th>0</th>\n",
       "      <td>1</td>\n",
       "      <td>1193</td>\n",
       "      <td>5</td>\n",
       "      <td>2000-12-31 22:12:40</td>\n",
       "      <td>0 days 00:00:41</td>\n",
       "      <td>0.0</td>\n",
       "      <td>False</td>\n",
       "      <td>0</td>\n",
       "      <td>9</td>\n",
       "    </tr>\n",
       "    <tr>\n",
       "      <th>21</th>\n",
       "      <td>1</td>\n",
       "      <td>720</td>\n",
       "      <td>3</td>\n",
       "      <td>2000-12-31 22:12:40</td>\n",
       "      <td>0 days 00:00:00</td>\n",
       "      <td>0.0</td>\n",
       "      <td>False</td>\n",
       "      <td>0</td>\n",
       "      <td>10</td>\n",
       "    </tr>\n",
       "    <tr>\n",
       "      <th>44</th>\n",
       "      <td>1</td>\n",
       "      <td>260</td>\n",
       "      <td>4</td>\n",
       "      <td>2000-12-31 22:12:40</td>\n",
       "      <td>0 days 00:00:00</td>\n",
       "      <td>0.0</td>\n",
       "      <td>False</td>\n",
       "      <td>0</td>\n",
       "      <td>11</td>\n",
       "    </tr>\n",
       "    <tr>\n",
       "      <th>9</th>\n",
       "      <td>1</td>\n",
       "      <td>919</td>\n",
       "      <td>4</td>\n",
       "      <td>2000-12-31 22:22:48</td>\n",
       "      <td>0 days 00:10:08</td>\n",
       "      <td>0.0</td>\n",
       "      <td>True</td>\n",
       "      <td>1</td>\n",
       "      <td>12</td>\n",
       "    </tr>\n",
       "    <tr>\n",
       "      <th>51</th>\n",
       "      <td>1</td>\n",
       "      <td>608</td>\n",
       "      <td>4</td>\n",
       "      <td>2000-12-31 22:23:18</td>\n",
       "      <td>0 days 00:00:30</td>\n",
       "      <td>0.0</td>\n",
       "      <td>False</td>\n",
       "      <td>1</td>\n",
       "      <td>13</td>\n",
       "    </tr>\n",
       "    <tr>\n",
       "      <th>43</th>\n",
       "      <td>1</td>\n",
       "      <td>2692</td>\n",
       "      <td>4</td>\n",
       "      <td>2000-12-31 22:26:10</td>\n",
       "      <td>0 days 00:02:52</td>\n",
       "      <td>0.0</td>\n",
       "      <td>False</td>\n",
       "      <td>1</td>\n",
       "      <td>14</td>\n",
       "    </tr>\n",
       "  </tbody>\n",
       "</table>\n",
       "</div>"
      ],
      "text/plain": [
       "    UserId  ItemId  Rating                Time        TimeDiff  UserIdDiff  \\\n",
       "31       1    3186       4 2000-12-31 22:00:19 0 days 00:00:00         0.0   \n",
       "22       1    1270       5 2000-12-31 22:00:55 0 days 00:00:36         0.0   \n",
       "27       1    1721       4 2000-12-31 22:00:55 0 days 00:00:00         0.0   \n",
       "37       1    1022       5 2000-12-31 22:00:55 0 days 00:00:00         0.0   \n",
       "24       1    2340       3 2000-12-31 22:01:43 0 days 00:00:48         0.0   \n",
       "36       1    1836       5 2000-12-31 22:02:52 0 days 00:01:09         0.0   \n",
       "3        1    3408       4 2000-12-31 22:04:35 0 days 00:01:43         0.0   \n",
       "7        1    2804       5 2000-12-31 22:11:59 0 days 00:07:24         0.0   \n",
       "47       1    1207       4 2000-12-31 22:11:59 0 days 00:00:00         0.0   \n",
       "0        1    1193       5 2000-12-31 22:12:40 0 days 00:00:41         0.0   \n",
       "21       1     720       3 2000-12-31 22:12:40 0 days 00:00:00         0.0   \n",
       "44       1     260       4 2000-12-31 22:12:40 0 days 00:00:00         0.0   \n",
       "9        1     919       4 2000-12-31 22:22:48 0 days 00:10:08         0.0   \n",
       "51       1     608       4 2000-12-31 22:23:18 0 days 00:00:30         0.0   \n",
       "43       1    2692       4 2000-12-31 22:26:10 0 days 00:02:52         0.0   \n",
       "\n",
       "    SessionChange  SessionId  item_idx  \n",
       "31          False          0         0  \n",
       "22          False          0         1  \n",
       "27          False          0         2  \n",
       "37          False          0         3  \n",
       "24          False          0         4  \n",
       "36          False          0         5  \n",
       "3           False          0         6  \n",
       "7           False          0         7  \n",
       "47          False          0         8  \n",
       "0           False          0         9  \n",
       "21          False          0        10  \n",
       "44          False          0        11  \n",
       "9            True          1        12  \n",
       "51          False          1        13  \n",
       "43          False          1        14  "
      ]
     },
     "execution_count": 91,
     "metadata": {},
     "output_type": "execute_result"
    }
   ],
   "source": [
    "tr_data_loader = SessionDataLoader(tr_dataset, batch_size=4)\n",
    "tr_dataset.df.head(15)"
   ]
  },
  {
   "cell_type": "code",
   "execution_count": 92,
   "id": "05fef3da",
   "metadata": {},
   "outputs": [],
   "source": [
    "iter_ex = iter(tr_data_loader)"
   ]
  },
  {
   "cell_type": "code",
   "execution_count": 93,
   "id": "45f63b39",
   "metadata": {},
   "outputs": [
    {
     "name": "stdout",
     "output_type": "stream",
     "text": [
      "Model Input Item Idx are : [ 0 12 40 53]\n",
      "Label Item Idx are :       [ 1 13 41 54]\n",
      "Previous Masked Input Idx are []\n"
     ]
    }
   ],
   "source": [
    "inputs, labels, mask =  next(iter_ex)\n",
    "print(f'Model Input Item Idx are : {inputs}')\n",
    "print(f'Label Item Idx are : {\"\":5} {labels}')\n",
    "print(f'Previous Masked Input Idx are {mask}')"
   ]
  },
  {
   "cell_type": "markdown",
   "id": "7b965c0b",
   "metadata": {},
   "source": [
    "# 모델 구성"
   ]
  },
  {
   "cell_type": "code",
   "execution_count": 94,
   "id": "409c4ec2",
   "metadata": {},
   "outputs": [],
   "source": [
    "def mrr_k(pred, truth: int, k: int):\n",
    "    indexing = np.where(pred[:k] == truth)[0]\n",
    "    if len(indexing) > 0:\n",
    "        return 1 / (indexing[0] + 1)\n",
    "    else:\n",
    "        return 0\n",
    "\n",
    "\n",
    "def recall_k(pred, truth: int, k: int) -> int:\n",
    "    answer = truth in pred[:k]\n",
    "    return int(answer)"
   ]
  },
  {
   "cell_type": "code",
   "execution_count": 95,
   "id": "36ee3eed",
   "metadata": {},
   "outputs": [],
   "source": [
    "import numpy as np\n",
    "import tensorflow as tf\n",
    "from tensorflow.keras.layers import Input, Dense, Dropout, GRU\n",
    "from tensorflow.keras.losses import categorical_crossentropy\n",
    "from tensorflow.keras.models import Model\n",
    "from tensorflow.keras.optimizers import Adam\n",
    "from tensorflow.keras.utils import to_categorical\n",
    "from tqdm import tqdm"
   ]
  },
  {
   "cell_type": "code",
   "execution_count": 96,
   "id": "7b1d08a5",
   "metadata": {},
   "outputs": [],
   "source": [
    "def create_model(args):\n",
    "    inputs = Input(batch_shape=(args.batch_size, 1, args.num_items))\n",
    "    gru, _ = GRU(args.hsz, stateful=True, return_state=True, name='GRU')(inputs)\n",
    "    dropout = Dropout(args.drop_rate)(gru)\n",
    "    predictions = Dense(args.num_items, activation='softmax')(dropout)\n",
    "    model = Model(inputs=inputs, outputs=[predictions])\n",
    "    model.compile(loss=categorical_crossentropy, optimizer=Adam(args.lr), metrics=['accuracy'])\n",
    "    model.summary()\n",
    "    return model"
   ]
  },
  {
   "cell_type": "code",
   "execution_count": 97,
   "id": "23770c3b",
   "metadata": {},
   "outputs": [],
   "source": [
    "class Args:\n",
    "    def __init__(self, tr, val, test, batch_size, hsz, drop_rate, lr, epochs, k):\n",
    "        self.tr = tr\n",
    "        self.val = val\n",
    "        self.test = test\n",
    "        self.num_items = tr['ItemId'].nunique()\n",
    "        self.num_sessions = tr['SessionId'].nunique()\n",
    "        self.batch_size = batch_size\n",
    "        self.hsz = hsz\n",
    "        self.drop_rate = drop_rate\n",
    "        self.lr = lr\n",
    "        self.epochs = epochs\n",
    "        self.k = k\n",
    "\n",
    "args = Args(tr, val, test, batch_size=64, hsz=50, drop_rate=0.1, lr=0.01, epochs=10, k=20)"
   ]
  },
  {
   "cell_type": "code",
   "execution_count": 98,
   "id": "acd3ef48",
   "metadata": {},
   "outputs": [
    {
     "name": "stdout",
     "output_type": "stream",
     "text": [
      "Model: \"model_3\"\n",
      "_________________________________________________________________\n",
      "Layer (type)                 Output Shape              Param #   \n",
      "=================================================================\n",
      "input_4 (InputLayer)         [(64, 1, 3298)]           0         \n",
      "_________________________________________________________________\n",
      "GRU (GRU)                    [(64, 50), (64, 50)]      502500    \n",
      "_________________________________________________________________\n",
      "dropout_3 (Dropout)          (64, 50)                  0         \n",
      "_________________________________________________________________\n",
      "dense_3 (Dense)              (64, 3298)                168198    \n",
      "=================================================================\n",
      "Total params: 670,698\n",
      "Trainable params: 670,698\n",
      "Non-trainable params: 0\n",
      "_________________________________________________________________\n"
     ]
    }
   ],
   "source": [
    "model = create_model(args)"
   ]
  },
  {
   "cell_type": "markdown",
   "id": "dddf4cf4",
   "metadata": {},
   "source": [
    "# 모델 학습"
   ]
  },
  {
   "cell_type": "code",
   "execution_count": 99,
   "id": "cdd15a75",
   "metadata": {},
   "outputs": [],
   "source": [
    "# train 셋으로 학습하면서 valid 셋으로 검증합니다.\n",
    "def train_model(model, args):\n",
    "    train_dataset = SessionDataset(args.tr)\n",
    "    train_loader = SessionDataLoader(train_dataset, batch_size=args.batch_size)\n",
    "\n",
    "    for epoch in range(1, args.epochs + 1):\n",
    "        total_step = len(args.tr) - args.tr['SessionId'].nunique()\n",
    "        tr_loader = tqdm(train_loader, total=total_step // args.batch_size, desc='Train', mininterval=1)\n",
    "        for feat, target, mask in tr_loader:\n",
    "            reset_hidden_states(model, mask)  # 종료된 session은 hidden_state를 초기화합니다. 아래 메서드에서 확인해주세요.\n",
    "\n",
    "            input_ohe = to_categorical(feat, num_classes=args.num_items)\n",
    "            input_ohe = np.expand_dims(input_ohe, axis=1)\n",
    "            target_ohe = to_categorical(target, num_classes=args.num_items)\n",
    "\n",
    "            result = model.train_on_batch(input_ohe, target_ohe)\n",
    "            tr_loader.set_postfix(train_loss=result[0], accuracy = result[1])\n",
    "\n",
    "        val_recall, val_mrr = get_metrics(args.val, model, args, args.k)  # valid set에 대해 검증합니다.\n",
    "\n",
    "        print(f\"\\t - Recall@{args.k} epoch {epoch}: {val_recall:3f}\")\n",
    "        print(f\"\\t - MRR@{args.k}    epoch {epoch}: {val_mrr:3f}\\n\")\n",
    "\n",
    "\n",
    "def reset_hidden_states(model, mask):\n",
    "    gru_layer = model.get_layer(name='GRU')  # model에서 gru layer를 가져옵니다.\n",
    "    hidden_states = gru_layer.states[0].numpy()  # gru_layer의 parameter를 가져옵니다.\n",
    "    for elt in mask:  # mask된 인덱스 즉, 종료된 세션의 인덱스를 돌면서\n",
    "        hidden_states[elt, :] = 0  # parameter를 초기화 합니다.\n",
    "    gru_layer.reset_states(states=hidden_states)\n",
    "\n",
    "\n",
    "def get_metrics(data, model, args, k: int):  # valid셋과 test셋을 평가하는 코드입니다. \n",
    "                                             # train과 거의 같지만 mrr, recall을 구하는 라인이 있습니다.\n",
    "    dataset = SessionDataset(data)\n",
    "    loader = SessionDataLoader(dataset, batch_size=args.batch_size)\n",
    "    recall_list, mrr_list = [], []\n",
    "\n",
    "    total_step = len(data) - data['SessionId'].nunique()\n",
    "    for inputs, label, mask in tqdm(loader, total=total_step // args.batch_size, desc='Evaluation', mininterval=1):\n",
    "        reset_hidden_states(model, mask)\n",
    "        input_ohe = to_categorical(inputs, num_classes=args.num_items)\n",
    "        input_ohe = np.expand_dims(input_ohe, axis=1)\n",
    "\n",
    "        pred = model.predict(input_ohe, batch_size=args.batch_size)\n",
    "        pred_arg = tf.argsort(pred, direction='DESCENDING')  # softmax 값이 큰 순서대로 sorting 합니다.\n",
    "\n",
    "        length = len(inputs)\n",
    "        recall_list.extend([recall_k(pred_arg[i], label[i], k) for i in range(length)])\n",
    "        mrr_list.extend([mrr_k(pred_arg[i], label[i], k) for i in range(length)])\n",
    "\n",
    "    recall, mrr = np.mean(recall_list), np.mean(mrr_list)\n",
    "    return recall, mrr"
   ]
  },
  {
   "cell_type": "code",
   "execution_count": 100,
   "id": "3c1128a3",
   "metadata": {},
   "outputs": [
    {
     "name": "stderr",
     "output_type": "stream",
     "text": [
      "Train:  99%|█████████▉| 12496/12567 [02:25<00:00, 86.05it/s, accuracy=0.0625, train_loss=5.59]\n",
      "Evaluation:  38%|███▊      | 13/34 [00:04<00:06,  3.23it/s]\n"
     ]
    },
    {
     "name": "stdout",
     "output_type": "stream",
     "text": [
      "\t - Recall@20 epoch 1: 0.150240\n",
      "\t - MRR@20    epoch 1: 0.043101\n",
      "\n"
     ]
    },
    {
     "name": "stderr",
     "output_type": "stream",
     "text": [
      "Train:  99%|█████████▉| 12496/12567 [02:23<00:00, 86.89it/s, accuracy=0.0156, train_loss=5.45]\n",
      "Evaluation:  38%|███▊      | 13/34 [00:03<00:06,  3.36it/s]\n"
     ]
    },
    {
     "name": "stdout",
     "output_type": "stream",
     "text": [
      "\t - Recall@20 epoch 2: 0.147837\n",
      "\t - MRR@20    epoch 2: 0.038556\n",
      "\n"
     ]
    },
    {
     "name": "stderr",
     "output_type": "stream",
     "text": [
      "Train:  99%|█████████▉| 12496/12567 [02:21<00:00, 88.62it/s, accuracy=0.0469, train_loss=5.45]\n",
      "Evaluation:  38%|███▊      | 13/34 [00:03<00:06,  3.42it/s]\n"
     ]
    },
    {
     "name": "stdout",
     "output_type": "stream",
     "text": [
      "\t - Recall@20 epoch 3: 0.159856\n",
      "\t - MRR@20    epoch 3: 0.042988\n",
      "\n"
     ]
    },
    {
     "name": "stderr",
     "output_type": "stream",
     "text": [
      "Train:  99%|█████████▉| 12496/12567 [02:20<00:00, 88.81it/s, accuracy=0, train_loss=5.61]     \n",
      "Evaluation:  38%|███▊      | 13/34 [00:03<00:06,  3.43it/s]\n"
     ]
    },
    {
     "name": "stdout",
     "output_type": "stream",
     "text": [
      "\t - Recall@20 epoch 4: 0.156250\n",
      "\t - MRR@20    epoch 4: 0.038660\n",
      "\n"
     ]
    },
    {
     "name": "stderr",
     "output_type": "stream",
     "text": [
      "Train:  99%|█████████▉| 12496/12567 [02:18<00:00, 89.94it/s, accuracy=0.0156, train_loss=5.64]\n",
      "Evaluation:  38%|███▊      | 13/34 [00:03<00:06,  3.49it/s]\n"
     ]
    },
    {
     "name": "stdout",
     "output_type": "stream",
     "text": [
      "\t - Recall@20 epoch 5: 0.147837\n",
      "\t - MRR@20    epoch 5: 0.041128\n",
      "\n"
     ]
    },
    {
     "name": "stderr",
     "output_type": "stream",
     "text": [
      "Train:  99%|█████████▉| 12496/12567 [02:19<00:00, 89.27it/s, accuracy=0.0938, train_loss=5.52]\n",
      "Evaluation:  38%|███▊      | 13/34 [00:03<00:06,  3.42it/s]\n"
     ]
    },
    {
     "name": "stdout",
     "output_type": "stream",
     "text": [
      "\t - Recall@20 epoch 6: 0.149038\n",
      "\t - MRR@20    epoch 6: 0.040815\n",
      "\n"
     ]
    },
    {
     "name": "stderr",
     "output_type": "stream",
     "text": [
      "Train:  99%|█████████▉| 12496/12567 [02:19<00:00, 89.60it/s, accuracy=0.0469, train_loss=5.55]\n",
      "Evaluation:  38%|███▊      | 13/34 [00:03<00:06,  3.40it/s]\n"
     ]
    },
    {
     "name": "stdout",
     "output_type": "stream",
     "text": [
      "\t - Recall@20 epoch 7: 0.165865\n",
      "\t - MRR@20    epoch 7: 0.042443\n",
      "\n"
     ]
    },
    {
     "name": "stderr",
     "output_type": "stream",
     "text": [
      "Train:  99%|█████████▉| 12496/12567 [02:20<00:00, 88.81it/s, accuracy=0.0781, train_loss=5.49]\n",
      "Evaluation:  38%|███▊      | 13/34 [00:03<00:06,  3.41it/s]\n"
     ]
    },
    {
     "name": "stdout",
     "output_type": "stream",
     "text": [
      "\t - Recall@20 epoch 8: 0.146635\n",
      "\t - MRR@20    epoch 8: 0.049630\n",
      "\n"
     ]
    },
    {
     "name": "stderr",
     "output_type": "stream",
     "text": [
      "Train:  99%|█████████▉| 12496/12567 [02:17<00:00, 90.60it/s, accuracy=0.0156, train_loss=5.54]\n",
      "Evaluation:  38%|███▊      | 13/34 [00:03<00:06,  3.46it/s]\n"
     ]
    },
    {
     "name": "stdout",
     "output_type": "stream",
     "text": [
      "\t - Recall@20 epoch 9: 0.155048\n",
      "\t - MRR@20    epoch 9: 0.045952\n",
      "\n"
     ]
    },
    {
     "name": "stderr",
     "output_type": "stream",
     "text": [
      "Train:  99%|█████████▉| 12496/12567 [02:19<00:00, 89.72it/s, accuracy=0.0469, train_loss=5.58]\n",
      "Evaluation:  38%|███▊      | 13/34 [00:03<00:06,  3.49it/s]"
     ]
    },
    {
     "name": "stdout",
     "output_type": "stream",
     "text": [
      "\t - Recall@20 epoch 10: 0.145433\n",
      "\t - MRR@20    epoch 10: 0.044262\n",
      "\n"
     ]
    },
    {
     "name": "stderr",
     "output_type": "stream",
     "text": [
      "\n"
     ]
    }
   ],
   "source": [
    "train_model(model, args)\n"
   ]
  },
  {
   "cell_type": "markdown",
   "id": "daa85cd4",
   "metadata": {},
   "source": [
    "# 모델 테스트"
   ]
  },
  {
   "cell_type": "markdown",
   "id": "7d3e62a7",
   "metadata": {},
   "source": [
    "테스트셋을 바탕으로 Recall, MRR을 확인해 봅니다."
   ]
  },
  {
   "cell_type": "code",
   "execution_count": 47,
   "id": "4b363199",
   "metadata": {
    "scrolled": true
   },
   "outputs": [],
   "source": [
    "def test_model(model, args, test):\n",
    "    test_recall, test_mrr = get_metrics(test, model, args, 20)\n",
    "    print(f\"\\t - Recall@{args.k}: {test_recall:3f}\")\n",
    "    print(f\"\\t - MRR@{args.k}: {test_mrr:3f}\\n\")\n"
   ]
  },
  {
   "cell_type": "code",
   "execution_count": 101,
   "id": "b4da6795",
   "metadata": {},
   "outputs": [
    {
     "name": "stderr",
     "output_type": "stream",
     "text": [
      "Evaluation:  35%|███▌      | 12/34 [00:03<00:06,  3.38it/s]"
     ]
    },
    {
     "name": "stdout",
     "output_type": "stream",
     "text": [
      "\t - Recall@20: 0.141927\n",
      "\t - MRR@20: 0.049770\n",
      "\n"
     ]
    },
    {
     "name": "stderr",
     "output_type": "stream",
     "text": [
      "\n"
     ]
    }
   ],
   "source": [
    "test_model(model, args, test)"
   ]
  },
  {
   "cell_type": "code",
   "execution_count": null,
   "id": "ca33b137",
   "metadata": {},
   "outputs": [],
   "source": []
  },
  {
   "cell_type": "code",
   "execution_count": null,
   "id": "e74cfab7",
   "metadata": {},
   "outputs": [],
   "source": []
  },
  {
   "cell_type": "code",
   "execution_count": null,
   "id": "f16d99ba",
   "metadata": {},
   "outputs": [],
   "source": []
  },
  {
   "cell_type": "markdown",
   "id": "508f5e06",
   "metadata": {},
   "source": [
    "# 다른 configuration 으로 실험"
   ]
  },
  {
   "cell_type": "markdown",
   "id": "d517433a",
   "metadata": {},
   "source": [
    "#### 1: lr 변경\n"
   ]
  },
  {
   "cell_type": "code",
   "execution_count": 48,
   "id": "e0ccc6f9",
   "metadata": {
    "scrolled": false
   },
   "outputs": [
    {
     "name": "stdout",
     "output_type": "stream",
     "text": [
      "Model: \"model_1\"\n",
      "_________________________________________________________________\n",
      "Layer (type)                 Output Shape              Param #   \n",
      "=================================================================\n",
      "input_2 (InputLayer)         [(64, 1, 3405)]           0         \n",
      "_________________________________________________________________\n",
      "GRU (GRU)                    [(64, 50), (64, 50)]      518550    \n",
      "_________________________________________________________________\n",
      "dropout_1 (Dropout)          (64, 50)                  0         \n",
      "_________________________________________________________________\n",
      "dense_1 (Dense)              (64, 3405)                173655    \n",
      "=================================================================\n",
      "Total params: 692,205\n",
      "Trainable params: 692,205\n",
      "Non-trainable params: 0\n",
      "_________________________________________________________________\n"
     ]
    },
    {
     "name": "stderr",
     "output_type": "stream",
     "text": [
      "Train:  99%|█████████▉| 14995/15089 [03:17<00:01, 75.82it/s, accuracy=0, train_loss=5.68]     \n",
      "Evaluation:  41%|████▏     | 17/41 [00:05<00:07,  3.06it/s]\n"
     ]
    },
    {
     "name": "stdout",
     "output_type": "stream",
     "text": [
      "\t - Recall@20 epoch 1: 0.146140\n",
      "\t - MRR@20    epoch 1: 0.036000\n",
      "\n"
     ]
    },
    {
     "name": "stderr",
     "output_type": "stream",
     "text": [
      "Train:  99%|█████████▉| 14995/15089 [02:50<00:01, 87.92it/s, accuracy=0.0469, train_loss=5.44]\n",
      "Evaluation:  41%|████▏     | 17/41 [00:04<00:06,  3.49it/s]\n"
     ]
    },
    {
     "name": "stdout",
     "output_type": "stream",
     "text": [
      "\t - Recall@20 epoch 2: 0.159926\n",
      "\t - MRR@20    epoch 2: 0.044669\n",
      "\n"
     ]
    },
    {
     "name": "stderr",
     "output_type": "stream",
     "text": [
      "Train:  99%|█████████▉| 14995/15089 [02:47<00:01, 89.46it/s, accuracy=0.0469, train_loss=5.42]\n",
      "Evaluation:  41%|████▏     | 17/41 [00:04<00:06,  3.51it/s]\n"
     ]
    },
    {
     "name": "stdout",
     "output_type": "stream",
     "text": [
      "\t - Recall@20 epoch 3: 0.170956\n",
      "\t - MRR@20    epoch 3: 0.049213\n",
      "\n"
     ]
    },
    {
     "name": "stderr",
     "output_type": "stream",
     "text": [
      "Train:  99%|█████████▉| 14995/15089 [02:48<00:01, 89.09it/s, accuracy=0.0781, train_loss=5.36]\n",
      "Evaluation:  41%|████▏     | 17/41 [00:04<00:07,  3.42it/s]\n"
     ]
    },
    {
     "name": "stdout",
     "output_type": "stream",
     "text": [
      "\t - Recall@20 epoch 4: 0.181985\n",
      "\t - MRR@20    epoch 4: 0.053476\n",
      "\n"
     ]
    },
    {
     "name": "stderr",
     "output_type": "stream",
     "text": [
      "Train:  99%|█████████▉| 14995/15089 [02:49<00:01, 88.57it/s, accuracy=0.0781, train_loss=5.31]\n",
      "Evaluation:  41%|████▏     | 17/41 [00:04<00:06,  3.51it/s]\n"
     ]
    },
    {
     "name": "stdout",
     "output_type": "stream",
     "text": [
      "\t - Recall@20 epoch 5: 0.179228\n",
      "\t - MRR@20    epoch 5: 0.054348\n",
      "\n"
     ]
    },
    {
     "name": "stderr",
     "output_type": "stream",
     "text": [
      "Train:  99%|█████████▉| 14995/15089 [02:47<00:01, 89.27it/s, accuracy=0.0469, train_loss=5.31]\n",
      "Evaluation:  41%|████▏     | 17/41 [00:04<00:06,  3.53it/s]\n"
     ]
    },
    {
     "name": "stdout",
     "output_type": "stream",
     "text": [
      "\t - Recall@20 epoch 6: 0.178309\n",
      "\t - MRR@20    epoch 6: 0.055293\n",
      "\n"
     ]
    },
    {
     "name": "stderr",
     "output_type": "stream",
     "text": [
      "Train:  99%|█████████▉| 14995/15089 [02:48<00:01, 89.14it/s, accuracy=0.0625, train_loss=5.26]\n",
      "Evaluation:  41%|████▏     | 17/41 [00:04<00:06,  3.52it/s]\n"
     ]
    },
    {
     "name": "stdout",
     "output_type": "stream",
     "text": [
      "\t - Recall@20 epoch 7: 0.181066\n",
      "\t - MRR@20    epoch 7: 0.055595\n",
      "\n"
     ]
    },
    {
     "name": "stderr",
     "output_type": "stream",
     "text": [
      "Train:  99%|█████████▉| 14995/15089 [02:47<00:01, 89.47it/s, accuracy=0.0781, train_loss=5.22]\n",
      "Evaluation:  41%|████▏     | 17/41 [00:04<00:06,  3.52it/s]\n"
     ]
    },
    {
     "name": "stdout",
     "output_type": "stream",
     "text": [
      "\t - Recall@20 epoch 8: 0.181066\n",
      "\t - MRR@20    epoch 8: 0.055406\n",
      "\n"
     ]
    },
    {
     "name": "stderr",
     "output_type": "stream",
     "text": [
      "Train:  99%|█████████▉| 14995/15089 [02:47<00:01, 89.41it/s, accuracy=0.0469, train_loss=5.2] \n",
      "Evaluation:  41%|████▏     | 17/41 [00:04<00:06,  3.58it/s]\n"
     ]
    },
    {
     "name": "stdout",
     "output_type": "stream",
     "text": [
      "\t - Recall@20 epoch 9: 0.182904\n",
      "\t - MRR@20    epoch 9: 0.056307\n",
      "\n"
     ]
    },
    {
     "name": "stderr",
     "output_type": "stream",
     "text": [
      "Train:  99%|█████████▉| 14995/15089 [02:46<00:01, 90.07it/s, accuracy=0.0625, train_loss=5.22]\n",
      "Evaluation:  41%|████▏     | 17/41 [00:04<00:06,  3.55it/s]"
     ]
    },
    {
     "name": "stdout",
     "output_type": "stream",
     "text": [
      "\t - Recall@20 epoch 10: 0.179228\n",
      "\t - MRR@20    epoch 10: 0.055764\n",
      "\n"
     ]
    },
    {
     "name": "stderr",
     "output_type": "stream",
     "text": [
      "\n"
     ]
    }
   ],
   "source": [
    "args = Args(tr, val, test, batch_size=64, hsz=50, drop_rate=0.1, lr=0.001, epochs=10, k=20)\n",
    "model = create_model(args)\n",
    "train_model(model, args)"
   ]
  },
  {
   "cell_type": "code",
   "execution_count": 49,
   "id": "6370b118",
   "metadata": {
    "scrolled": true
   },
   "outputs": [
    {
     "name": "stderr",
     "output_type": "stream",
     "text": [
      "Evaluation:  36%|███▋      | 16/44 [00:04<00:07,  3.53it/s]"
     ]
    },
    {
     "name": "stdout",
     "output_type": "stream",
     "text": [
      "\t - Recall@20: 0.187500\n",
      "\t - MRR@20: 0.078623\n",
      "\n"
     ]
    },
    {
     "name": "stderr",
     "output_type": "stream",
     "text": [
      "\n"
     ]
    }
   ],
   "source": [
    "test_model(model, args, test)"
   ]
  },
  {
   "cell_type": "markdown",
   "id": "50f17165",
   "metadata": {},
   "source": [
    "#### 2. batchsize 변경\n"
   ]
  },
  {
   "cell_type": "code",
   "execution_count": 104,
   "id": "b2995674",
   "metadata": {},
   "outputs": [
    {
     "name": "stdout",
     "output_type": "stream",
     "text": [
      "Model: \"model_6\"\n",
      "_________________________________________________________________\n",
      "Layer (type)                 Output Shape              Param #   \n",
      "=================================================================\n",
      "input_7 (InputLayer)         [(128, 1, 3298)]          0         \n",
      "_________________________________________________________________\n",
      "GRU (GRU)                    [(128, 50), (128, 50)]    502500    \n",
      "_________________________________________________________________\n",
      "dropout_6 (Dropout)          (128, 50)                 0         \n",
      "_________________________________________________________________\n",
      "dense_6 (Dense)              (128, 3298)               168198    \n",
      "=================================================================\n",
      "Total params: 670,698\n",
      "Trainable params: 670,698\n",
      "Non-trainable params: 0\n",
      "_________________________________________________________________\n"
     ]
    },
    {
     "name": "stderr",
     "output_type": "stream",
     "text": [
      "Train:  99%|█████████▉| 6207/6283 [01:29<00:01, 69.41it/s, accuracy=0, train_loss=5.92]      \n",
      "Evaluation:  18%|█▊        | 3/17 [00:01<00:08,  1.59it/s]\n"
     ]
    },
    {
     "name": "stdout",
     "output_type": "stream",
     "text": [
      "\t - Recall@20 epoch 1: 0.080729\n",
      "\t - MRR@20    epoch 1: 0.023771\n",
      "\n"
     ]
    },
    {
     "name": "stderr",
     "output_type": "stream",
     "text": [
      "Train:  99%|█████████▉| 6207/6283 [01:30<00:01, 68.95it/s, accuracy=0.0312, train_loss=5.53] \n",
      "Evaluation:  18%|█▊        | 3/17 [00:01<00:07,  1.76it/s]\n"
     ]
    },
    {
     "name": "stdout",
     "output_type": "stream",
     "text": [
      "\t - Recall@20 epoch 2: 0.098958\n",
      "\t - MRR@20    epoch 2: 0.031778\n",
      "\n"
     ]
    },
    {
     "name": "stderr",
     "output_type": "stream",
     "text": [
      "Train:  99%|█████████▉| 6207/6283 [01:28<00:01, 70.10it/s, accuracy=0.0312, train_loss=5.41] \n",
      "Evaluation:  18%|█▊        | 3/17 [00:01<00:07,  1.75it/s]\n"
     ]
    },
    {
     "name": "stdout",
     "output_type": "stream",
     "text": [
      "\t - Recall@20 epoch 3: 0.122396\n",
      "\t - MRR@20    epoch 3: 0.034865\n",
      "\n"
     ]
    },
    {
     "name": "stderr",
     "output_type": "stream",
     "text": [
      "Train:  99%|█████████▉| 6207/6283 [01:27<00:01, 70.81it/s, accuracy=0.0469, train_loss=5.34] \n",
      "Evaluation:  18%|█▊        | 3/17 [00:01<00:07,  1.78it/s]\n"
     ]
    },
    {
     "name": "stdout",
     "output_type": "stream",
     "text": [
      "\t - Recall@20 epoch 4: 0.122396\n",
      "\t - MRR@20    epoch 4: 0.037610\n",
      "\n"
     ]
    },
    {
     "name": "stderr",
     "output_type": "stream",
     "text": [
      "Train:  99%|█████████▉| 6207/6283 [01:27<00:01, 70.91it/s, accuracy=0.0234, train_loss=5.35] \n",
      "Evaluation:  18%|█▊        | 3/17 [00:01<00:08,  1.75it/s]\n"
     ]
    },
    {
     "name": "stdout",
     "output_type": "stream",
     "text": [
      "\t - Recall@20 epoch 5: 0.127604\n",
      "\t - MRR@20    epoch 5: 0.038713\n",
      "\n"
     ]
    },
    {
     "name": "stderr",
     "output_type": "stream",
     "text": [
      "Train:  99%|█████████▉| 6207/6283 [01:28<00:01, 70.32it/s, accuracy=0.0703, train_loss=5.33] \n",
      "Evaluation:  18%|█▊        | 3/17 [00:01<00:07,  1.78it/s]\n"
     ]
    },
    {
     "name": "stdout",
     "output_type": "stream",
     "text": [
      "\t - Recall@20 epoch 6: 0.122396\n",
      "\t - MRR@20    epoch 6: 0.038815\n",
      "\n"
     ]
    },
    {
     "name": "stderr",
     "output_type": "stream",
     "text": [
      "Train:  99%|█████████▉| 6207/6283 [01:28<00:01, 70.43it/s, accuracy=0.0234, train_loss=5.35] \n",
      "Evaluation:  18%|█▊        | 3/17 [00:01<00:07,  1.82it/s]\n"
     ]
    },
    {
     "name": "stdout",
     "output_type": "stream",
     "text": [
      "\t - Recall@20 epoch 7: 0.130208\n",
      "\t - MRR@20    epoch 7: 0.039471\n",
      "\n"
     ]
    },
    {
     "name": "stderr",
     "output_type": "stream",
     "text": [
      "Train:  99%|█████████▉| 6207/6283 [01:27<00:01, 70.56it/s, accuracy=0.0312, train_loss=5.29] \n",
      "Evaluation:  18%|█▊        | 3/17 [00:01<00:07,  1.82it/s]\n"
     ]
    },
    {
     "name": "stdout",
     "output_type": "stream",
     "text": [
      "\t - Recall@20 epoch 8: 0.138021\n",
      "\t - MRR@20    epoch 8: 0.043367\n",
      "\n"
     ]
    },
    {
     "name": "stderr",
     "output_type": "stream",
     "text": [
      "Train:  99%|█████████▉| 6207/6283 [01:27<00:01, 70.57it/s, accuracy=0.0703, train_loss=5.24] \n",
      "Evaluation:  18%|█▊        | 3/17 [00:01<00:07,  1.75it/s]\n"
     ]
    },
    {
     "name": "stdout",
     "output_type": "stream",
     "text": [
      "\t - Recall@20 epoch 9: 0.135417\n",
      "\t - MRR@20    epoch 9: 0.040130\n",
      "\n"
     ]
    },
    {
     "name": "stderr",
     "output_type": "stream",
     "text": [
      "Train:  99%|█████████▉| 6207/6283 [01:28<00:01, 70.26it/s, accuracy=0.0469, train_loss=5.29] \n",
      "Evaluation:  18%|█▊        | 3/17 [00:01<00:07,  1.83it/s]\n"
     ]
    },
    {
     "name": "stdout",
     "output_type": "stream",
     "text": [
      "\t - Recall@20 epoch 10: 0.138021\n",
      "\t - MRR@20    epoch 10: 0.042461\n",
      "\n"
     ]
    },
    {
     "name": "stderr",
     "output_type": "stream",
     "text": [
      "Evaluation:  18%|█▊        | 3/17 [00:01<00:07,  1.81it/s]"
     ]
    },
    {
     "name": "stdout",
     "output_type": "stream",
     "text": [
      "\t - Recall@20: 0.127604\n",
      "\t - MRR@20: 0.041113\n",
      "\n"
     ]
    },
    {
     "name": "stderr",
     "output_type": "stream",
     "text": [
      "\n"
     ]
    }
   ],
   "source": [
    "args = Args(tr, val, test, batch_size=128, hsz=50, drop_rate=0.1, lr=0.001, epochs=10, k=20)\n",
    "model = create_model(args)\n",
    "train_model(model, args)\n",
    "test_model(model, args, test)"
   ]
  },
  {
   "cell_type": "markdown",
   "id": "6dedc050",
   "metadata": {},
   "source": [
    "#### 3. hidden size 변경\n"
   ]
  },
  {
   "cell_type": "code",
   "execution_count": 105,
   "id": "2650b3f8",
   "metadata": {},
   "outputs": [
    {
     "name": "stdout",
     "output_type": "stream",
     "text": [
      "Model: \"model_7\"\n",
      "_________________________________________________________________\n",
      "Layer (type)                 Output Shape              Param #   \n",
      "=================================================================\n",
      "input_8 (InputLayer)         [(64, 1, 3298)]           0         \n",
      "_________________________________________________________________\n",
      "GRU (GRU)                    [(64, 100), (64, 100)]    1020000   \n",
      "_________________________________________________________________\n",
      "dropout_7 (Dropout)          (64, 100)                 0         \n",
      "_________________________________________________________________\n",
      "dense_7 (Dense)              (64, 3298)                333098    \n",
      "=================================================================\n",
      "Total params: 1,353,098\n",
      "Trainable params: 1,353,098\n",
      "Non-trainable params: 0\n",
      "_________________________________________________________________\n"
     ]
    },
    {
     "name": "stderr",
     "output_type": "stream",
     "text": [
      "Train:  99%|█████████▉| 12496/12567 [02:27<00:00, 84.99it/s, accuracy=0.0312, train_loss=5.7] \n",
      "Evaluation:  38%|███▊      | 13/34 [00:03<00:06,  3.31it/s]\n"
     ]
    },
    {
     "name": "stdout",
     "output_type": "stream",
     "text": [
      "\t - Recall@20 epoch 1: 0.138221\n",
      "\t - MRR@20    epoch 1: 0.041383\n",
      "\n"
     ]
    },
    {
     "name": "stderr",
     "output_type": "stream",
     "text": [
      "Train:  99%|█████████▉| 12496/12567 [02:26<00:00, 85.36it/s, accuracy=0.0469, train_loss=5.42]\n",
      "Evaluation:  38%|███▊      | 13/34 [00:03<00:06,  3.44it/s]\n"
     ]
    },
    {
     "name": "stdout",
     "output_type": "stream",
     "text": [
      "\t - Recall@20 epoch 2: 0.163462\n",
      "\t - MRR@20    epoch 2: 0.046874\n",
      "\n"
     ]
    },
    {
     "name": "stderr",
     "output_type": "stream",
     "text": [
      "Train:  99%|█████████▉| 12496/12567 [02:28<00:00, 84.24it/s, accuracy=0.0469, train_loss=5.31]\n",
      "Evaluation:  38%|███▊      | 13/34 [00:03<00:06,  3.40it/s]\n"
     ]
    },
    {
     "name": "stdout",
     "output_type": "stream",
     "text": [
      "\t - Recall@20 epoch 3: 0.167067\n",
      "\t - MRR@20    epoch 3: 0.046685\n",
      "\n"
     ]
    },
    {
     "name": "stderr",
     "output_type": "stream",
     "text": [
      "Train:  99%|█████████▉| 12496/12567 [02:26<00:00, 85.29it/s, accuracy=0.0625, train_loss=5.29]\n",
      "Evaluation:  38%|███▊      | 13/34 [00:03<00:06,  3.46it/s]\n"
     ]
    },
    {
     "name": "stdout",
     "output_type": "stream",
     "text": [
      "\t - Recall@20 epoch 4: 0.174279\n",
      "\t - MRR@20    epoch 4: 0.047850\n",
      "\n"
     ]
    },
    {
     "name": "stderr",
     "output_type": "stream",
     "text": [
      "Train:  99%|█████████▉| 12496/12567 [02:25<00:00, 85.61it/s, accuracy=0.0781, train_loss=5.31]\n",
      "Evaluation:  38%|███▊      | 13/34 [00:03<00:06,  3.43it/s]\n"
     ]
    },
    {
     "name": "stdout",
     "output_type": "stream",
     "text": [
      "\t - Recall@20 epoch 5: 0.170673\n",
      "\t - MRR@20    epoch 5: 0.046525\n",
      "\n"
     ]
    },
    {
     "name": "stderr",
     "output_type": "stream",
     "text": [
      "Train:  99%|█████████▉| 12496/12567 [02:24<00:00, 86.29it/s, accuracy=0.0781, train_loss=5.25]\n",
      "Evaluation:  38%|███▊      | 13/34 [00:03<00:06,  3.41it/s]\n"
     ]
    },
    {
     "name": "stdout",
     "output_type": "stream",
     "text": [
      "\t - Recall@20 epoch 6: 0.177885\n",
      "\t - MRR@20    epoch 6: 0.047532\n",
      "\n"
     ]
    },
    {
     "name": "stderr",
     "output_type": "stream",
     "text": [
      "Train:  99%|█████████▉| 12496/12567 [02:26<00:00, 85.41it/s, accuracy=0.0938, train_loss=5.21]\n",
      "Evaluation:  38%|███▊      | 13/34 [00:03<00:06,  3.47it/s]\n"
     ]
    },
    {
     "name": "stdout",
     "output_type": "stream",
     "text": [
      "\t - Recall@20 epoch 7: 0.170673\n",
      "\t - MRR@20    epoch 7: 0.047985\n",
      "\n"
     ]
    },
    {
     "name": "stderr",
     "output_type": "stream",
     "text": [
      "Train:  99%|█████████▉| 12496/12567 [02:25<00:00, 86.14it/s, accuracy=0.0625, train_loss=5.24]\n",
      "Evaluation:  38%|███▊      | 13/34 [00:03<00:06,  3.48it/s]\n"
     ]
    },
    {
     "name": "stdout",
     "output_type": "stream",
     "text": [
      "\t - Recall@20 epoch 8: 0.162260\n",
      "\t - MRR@20    epoch 8: 0.047887\n",
      "\n"
     ]
    },
    {
     "name": "stderr",
     "output_type": "stream",
     "text": [
      "Train:  99%|█████████▉| 12496/12567 [02:24<00:00, 86.49it/s, accuracy=0.0938, train_loss=5.19]\n",
      "Evaluation:  38%|███▊      | 13/34 [00:03<00:05,  3.54it/s]\n"
     ]
    },
    {
     "name": "stdout",
     "output_type": "stream",
     "text": [
      "\t - Recall@20 epoch 9: 0.162260\n",
      "\t - MRR@20    epoch 9: 0.049167\n",
      "\n"
     ]
    },
    {
     "name": "stderr",
     "output_type": "stream",
     "text": [
      "Train:  99%|█████████▉| 12496/12567 [02:23<00:00, 87.37it/s, accuracy=0.0625, train_loss=5.22]\n",
      "Evaluation:  38%|███▊      | 13/34 [00:03<00:06,  3.46it/s]\n"
     ]
    },
    {
     "name": "stdout",
     "output_type": "stream",
     "text": [
      "\t - Recall@20 epoch 10: 0.164663\n",
      "\t - MRR@20    epoch 10: 0.049234\n",
      "\n"
     ]
    },
    {
     "name": "stderr",
     "output_type": "stream",
     "text": [
      "Evaluation:  35%|███▌      | 12/34 [00:03<00:06,  3.59it/s]"
     ]
    },
    {
     "name": "stdout",
     "output_type": "stream",
     "text": [
      "\t - Recall@20: 0.186198\n",
      "\t - MRR@20: 0.066813\n",
      "\n"
     ]
    },
    {
     "name": "stderr",
     "output_type": "stream",
     "text": [
      "\n"
     ]
    }
   ],
   "source": [
    "args = Args(tr, val, test, batch_size=64, hsz=100, drop_rate=0.1, lr=0.001, epochs=10, k=20)\n",
    "model = create_model(args)\n",
    "train_model(model, args)\n",
    "test_model(model, args, test)"
   ]
  },
  {
   "cell_type": "markdown",
   "id": "1a81497e",
   "metadata": {},
   "source": [
    "lr 변경, batchsize 변경, hidden size 변경을 실험했습니다.    \n",
    "모두 5 epoch까지는 안정적으로 트레이닝 되었습니다. 그 이후에는 train set과 val set 둘다에서 성능이 유지되었습니다.   \n",
    "lr을 0.001로, batchsize=hidden size를 50에서 100으로 변경한 모델이 가장 성능이 좋게 나왔습니다.   "
   ]
  },
  {
   "cell_type": "markdown",
   "id": "a1ff4d32",
   "metadata": {},
   "source": [
    "# 회고"
   ]
  },
  {
   "cell_type": "markdown",
   "id": "c206c47d",
   "metadata": {},
   "source": [
    "UserId와 타임스탬프로부터 SessionId를 도출해내는 부분을 즐겁게 했습니다.\n",
    "Recall과 MRR이 높아지도록 트레이닝이 잘 안되는데, k보다 길이가 긴 세션들이 많아서 그럴것이라고 생각이 듭니다.  \n",
    "추천시스템 exploration 중에서 가장 이해를 하면서 수행한 노드 같습니다.\n",
    "mini-batch 중에서 한 아이템이 끝나면 다른 하나를 불러오는 방법은 코드를 더 이해해야되겠습니다."
   ]
  },
  {
   "cell_type": "code",
   "execution_count": null,
   "id": "acd46662",
   "metadata": {},
   "outputs": [],
   "source": []
  }
 ],
 "metadata": {
  "kernelspec": {
   "display_name": "Python 3 (ipykernel)",
   "language": "python",
   "name": "python3"
  },
  "language_info": {
   "codemirror_mode": {
    "name": "ipython",
    "version": 3
   },
   "file_extension": ".py",
   "mimetype": "text/x-python",
   "name": "python",
   "nbconvert_exporter": "python",
   "pygments_lexer": "ipython3",
   "version": "3.9.7"
  }
 },
 "nbformat": 4,
 "nbformat_minor": 5
}
