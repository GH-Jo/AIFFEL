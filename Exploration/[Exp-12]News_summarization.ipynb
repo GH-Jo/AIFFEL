{
 "cells": [
  {
   "cell_type": "markdown",
   "id": "5ea085ec",
   "metadata": {},
   "source": [
    "## 데이터 준비하기"
   ]
  },
  {
   "cell_type": "markdown",
   "id": "98ee04b9",
   "metadata": {},
   "source": [
    "NLTK의 불용어를 사용."
   ]
  },
  {
   "cell_type": "code",
   "execution_count": 16,
   "id": "24a411c9",
   "metadata": {},
   "outputs": [
    {
     "name": "stderr",
     "output_type": "stream",
     "text": [
      "[nltk_data] Downloading package stopwords to /aiffel/nltk_data...\n",
      "[nltk_data]   Unzipping corpora/stopwords.zip.\n"
     ]
    }
   ],
   "source": [
    "import nltk\n",
    "import numpy as np\n",
    "import pandas as pd\n",
    "import os\n",
    "import re\n",
    "import matplotlib.pyplot as plt\n",
    "from nltk.corpus import stopwords\n",
    "from bs4 import BeautifulSoup \n",
    "from tensorflow.keras.preprocessing.text import Tokenizer \n",
    "from tensorflow.keras.preprocessing.sequence import pad_sequences\n",
    "import urllib.request\n",
    "import warnings\n",
    "import seaborn as sns\n",
    "nltk.download('stopwords')\n",
    "warnings.filterwarnings(\"ignore\", category=UserWarning, module='bs4')"
   ]
  },
  {
   "cell_type": "code",
   "execution_count": 2,
   "id": "0b13492b",
   "metadata": {},
   "outputs": [],
   "source": [
    "import urllib.request\n",
    "urllib.request.urlretrieve(\"https://raw.githubusercontent.com/sunnysai12345/News_Summary/master/news_summary_more.csv\", filename=\"news_summary_more.csv\")\n",
    "data = pd.read_csv('news_summary_more.csv', encoding='iso-8859-1')"
   ]
  },
  {
   "cell_type": "code",
   "execution_count": 3,
   "id": "1552dde9",
   "metadata": {
    "scrolled": false
   },
   "outputs": [
    {
     "data": {
      "text/html": [
       "<div>\n",
       "<style scoped>\n",
       "    .dataframe tbody tr th:only-of-type {\n",
       "        vertical-align: middle;\n",
       "    }\n",
       "\n",
       "    .dataframe tbody tr th {\n",
       "        vertical-align: top;\n",
       "    }\n",
       "\n",
       "    .dataframe thead th {\n",
       "        text-align: right;\n",
       "    }\n",
       "</style>\n",
       "<table border=\"1\" class=\"dataframe\">\n",
       "  <thead>\n",
       "    <tr style=\"text-align: right;\">\n",
       "      <th></th>\n",
       "      <th>headlines</th>\n",
       "      <th>text</th>\n",
       "    </tr>\n",
       "  </thead>\n",
       "  <tbody>\n",
       "    <tr>\n",
       "      <th>36784</th>\n",
       "      <td>Bumrah doesn't understand what pressure is: MI...</td>\n",
       "      <td>Speaking about pacer Jasprit Bumrah, Mumbai In...</td>\n",
       "    </tr>\n",
       "    <tr>\n",
       "      <th>7537</th>\n",
       "      <td>Dubai extradites AgustaWestland scam accused m...</td>\n",
       "      <td>Dubai has passed order to extradite British na...</td>\n",
       "    </tr>\n",
       "    <tr>\n",
       "      <th>90289</th>\n",
       "      <td>How did Delhi Police solve the Nirbhaya rape c...</td>\n",
       "      <td>Ex-Delhi Police chief Neeraj Kumar, who led th...</td>\n",
       "    </tr>\n",
       "    <tr>\n",
       "      <th>72331</th>\n",
       "      <td>Engaging with shareholders on governance stand...</td>\n",
       "      <td>Infosys on Friday said it is engaging with sha...</td>\n",
       "    </tr>\n",
       "    <tr>\n",
       "      <th>2598</th>\n",
       "      <td>Her eyes were open, she knew it was me: Cricke...</td>\n",
       "      <td>Australia-born county cricketer Alex Hepburn, ...</td>\n",
       "    </tr>\n",
       "    <tr>\n",
       "      <th>9314</th>\n",
       "      <td>We will retaliate if Australians cross the lin...</td>\n",
       "      <td>Team India captain Virat Kohli has said that i...</td>\n",
       "    </tr>\n",
       "    <tr>\n",
       "      <th>30488</th>\n",
       "      <td>Since when does mother need permission to kiss...</td>\n",
       "      <td>Slamming people for trolling Aishwarya Rai ove...</td>\n",
       "    </tr>\n",
       "    <tr>\n",
       "      <th>87919</th>\n",
       "      <td>Gurudwaras in UK offering food, stay to attack...</td>\n",
       "      <td>Gurudwaras in Manchester, UK are offering acco...</td>\n",
       "    </tr>\n",
       "    <tr>\n",
       "      <th>35123</th>\n",
       "      <td>Telugu industry to divide into before, after S...</td>\n",
       "      <td>Film director and producer Ram Gopal Varma has...</td>\n",
       "    </tr>\n",
       "    <tr>\n",
       "      <th>22538</th>\n",
       "      <td>4 of 5 petitions against Jaya memorial on beac...</td>\n",
       "      <td>Four of the five petitions against former CM J...</td>\n",
       "    </tr>\n",
       "  </tbody>\n",
       "</table>\n",
       "</div>"
      ],
      "text/plain": [
       "                                               headlines  \\\n",
       "36784  Bumrah doesn't understand what pressure is: MI...   \n",
       "7537   Dubai extradites AgustaWestland scam accused m...   \n",
       "90289  How did Delhi Police solve the Nirbhaya rape c...   \n",
       "72331  Engaging with shareholders on governance stand...   \n",
       "2598   Her eyes were open, she knew it was me: Cricke...   \n",
       "9314   We will retaliate if Australians cross the lin...   \n",
       "30488  Since when does mother need permission to kiss...   \n",
       "87919  Gurudwaras in UK offering food, stay to attack...   \n",
       "35123  Telugu industry to divide into before, after S...   \n",
       "22538  4 of 5 petitions against Jaya memorial on beac...   \n",
       "\n",
       "                                                    text  \n",
       "36784  Speaking about pacer Jasprit Bumrah, Mumbai In...  \n",
       "7537   Dubai has passed order to extradite British na...  \n",
       "90289  Ex-Delhi Police chief Neeraj Kumar, who led th...  \n",
       "72331  Infosys on Friday said it is engaging with sha...  \n",
       "2598   Australia-born county cricketer Alex Hepburn, ...  \n",
       "9314   Team India captain Virat Kohli has said that i...  \n",
       "30488  Slamming people for trolling Aishwarya Rai ove...  \n",
       "87919  Gurudwaras in Manchester, UK are offering acco...  \n",
       "35123  Film director and producer Ram Gopal Varma has...  \n",
       "22538  Four of the five petitions against former CM J...  "
      ]
     },
     "execution_count": 3,
     "metadata": {},
     "output_type": "execute_result"
    }
   ],
   "source": [
    "data.sample(10)"
   ]
  },
  {
   "cell_type": "code",
   "execution_count": 4,
   "id": "5468b996",
   "metadata": {},
   "outputs": [
    {
     "name": "stdout",
     "output_type": "stream",
     "text": [
      "<class 'pandas.core.frame.DataFrame'>\n",
      "RangeIndex: 98401 entries, 0 to 98400\n",
      "Data columns (total 2 columns):\n",
      " #   Column     Non-Null Count  Dtype \n",
      "---  ------     --------------  ----- \n",
      " 0   headlines  98401 non-null  object\n",
      " 1   text       98401 non-null  object\n",
      "dtypes: object(2)\n",
      "memory usage: 1.5+ MB\n"
     ]
    }
   ],
   "source": [
    "data.info()"
   ]
  },
  {
   "cell_type": "markdown",
   "id": "095da20d",
   "metadata": {},
   "source": [
    "## 데이터 전처리하기"
   ]
  },
  {
   "cell_type": "markdown",
   "id": "f2c82863",
   "metadata": {},
   "source": [
    "중복 샘플과 NULL값이 존재하는 샘플 제거"
   ]
  },
  {
   "cell_type": "code",
   "execution_count": 5,
   "id": "849e9622",
   "metadata": {},
   "outputs": [
    {
     "name": "stdout",
     "output_type": "stream",
     "text": [
      "전체 샘플 수: 98401\n",
      "test 열에서 중복을 배제한 유일한 샘플의 수 : 98360\n",
      "headlines 열에서 중복을 배제한 유일한 샘플의 수 : 98280\n"
     ]
    }
   ],
   "source": [
    "print('전체 샘플 수:', len(data))\n",
    "print('test 열에서 중복을 배제한 유일한 샘플의 수 :', data['text'].nunique())\n",
    "print('headlines 열에서 중복을 배제한 유일한 샘플의 수 :', data['headlines'].nunique())"
   ]
  },
  {
   "cell_type": "code",
   "execution_count": 6,
   "id": "c07688ec",
   "metadata": {},
   "outputs": [
    {
     "name": "stdout",
     "output_type": "stream",
     "text": [
      "98360\n"
     ]
    }
   ],
   "source": [
    "data.drop_duplicates(subset=['text'], inplace=True)\n",
    "print(len(data))"
   ]
  },
  {
   "cell_type": "code",
   "execution_count": 7,
   "id": "e7a93dd2",
   "metadata": {
    "scrolled": true
   },
   "outputs": [
    {
     "name": "stdout",
     "output_type": "stream",
     "text": [
      "headlines    0\n",
      "text         0\n",
      "dtype: int64\n"
     ]
    }
   ],
   "source": [
    "print(data.isnull().sum())"
   ]
  },
  {
   "cell_type": "code",
   "execution_count": 8,
   "id": "295e3749",
   "metadata": {},
   "outputs": [],
   "source": [
    "data['headlines_len'] = data['headlines'].apply(len).astype(float)\n",
    "data['text_len'] = data['text'].apply(len).astype(float)"
   ]
  },
  {
   "cell_type": "code",
   "execution_count": 9,
   "id": "0c74ec56",
   "metadata": {},
   "outputs": [
    {
     "data": {
      "text/plain": [
       "0        65.0\n",
       "1        60.0\n",
       "2        64.0\n",
       "3        56.0\n",
       "4        67.0\n",
       "         ... \n",
       "98396    51.0\n",
       "98397    60.0\n",
       "98398    42.0\n",
       "98399    59.0\n",
       "98400    55.0\n",
       "Name: headlines_len, Length: 98360, dtype: float64"
      ]
     },
     "execution_count": 9,
     "metadata": {},
     "output_type": "execute_result"
    }
   ],
   "source": [
    "data['headlines_len']"
   ]
  },
  {
   "cell_type": "code",
   "execution_count": 10,
   "id": "86fae42d",
   "metadata": {},
   "outputs": [
    {
     "name": "stderr",
     "output_type": "stream",
     "text": [
      "/opt/conda/lib/python3.9/site-packages/seaborn/_decorators.py:36: FutureWarning: Pass the following variable as a keyword arg: x. From version 0.12, the only valid positional argument will be `data`, and passing other arguments without an explicit keyword will result in an error or misinterpretation.\n",
      "  warnings.warn(\n"
     ]
    },
    {
     "data": {
      "image/png": "[encoded data removed]",
      "text/plain": [
       "<Figure size 432x288 with 1 Axes>"
      ]
     },
     "metadata": {
      "needs_background": "light"
     },
     "output_type": "display_data"
    }
   ],
   "source": [
    "sns.boxplot(data['headlines_len'])\n",
    "plt.show()"
   ]
  },
  {
   "cell_type": "code",
   "execution_count": 11,
   "id": "54eaa3ba",
   "metadata": {},
   "outputs": [
    {
     "name": "stderr",
     "output_type": "stream",
     "text": [
      "/opt/conda/lib/python3.9/site-packages/seaborn/_decorators.py:36: FutureWarning: Pass the following variable as a keyword arg: x. From version 0.12, the only valid positional argument will be `data`, and passing other arguments without an explicit keyword will result in an error or misinterpretation.\n",
      "  warnings.warn(\n"
     ]
    },
    {
     "data": {
      "image/png": "[encoded data removed]",
      "text/plain": [
       "<Figure size 432x288 with 1 Axes>"
      ]
     },
     "metadata": {
      "needs_background": "light"
     },
     "output_type": "display_data"
    }
   ],
   "source": [
    "sns.boxplot(data['text_len'])\n",
    "plt.show()"
   ]
  },
  {
   "cell_type": "code",
   "execution_count": 12,
   "id": "e24b0ed9",
   "metadata": {},
   "outputs": [
    {
     "data": {
      "text/html": [
       "<div>\n",
       "<style scoped>\n",
       "    .dataframe tbody tr th:only-of-type {\n",
       "        vertical-align: middle;\n",
       "    }\n",
       "\n",
       "    .dataframe tbody tr th {\n",
       "        vertical-align: top;\n",
       "    }\n",
       "\n",
       "    .dataframe thead th {\n",
       "        text-align: right;\n",
       "    }\n",
       "</style>\n",
       "<table border=\"1\" class=\"dataframe\">\n",
       "  <thead>\n",
       "    <tr style=\"text-align: right;\">\n",
       "      <th></th>\n",
       "      <th>headlines</th>\n",
       "      <th>text</th>\n",
       "      <th>headlines_len</th>\n",
       "      <th>text_len</th>\n",
       "    </tr>\n",
       "  </thead>\n",
       "  <tbody>\n",
       "    <tr>\n",
       "      <th>52</th>\n",
       "      <td>headlines</td>\n",
       "      <td>text</td>\n",
       "      <td>9.0</td>\n",
       "      <td>4.0</td>\n",
       "    </tr>\n",
       "  </tbody>\n",
       "</table>\n",
       "</div>"
      ],
      "text/plain": [
       "    headlines  text  headlines_len  text_len\n",
       "52  headlines  text            9.0       4.0"
      ]
     },
     "execution_count": 12,
     "metadata": {},
     "output_type": "execute_result"
    }
   ],
   "source": [
    "data[data['text_len']<100]"
   ]
  },
  {
   "cell_type": "code",
   "execution_count": 13,
   "id": "1f96ac12",
   "metadata": {},
   "outputs": [],
   "source": [
    "data.drop(axis=0, index=52, inplace=True)"
   ]
  },
  {
   "cell_type": "markdown",
   "id": "3df48a9e",
   "metadata": {},
   "source": [
    "텍스트 정규화와 불용어 제거"
   ]
  },
  {
   "cell_type": "code",
   "execution_count": 14,
   "id": "cf48947c",
   "metadata": {},
   "outputs": [
    {
     "name": "stdout",
     "output_type": "stream",
     "text": [
      "정규화 사전의 수:  120\n"
     ]
    }
   ],
   "source": [
    "contractions = {\"ain't\": \"is not\", \"aren't\": \"are not\",\"can't\": \"cannot\", \"'cause\": \"because\", \"could've\": \"could have\", \"couldn't\": \"could not\",\n",
    "                           \"didn't\": \"did not\",  \"doesn't\": \"does not\", \"don't\": \"do not\", \"hadn't\": \"had not\", \"hasn't\": \"has not\", \"haven't\": \"have not\",\n",
    "                           \"he'd\": \"he would\",\"he'll\": \"he will\", \"he's\": \"he is\", \"how'd\": \"how did\", \"how'd'y\": \"how do you\", \"how'll\": \"how will\", \"how's\": \"how is\",\n",
    "                           \"I'd\": \"I would\", \"I'd've\": \"I would have\", \"I'll\": \"I will\", \"I'll've\": \"I will have\",\"I'm\": \"I am\", \"I've\": \"I have\", \"i'd\": \"i would\",\n",
    "                           \"i'd've\": \"i would have\", \"i'll\": \"i will\",  \"i'll've\": \"i will have\",\"i'm\": \"i am\", \"i've\": \"i have\", \"isn't\": \"is not\", \"it'd\": \"it would\",\n",
    "                           \"it'd've\": \"it would have\", \"it'll\": \"it will\", \"it'll've\": \"it will have\",\"it's\": \"it is\", \"let's\": \"let us\", \"ma'am\": \"madam\",\n",
    "                           \"mayn't\": \"may not\", \"might've\": \"might have\",\"mightn't\": \"might not\",\"mightn't've\": \"might not have\", \"must've\": \"must have\",\n",
    "                           \"mustn't\": \"must not\", \"mustn't've\": \"must not have\", \"needn't\": \"need not\", \"needn't've\": \"need not have\",\"o'clock\": \"of the clock\",\n",
    "                           \"oughtn't\": \"ought not\", \"oughtn't've\": \"ought not have\", \"shan't\": \"shall not\", \"sha'n't\": \"shall not\", \"shan't've\": \"shall not have\",\n",
    "                           \"she'd\": \"she would\", \"she'd've\": \"she would have\", \"she'll\": \"she will\", \"she'll've\": \"she will have\", \"she's\": \"she is\",\n",
    "                           \"should've\": \"should have\", \"shouldn't\": \"should not\", \"shouldn't've\": \"should not have\", \"so've\": \"so have\",\"so's\": \"so as\",\n",
    "                           \"this's\": \"this is\",\"that'd\": \"that would\", \"that'd've\": \"that would have\", \"that's\": \"that is\", \"there'd\": \"there would\",\n",
    "                           \"there'd've\": \"there would have\", \"there's\": \"there is\", \"here's\": \"here is\",\"they'd\": \"they would\", \"they'd've\": \"they would have\",\n",
    "                           \"they'll\": \"they will\", \"they'll've\": \"they will have\", \"they're\": \"they are\", \"they've\": \"they have\", \"to've\": \"to have\",\n",
    "                           \"wasn't\": \"was not\", \"we'd\": \"we would\", \"we'd've\": \"we would have\", \"we'll\": \"we will\", \"we'll've\": \"we will have\", \"we're\": \"we are\",\n",
    "                           \"we've\": \"we have\", \"weren't\": \"were not\", \"what'll\": \"what will\", \"what'll've\": \"what will have\", \"what're\": \"what are\",\n",
    "                           \"what's\": \"what is\", \"what've\": \"what have\", \"when's\": \"when is\", \"when've\": \"when have\", \"where'd\": \"where did\", \"where's\": \"where is\",\n",
    "                           \"where've\": \"where have\", \"who'll\": \"who will\", \"who'll've\": \"who will have\", \"who's\": \"who is\", \"who've\": \"who have\",\n",
    "                           \"why's\": \"why is\", \"why've\": \"why have\", \"will've\": \"will have\", \"won't\": \"will not\", \"won't've\": \"will not have\",\n",
    "                           \"would've\": \"would have\", \"wouldn't\": \"would not\", \"wouldn't've\": \"would not have\", \"y'all\": \"you all\",\n",
    "                           \"y'all'd\": \"you all would\",\"y'all'd've\": \"you all would have\",\"y'all're\": \"you all are\",\"y'all've\": \"you all have\",\n",
    "                           \"you'd\": \"you would\", \"you'd've\": \"you would have\", \"you'll\": \"you will\", \"you'll've\": \"you will have\",\n",
    "                           \"you're\": \"you are\", \"you've\": \"you have\"}\n",
    "\n",
    "print(\"정규화 사전의 수: \", len(contractions))"
   ]
  },
  {
   "cell_type": "code",
   "execution_count": 17,
   "id": "c563e589",
   "metadata": {
    "scrolled": true
   },
   "outputs": [
    {
     "name": "stdout",
     "output_type": "stream",
     "text": [
      "불용어 개수 : 179\n",
      "['i', 'me', 'my', 'myself', 'we', 'our', 'ours', 'ourselves', 'you', \"you're\", \"you've\", \"you'll\", \"you'd\", 'your', 'yours', 'yourself', 'yourselves', 'he', 'him', 'his', 'himself', 'she', \"she's\", 'her', 'hers', 'herself', 'it', \"it's\", 'its', 'itself', 'they', 'them', 'their', 'theirs', 'themselves', 'what', 'which', 'who', 'whom', 'this', 'that', \"that'll\", 'these', 'those', 'am', 'is', 'are', 'was', 'were', 'be', 'been', 'being', 'have', 'has', 'had', 'having', 'do', 'does', 'did', 'doing', 'a', 'an', 'the', 'and', 'but', 'if', 'or', 'because', 'as', 'until', 'while', 'of', 'at', 'by', 'for', 'with', 'about', 'against', 'between', 'into', 'through', 'during', 'before', 'after', 'above', 'below', 'to', 'from', 'up', 'down', 'in', 'out', 'on', 'off', 'over', 'under', 'again', 'further', 'then', 'once', 'here', 'there', 'when', 'where', 'why', 'how', 'all', 'any', 'both', 'each', 'few', 'more', 'most', 'other', 'some', 'such', 'no', 'nor', 'not', 'only', 'own', 'same', 'so', 'than', 'too', 'very', 's', 't', 'can', 'will', 'just', 'don', \"don't\", 'should', \"should've\", 'now', 'd', 'll', 'm', 'o', 're', 've', 'y', 'ain', 'aren', \"aren't\", 'couldn', \"couldn't\", 'didn', \"didn't\", 'doesn', \"doesn't\", 'hadn', \"hadn't\", 'hasn', \"hasn't\", 'haven', \"haven't\", 'isn', \"isn't\", 'ma', 'mightn', \"mightn't\", 'mustn', \"mustn't\", 'needn', \"needn't\", 'shan', \"shan't\", 'shouldn', \"shouldn't\", 'wasn', \"wasn't\", 'weren', \"weren't\", 'won', \"won't\", 'wouldn', \"wouldn't\"]\n"
     ]
    }
   ],
   "source": [
    "print('불용어 개수 :', len(stopwords.words('english') ))\n",
    "print(stopwords.words('english'))"
   ]
  },
  {
   "cell_type": "code",
   "execution_count": 18,
   "id": "be3bc8ca",
   "metadata": {},
   "outputs": [
    {
     "name": "stdout",
     "output_type": "stream",
     "text": [
      "=3\n"
     ]
    }
   ],
   "source": [
    "def preprocess_sentence(sentence, remove_stopwords=True):\n",
    "    sentence = sentence.lower() # 텍스트 소문자화\n",
    "    sentence = BeautifulSoup(sentence, \"lxml\").text # <br />, <a href = ...> 등의 html 태그 제거\n",
    "    sentence = re.sub(r'\\([^)]*\\)', '', sentence) # 괄호로 닫힌 문자열 (...) 제거 Ex) my husband (and myself!) for => my husband for\n",
    "    sentence = re.sub('\"','', sentence) # 쌍따옴표 \" 제거\n",
    "    sentence = ' '.join([contractions[t] if t in contractions else t for t in sentence.split(\" \")]) # 약어 정규화\n",
    "    sentence = re.sub(r\"'s\\b\",\"\", sentence) # 소유격 제거. Ex) roland's -> roland\n",
    "    sentence = re.sub(\"[^a-zA-Z]\", \" \", sentence) # 영어 외 문자(숫자, 특수문자 등) 공백으로 변환\n",
    "    sentence = re.sub('[m]{2,}', 'mm', sentence) \n",
    "        # 불용어 제거 (Text)\n",
    "    if remove_stopwords and (len(sentence)>50):\n",
    "        tokens = ' '.join(word for word in sentence.split() if not word in stopwords.words('english') if len(word) > 1)\n",
    "    # 불용어 미제거 (Summary)\n",
    "    else:\n",
    "        tokens = ' '.join(word for word in sentence.split() if len(word) > 1)\n",
    "    return tokens\n",
    "print('=3')"
   ]
  },
  {
   "cell_type": "code",
   "execution_count": 19,
   "id": "ae699488",
   "metadata": {},
   "outputs": [
    {
     "name": "stdout",
     "output_type": "stream",
     "text": [
      "text 전처리 후 결과:  ['saurav kant alumnus upgrad iiit pg program machine learning artificial intelligence sr systems engineer infosys almost years work experience program upgrad degree career support helped transition data scientist tech mahindra salary hike upgrad online power learning powered lakh careers', 'kunal shah credit card bill payment platform cred gave users chance win free food swiggy one year pranav kaushik delhi techie bagged reward spending cred coins users get one cred coin per rupee bill paid used avail rewards brands like ixigo bookmyshow ubereats cult fit', 'new zealand defeated india wickets fourth odi hamilton thursday win first match five match odi series india lost international match rohit sharma captaincy consecutive victories dating back march match witnessed india getting seventh lowest total odi cricket history', 'aegon life iterm insurance plan customers enjoy tax benefits premiums paid save taxes plan provides life cover age years also customers options insure critical illnesses disability accidental death benefit rider life cover age years', 'speaking sexual harassment allegations rajkumar hirani sonam kapoor said known hirani many years true metoo movement get derailed metoo movement always believe woman case need reserve judgment added hirani accused assistant worked sanju']\n"
     ]
    }
   ],
   "source": [
    "clean_text = []\n",
    "# 전체 Text 데이터에 대한 전처리 : 10분 이상 시간이 걸릴 수 있습니다. \n",
    "for s in data['text']:\n",
    "    clean_text.append(preprocess_sentence(s))\n",
    "\n",
    "# 전처리 후 출력\n",
    "print(\"text 전처리 후 결과: \", clean_text[:5])"
   ]
  },
  {
   "cell_type": "code",
   "execution_count": 20,
   "id": "0fd8af79",
   "metadata": {},
   "outputs": [
    {
     "name": "stdout",
     "output_type": "stream",
     "text": [
      "Headlines 전처리 후 결과:  ['upgrad learner switches to career in ml al with salary hike', 'delhi techie wins free food from swiggy for one year on cred', 'new zealand end rohit sharma led india match winning streak', 'aegon life iterm insurance plan helps customers save tax', 'have known hirani for yrs what if metoo claims are not true sonam']\n"
     ]
    }
   ],
   "source": [
    "clean_headlines = []\n",
    "# 전체 Summary 데이터에 대한 전처리 : 5분 이상 시간이 걸릴 수 있습니다. \n",
    "for s in data['headlines']:\n",
    "    clean_headlines.append(preprocess_sentence(s, False))\n",
    "\n",
    "print(\"Headlines 전처리 후 결과: \", clean_headlines[:5])"
   ]
  },
  {
   "cell_type": "code",
   "execution_count": 22,
   "id": "e6b7a555",
   "metadata": {},
   "outputs": [
    {
     "name": "stdout",
     "output_type": "stream",
     "text": [
      "=3\n"
     ]
    }
   ],
   "source": [
    "data['text'] = clean_text\n",
    "data['headlines'] = clean_headlines\n",
    "\n",
    "# 빈 값을 Null 값으로 변환\n",
    "data.replace('', np.nan, inplace=True)\n",
    "print('=3')"
   ]
  },
  {
   "cell_type": "code",
   "execution_count": 23,
   "id": "5d9259b7",
   "metadata": {},
   "outputs": [
    {
     "data": {
      "text/plain": [
       "headlines        0\n",
       "text             0\n",
       "headlines_len    0\n",
       "text_len         0\n",
       "dtype: int64"
      ]
     },
     "execution_count": 23,
     "metadata": {},
     "output_type": "execute_result"
    }
   ],
   "source": [
    "data.isnull().sum()"
   ]
  },
  {
   "cell_type": "code",
   "execution_count": 24,
   "id": "13a278da",
   "metadata": {},
   "outputs": [
    {
     "name": "stdout",
     "output_type": "stream",
     "text": [
      "전체 샘플수 : 98359\n"
     ]
    }
   ],
   "source": [
    "data.dropna(axis=0, inplace=True)\n",
    "print('전체 샘플수 :', (len(data)))"
   ]
  },
  {
   "cell_type": "markdown",
   "id": "b2435264",
   "metadata": {},
   "source": [
    " ## 훈련데이터와 테스트데이터 나누기"
   ]
  },
  {
   "cell_type": "markdown",
   "id": "698ba4ae",
   "metadata": {},
   "source": [
    "### 샘플의 최대 길이 정하기"
   ]
  },
  {
   "cell_type": "code",
   "execution_count": 26,
   "id": "3e4d6394",
   "metadata": {},
   "outputs": [
    {
     "name": "stdout",
     "output_type": "stream",
     "text": [
      "텍스트의 최소 길이 : 18\n",
      "텍스트의 최대 길이 : 60\n",
      "텍스트의 평균 길이 : 35.10003151719721\n",
      "요약의 최소 길이 : 3\n",
      "요약의 최대 길이 : 16\n",
      "요약의 평균 길이 : 9.299616710214622\n"
     ]
    },
    {
     "data": {
      "image/png": "[encoded data removed]",
      "text/plain": [
       "<Figure size 432x288 with 2 Axes>"
      ]
     },
     "metadata": {
      "needs_background": "light"
     },
     "output_type": "display_data"
    },
    {
     "data": {
      "image/png": "[encoded data removed]",
      "text/plain": [
       "<Figure size 432x288 with 1 Axes>"
      ]
     },
     "metadata": {
      "needs_background": "light"
     },
     "output_type": "display_data"
    },
    {
     "data": {
      "image/png": "[encoded data removed]",
      "text/plain": [
       "<Figure size 432x288 with 1 Axes>"
      ]
     },
     "metadata": {
      "needs_background": "light"
     },
     "output_type": "display_data"
    }
   ],
   "source": [
    "# 길이 분포 출력\n",
    "import matplotlib.pyplot as plt\n",
    "\n",
    "text_len = [len(s.split()) for s in data['text']]\n",
    "headlines_len = [len(s.split()) for s in data['headlines']]\n",
    "\n",
    "print('텍스트의 최소 길이 : {}'.format(np.min(text_len)))\n",
    "print('텍스트의 최대 길이 : {}'.format(np.max(text_len)))\n",
    "print('텍스트의 평균 길이 : {}'.format(np.mean(text_len)))\n",
    "print('요약의 최소 길이 : {}'.format(np.min(headlines_len)))\n",
    "print('요약의 최대 길이 : {}'.format(np.max(headlines_len)))\n",
    "print('요약의 평균 길이 : {}'.format(np.mean(headlines_len)))\n",
    "\n",
    "plt.subplot(1,2,1)\n",
    "plt.boxplot(text_len)\n",
    "plt.title('Text')\n",
    "plt.subplot(1,2,2)\n",
    "plt.boxplot(headlines_len)\n",
    "plt.title('Headlines')\n",
    "plt.tight_layout()\n",
    "plt.show()\n",
    "\n",
    "plt.title('Text')\n",
    "plt.hist(text_len, bins = 40)\n",
    "plt.xlabel('length of samples')\n",
    "plt.ylabel('number of samples')\n",
    "plt.show()\n",
    "\n",
    "plt.title('Headlines')\n",
    "plt.hist(headlines_len, bins = 40)\n",
    "plt.xlabel('length of samples')\n",
    "plt.ylabel('number of samples')\n",
    "plt.show()"
   ]
  },
  {
   "cell_type": "code",
   "execution_count": 27,
   "id": "92702659",
   "metadata": {},
   "outputs": [
    {
     "name": "stdout",
     "output_type": "stream",
     "text": [
      "=3\n"
     ]
    }
   ],
   "source": [
    "text_max_len = 50\n",
    "headlines_max_len = 8\n",
    "print('=3')"
   ]
  },
  {
   "cell_type": "code",
   "execution_count": 28,
   "id": "51278a32",
   "metadata": {},
   "outputs": [
    {
     "name": "stdout",
     "output_type": "stream",
     "text": [
      "=3\n"
     ]
    }
   ],
   "source": [
    "def below_threshold_len(max_len, nested_list):\n",
    "    cnt = 0\n",
    "    for s in nested_list:\n",
    "        if(len(s.split()) <= max_len):\n",
    "            cnt = cnt + 1\n",
    "    print('전체 샘플 중 길이가 %s 이하인 샘플의 비율: %s'%(max_len, (cnt / len(nested_list))))\n",
    "print('=3')"
   ]
  },
  {
   "cell_type": "code",
   "execution_count": 31,
   "id": "042300a4",
   "metadata": {},
   "outputs": [
    {
     "name": "stdout",
     "output_type": "stream",
     "text": [
      "전체 샘플 중 길이가 50 이하인 샘플의 비율: 0.9998576642706819\n",
      "전체 샘플 중 길이가 8 이하인 샘플의 비율: 0.2755619719598613\n"
     ]
    }
   ],
   "source": [
    "below_threshold_len(text_max_len, data['text'])\n",
    "below_threshold_len(headlines_max_len,  data['headlines'])"
   ]
  },
  {
   "cell_type": "markdown",
   "id": "dcb92cad",
   "metadata": {},
   "source": [
    "정해진 길이보다 길면 제외하는 방법으로 데이터를 정제."
   ]
  },
  {
   "cell_type": "code",
   "execution_count": 33,
   "id": "479f02c4",
   "metadata": {},
   "outputs": [
    {
     "name": "stdout",
     "output_type": "stream",
     "text": [
      "전체 샘플수 : 27104\n"
     ]
    }
   ],
   "source": [
    "data = data[data['text'].apply(lambda x: len(x.split()) <= text_max_len)]\n",
    "data = data[data['headlines'].apply(lambda x: len(x.split()) <= headlines_max_len)]\n",
    "print('전체 샘플수 :', (len(data)))"
   ]
  },
  {
   "cell_type": "markdown",
   "id": "bc1d8e94",
   "metadata": {},
   "source": [
    "### 시작 토큰과 종료 토큰 추가"
   ]
  },
  {
   "cell_type": "code",
   "execution_count": 34,
   "id": "958530c7",
   "metadata": {},
   "outputs": [
    {
     "data": {
      "text/html": [
       "<div>\n",
       "<style scoped>\n",
       "    .dataframe tbody tr th:only-of-type {\n",
       "        vertical-align: middle;\n",
       "    }\n",
       "\n",
       "    .dataframe tbody tr th {\n",
       "        vertical-align: top;\n",
       "    }\n",
       "\n",
       "    .dataframe thead th {\n",
       "        text-align: right;\n",
       "    }\n",
       "</style>\n",
       "<table border=\"1\" class=\"dataframe\">\n",
       "  <thead>\n",
       "    <tr style=\"text-align: right;\">\n",
       "      <th></th>\n",
       "      <th>headlines</th>\n",
       "      <th>text</th>\n",
       "      <th>headlines_len</th>\n",
       "      <th>text_len</th>\n",
       "      <th>decoder_input</th>\n",
       "      <th>decoder_target</th>\n",
       "    </tr>\n",
       "  </thead>\n",
       "  <tbody>\n",
       "    <tr>\n",
       "      <th>19</th>\n",
       "      <td>odisha cm patnaik controls mining mafia union ...</td>\n",
       "      <td>union minister dharmendra pradhan wednesday cl...</td>\n",
       "      <td>55.0</td>\n",
       "      <td>357.0</td>\n",
       "      <td>sostoken odisha cm patnaik controls mining maf...</td>\n",
       "      <td>odisha cm patnaik controls mining mafia union ...</td>\n",
       "    </tr>\n",
       "    <tr>\n",
       "      <th>21</th>\n",
       "      <td>isro unveils bengaluru centre for manned space...</td>\n",
       "      <td>indian space research organisation wednesday u...</td>\n",
       "      <td>55.0</td>\n",
       "      <td>403.0</td>\n",
       "      <td>sostoken isro unveils bengaluru centre for man...</td>\n",
       "      <td>isro unveils bengaluru centre for manned space...</td>\n",
       "    </tr>\n",
       "    <tr>\n",
       "      <th>22</th>\n",
       "      <td>killed injured in saudi arabia floods</td>\n",
       "      <td>least people killed others injured saudi arabi...</td>\n",
       "      <td>45.0</td>\n",
       "      <td>326.0</td>\n",
       "      <td>sostoken killed injured in saudi arabia floods</td>\n",
       "      <td>killed injured in saudi arabia floods eostoken</td>\n",
       "    </tr>\n",
       "    <tr>\n",
       "      <th>29</th>\n",
       "      <td>seat cushions from missing plane carrying foot...</td>\n",
       "      <td>investigators searching lost plane carrying ar...</td>\n",
       "      <td>62.0</td>\n",
       "      <td>399.0</td>\n",
       "      <td>sostoken seat cushions from missing plane carr...</td>\n",
       "      <td>seat cushions from missing plane carrying foot...</td>\n",
       "    </tr>\n",
       "    <tr>\n",
       "      <th>36</th>\n",
       "      <td>agustawestland scam accused rajiv saxena extra...</td>\n",
       "      <td>agustawestland chopper scam co accused rajiv s...</td>\n",
       "      <td>60.0</td>\n",
       "      <td>396.0</td>\n",
       "      <td>sostoken agustawestland scam accused rajiv sax...</td>\n",
       "      <td>agustawestland scam accused rajiv saxena extra...</td>\n",
       "    </tr>\n",
       "  </tbody>\n",
       "</table>\n",
       "</div>"
      ],
      "text/plain": [
       "                                            headlines  \\\n",
       "19  odisha cm patnaik controls mining mafia union ...   \n",
       "21  isro unveils bengaluru centre for manned space...   \n",
       "22              killed injured in saudi arabia floods   \n",
       "29  seat cushions from missing plane carrying foot...   \n",
       "36  agustawestland scam accused rajiv saxena extra...   \n",
       "\n",
       "                                                 text  headlines_len  \\\n",
       "19  union minister dharmendra pradhan wednesday cl...           55.0   \n",
       "21  indian space research organisation wednesday u...           55.0   \n",
       "22  least people killed others injured saudi arabi...           45.0   \n",
       "29  investigators searching lost plane carrying ar...           62.0   \n",
       "36  agustawestland chopper scam co accused rajiv s...           60.0   \n",
       "\n",
       "    text_len                                      decoder_input  \\\n",
       "19     357.0  sostoken odisha cm patnaik controls mining maf...   \n",
       "21     403.0  sostoken isro unveils bengaluru centre for man...   \n",
       "22     326.0     sostoken killed injured in saudi arabia floods   \n",
       "29     399.0  sostoken seat cushions from missing plane carr...   \n",
       "36     396.0  sostoken agustawestland scam accused rajiv sax...   \n",
       "\n",
       "                                       decoder_target  \n",
       "19  odisha cm patnaik controls mining mafia union ...  \n",
       "21  isro unveils bengaluru centre for manned space...  \n",
       "22     killed injured in saudi arabia floods eostoken  \n",
       "29  seat cushions from missing plane carrying foot...  \n",
       "36  agustawestland scam accused rajiv saxena extra...  "
      ]
     },
     "execution_count": 34,
     "metadata": {},
     "output_type": "execute_result"
    }
   ],
   "source": [
    "# 요약 데이터에는 시작 토큰과 종료 토큰을 추가한다.\n",
    "data['decoder_input'] = data['headlines'].apply(lambda x : 'sostoken '+ x)\n",
    "data['decoder_target'] = data['headlines'].apply(lambda x : x + ' eostoken')\n",
    "data.head()"
   ]
  },
  {
   "cell_type": "markdown",
   "id": "93b75665",
   "metadata": {},
   "source": [
    "인코더의 입력, 디코더의 입력과 레이블을 각각 Numpy 타입으로 저장"
   ]
  },
  {
   "cell_type": "code",
   "execution_count": 36,
   "id": "808df1f5",
   "metadata": {},
   "outputs": [
    {
     "name": "stdout",
     "output_type": "stream",
     "text": [
      "=3\n"
     ]
    }
   ],
   "source": [
    "encoder_input = np.array(data['text']) # 인코더의 입력\n",
    "decoder_input = np.array(data['decoder_input']) # 디코더의 입력\n",
    "decoder_target = np.array(data['decoder_target']) # 디코더의 레이블\n",
    "print('=3')"
   ]
  },
  {
   "cell_type": "markdown",
   "id": "289cfec4",
   "metadata": {},
   "source": [
    "훈련 데이터와 테스트 데이터를 분리   \n",
    "정수 시퀀스를 이용해 데이터의 샘플 순서를 정의해 줘서 샘플을 잘 섞습니다."
   ]
  },
  {
   "cell_type": "code",
   "execution_count": 37,
   "id": "795a2fba",
   "metadata": {},
   "outputs": [
    {
     "name": "stdout",
     "output_type": "stream",
     "text": [
      "[13407 26341 12513 ... 15870 27100  6574]\n"
     ]
    }
   ],
   "source": [
    "indices = np.arange(encoder_input.shape[0])\n",
    "np.random.shuffle(indices)\n",
    "print(indices)"
   ]
  },
  {
   "cell_type": "code",
   "execution_count": 38,
   "id": "a5055d89",
   "metadata": {},
   "outputs": [
    {
     "name": "stdout",
     "output_type": "stream",
     "text": [
      "=3\n"
     ]
    }
   ],
   "source": [
    "encoder_input = encoder_input[indices]\n",
    "decoder_input = decoder_input[indices]\n",
    "decoder_target = decoder_target[indices]\n",
    "print('=3')"
   ]
  },
  {
   "cell_type": "code",
   "execution_count": 39,
   "id": "03c1f3b2",
   "metadata": {},
   "outputs": [
    {
     "name": "stdout",
     "output_type": "stream",
     "text": [
      "테스트 데이터의 수 : 5420\n"
     ]
    }
   ],
   "source": [
    "n_of_val = int(len(encoder_input)*0.2)\n",
    "print('테스트 데이터의 수 :', n_of_val)"
   ]
  },
  {
   "cell_type": "code",
   "execution_count": 40,
   "id": "eaa2a76c",
   "metadata": {},
   "outputs": [
    {
     "name": "stdout",
     "output_type": "stream",
     "text": [
      "훈련 데이터의 개수 : 21684\n",
      "훈련 레이블의 개수 : 21684\n",
      "테스트 데이터의 개수 : 5420\n",
      "테스트 레이블의 개수 : 5420\n"
     ]
    }
   ],
   "source": [
    "encoder_input_train = encoder_input[:-n_of_val]\n",
    "decoder_input_train = decoder_input[:-n_of_val]\n",
    "decoder_target_train = decoder_target[:-n_of_val]\n",
    "\n",
    "encoder_input_test = encoder_input[-n_of_val:]\n",
    "decoder_input_test = decoder_input[-n_of_val:]\n",
    "decoder_target_test = decoder_target[-n_of_val:]\n",
    "\n",
    "print('훈련 데이터의 개수 :', len(encoder_input_train))\n",
    "print('훈련 레이블의 개수 :', len(decoder_input_train))\n",
    "print('테스트 데이터의 개수 :', len(encoder_input_test))\n",
    "print('테스트 레이블의 개수 :', len(decoder_input_test))"
   ]
  },
  {
   "cell_type": "markdown",
   "id": "2713ed80",
   "metadata": {},
   "source": [
    "## 정수 인코딩"
   ]
  },
  {
   "cell_type": "markdown",
   "id": "2ce6df16",
   "metadata": {},
   "source": [
    "### 단어 집합 (vocabulary) 만들기 및 정수 인코딩"
   ]
  },
  {
   "cell_type": "code",
   "execution_count": 41,
   "id": "e7c772f7",
   "metadata": {},
   "outputs": [
    {
     "name": "stdout",
     "output_type": "stream",
     "text": [
      "=3\n"
     ]
    }
   ],
   "source": [
    "src_tokenizer = Tokenizer() # 토크나이저 정의\n",
    "src_tokenizer.fit_on_texts(encoder_input_train) # 입력된 데이터로부터 단어 집합 생성\n",
    "print('=3')"
   ]
  },
  {
   "cell_type": "code",
   "execution_count": 42,
   "id": "eb114e7d",
   "metadata": {},
   "outputs": [
    {
     "name": "stdout",
     "output_type": "stream",
     "text": [
      "단어 집합(vocabulary)의 크기 : 42473\n",
      "등장 빈도가 6번 이하인 희귀 단어의 수: 30752\n",
      "단어 집합에서 희귀 단어를 제외시킬 경우의 단어 집합의 크기 11721\n",
      "단어 집합에서 희귀 단어의 비율: 72.40364466837755\n",
      "전체 등장 빈도에서 희귀 단어 등장 빈도 비율: 8.311361086965384\n"
     ]
    }
   ],
   "source": [
    "threshold = 7\n",
    "total_cnt = len(src_tokenizer.word_index) # 단어의 수\n",
    "rare_cnt = 0 # 등장 빈도수가 threshold보다 작은 단어의 개수를 카운트\n",
    "total_freq = 0 # 훈련 데이터의 전체 단어 빈도수 총 합\n",
    "rare_freq = 0 # 등장 빈도수가 threshold보다 작은 단어의 등장 빈도수의 총 합\n",
    "\n",
    "# 단어와 빈도수의 쌍(pair)을 key와 value로 받는다.\n",
    "for key, value in src_tokenizer.word_counts.items():\n",
    "    total_freq = total_freq + value\n",
    "\n",
    "    # 단어의 등장 빈도수가 threshold보다 작으면\n",
    "    if(value < threshold):\n",
    "        rare_cnt = rare_cnt + 1\n",
    "        rare_freq = rare_freq + value\n",
    "\n",
    "print('단어 집합(vocabulary)의 크기 :', total_cnt)\n",
    "print('등장 빈도가 %s번 이하인 희귀 단어의 수: %s'%(threshold - 1, rare_cnt))\n",
    "print('단어 집합에서 희귀 단어를 제외시킬 경우의 단어 집합의 크기 %s'%(total_cnt - rare_cnt))\n",
    "print(\"단어 집합에서 희귀 단어의 비율:\", (rare_cnt / total_cnt)*100)\n",
    "print(\"전체 등장 빈도에서 희귀 단어 등장 빈도 비율:\", (rare_freq / total_freq)*100)"
   ]
  },
  {
   "cell_type": "markdown",
   "id": "8b3edb42",
   "metadata": {},
   "source": [
    "등장빈도가 6회 이하인 단어들은 정수 인코딩 과정에서 뺴고, 훈련데이터에서 제거."
   ]
  },
  {
   "cell_type": "code",
   "execution_count": 43,
   "id": "b7c26a9a",
   "metadata": {},
   "outputs": [
    {
     "name": "stdout",
     "output_type": "stream",
     "text": [
      "=3\n"
     ]
    }
   ],
   "source": [
    "src_vocab = 8000\n",
    "src_tokenizer = Tokenizer(num_words=src_vocab) # 단어 집합의 크기를 8,000으로 제한\n",
    "src_tokenizer.fit_on_texts(encoder_input_train) # 단어 집합 재생성\n",
    "print('=3')"
   ]
  },
  {
   "cell_type": "code",
   "execution_count": 44,
   "id": "df02c2af",
   "metadata": {},
   "outputs": [
    {
     "name": "stdout",
     "output_type": "stream",
     "text": [
      "[[282, 18, 1624, 5239, 59, 430, 391, 2555, 7814, 616, 1966, 158, 358, 1504, 1939, 1328, 1504, 32, 1988, 2045, 3454, 1352, 4183, 209, 93, 78, 7815, 1238, 1781, 3151, 6453, 5582], [3455, 1102, 4933, 3609, 611, 233, 5779, 1471, 240, 283, 312, 223, 1920, 248, 4933, 946, 6737, 26, 5240, 946, 187, 2145, 723, 946, 5583, 566], [303, 96, 8, 4074, 10, 2556, 6230, 2841, 17, 852, 379, 8, 545, 6454, 1329, 420, 1665, 1341, 1989, 1341, 3872, 4934, 4184, 1867, 17, 270, 15, 64, 1]]\n"
     ]
    }
   ],
   "source": [
    "# 텍스트 시퀀스를 정수 시퀀스로 변환\n",
    "encoder_input_train = src_tokenizer.texts_to_sequences(encoder_input_train) \n",
    "encoder_input_test = src_tokenizer.texts_to_sequences(encoder_input_test)\n",
    "\n",
    "# 잘 진행되었는지 샘플 출력\n",
    "print(encoder_input_train[:3])"
   ]
  },
  {
   "cell_type": "code",
   "execution_count": 45,
   "id": "21f3401d",
   "metadata": {},
   "outputs": [
    {
     "name": "stdout",
     "output_type": "stream",
     "text": [
      "=3\n"
     ]
    }
   ],
   "source": [
    "tar_tokenizer = Tokenizer()\n",
    "tar_tokenizer.fit_on_texts(decoder_input_train)\n",
    "print('=3')"
   ]
  },
  {
   "cell_type": "code",
   "execution_count": 46,
   "id": "33a0d6d7",
   "metadata": {
    "scrolled": true
   },
   "outputs": [
    {
     "name": "stdout",
     "output_type": "stream",
     "text": [
      "단어 집합(vocabulary)의 크기 : 18848\n",
      "등장 빈도가 5번 이하인 희귀 단어의 수: 14220\n",
      "단어 집합에서 희귀 단어를 제외시킬 경우의 단어 집합의 크기 4628\n",
      "단어 집합에서 희귀 단어의 비율: 75.44567062818336\n",
      "전체 등장 빈도에서 희귀 단어 등장 빈도 비율: 14.190215087800246\n"
     ]
    }
   ],
   "source": [
    "threshold = 6\n",
    "total_cnt = len(tar_tokenizer.word_index) # 단어의 수\n",
    "rare_cnt = 0 # 등장 빈도수가 threshold보다 작은 단어의 개수를 카운트\n",
    "total_freq = 0 # 훈련 데이터의 전체 단어 빈도수 총 합\n",
    "rare_freq = 0 # 등장 빈도수가 threshold보다 작은 단어의 등장 빈도수의 총 합\n",
    "\n",
    "# 단어와 빈도수의 쌍(pair)을 key와 value로 받는다.\n",
    "for key, value in tar_tokenizer.word_counts.items():\n",
    "    total_freq = total_freq + value\n",
    "\n",
    "    # 단어의 등장 빈도수가 threshold보다 작으면\n",
    "    if(value < threshold):\n",
    "        rare_cnt = rare_cnt + 1\n",
    "        rare_freq = rare_freq + value\n",
    "\n",
    "print('단어 집합(vocabulary)의 크기 :', total_cnt)\n",
    "print('등장 빈도가 %s번 이하인 희귀 단어의 수: %s'%(threshold - 1, rare_cnt))\n",
    "print('단어 집합에서 희귀 단어를 제외시킬 경우의 단어 집합의 크기 %s'%(total_cnt - rare_cnt))\n",
    "print(\"단어 집합에서 희귀 단어의 비율:\", (rare_cnt / total_cnt)*100)\n",
    "print(\"전체 등장 빈도에서 희귀 단어 등장 빈도 비율:\", (rare_freq / total_freq)*100)"
   ]
  },
  {
   "cell_type": "markdown",
   "id": "9c451fac",
   "metadata": {},
   "source": [
    "Summary 에서 단어집합은 2000으로 제한"
   ]
  },
  {
   "cell_type": "code",
   "execution_count": 47,
   "id": "66ac812a",
   "metadata": {},
   "outputs": [
    {
     "name": "stdout",
     "output_type": "stream",
     "text": [
      "input\n",
      "input  [[1, 1255, 219, 1811, 116, 1474], [1, 18, 756, 1061, 83, 739, 3], [1, 58, 69, 13, 5], [1, 13, 1150, 547, 23, 5, 104], [1, 220, 255, 257, 11, 886, 643, 625]]\n",
      "target\n",
      "decoder  [[1255, 219, 1811, 116, 1474, 2], [18, 756, 1061, 83, 739, 3, 2], [58, 69, 13, 5, 2], [13, 1150, 547, 23, 5, 104, 2], [220, 255, 257, 11, 886, 643, 625, 2]]\n"
     ]
    }
   ],
   "source": [
    "tar_vocab = 2000\n",
    "tar_tokenizer = Tokenizer(num_words=tar_vocab) \n",
    "tar_tokenizer.fit_on_texts(decoder_input_train)\n",
    "tar_tokenizer.fit_on_texts(decoder_target_train)\n",
    "\n",
    "# 텍스트 시퀀스를 정수 시퀀스로 변환\n",
    "decoder_input_train = tar_tokenizer.texts_to_sequences(decoder_input_train) \n",
    "decoder_target_train = tar_tokenizer.texts_to_sequences(decoder_target_train)\n",
    "decoder_input_test = tar_tokenizer.texts_to_sequences(decoder_input_test)\n",
    "decoder_target_test = tar_tokenizer.texts_to_sequences(decoder_target_test)\n",
    "\n",
    "# 잘 변환되었는지 확인\n",
    "print('input')\n",
    "print('input ',decoder_input_train[:5])\n",
    "print('target')\n",
    "print('decoder ',decoder_target_train[:5])"
   ]
  },
  {
   "cell_type": "code",
   "execution_count": 48,
   "id": "18a2a8e3",
   "metadata": {},
   "outputs": [
    {
     "name": "stdout",
     "output_type": "stream",
     "text": [
      "삭제할 훈련 데이터의 개수 : 9\n",
      "삭제할 테스트 데이터의 개수 : 6\n",
      "훈련 데이터의 개수 : 21675\n",
      "훈련 레이블의 개수 : 21675\n",
      "테스트 데이터의 개수 : 5414\n",
      "테스트 레이블의 개수 : 5414\n"
     ]
    }
   ],
   "source": [
    "drop_train = [index for index, sentence in enumerate(decoder_input_train) if len(sentence) == 1]\n",
    "drop_test = [index for index, sentence in enumerate(decoder_input_test) if len(sentence) == 1]\n",
    "\n",
    "print('삭제할 훈련 데이터의 개수 :', len(drop_train))\n",
    "print('삭제할 테스트 데이터의 개수 :', len(drop_test))\n",
    "\n",
    "encoder_input_train = [sentence for index, sentence in enumerate(encoder_input_train) if index not in drop_train]\n",
    "decoder_input_train = [sentence for index, sentence in enumerate(decoder_input_train) if index not in drop_train]\n",
    "decoder_target_train = [sentence for index, sentence in enumerate(decoder_target_train) if index not in drop_train]\n",
    "\n",
    "encoder_input_test = [sentence for index, sentence in enumerate(encoder_input_test) if index not in drop_test]\n",
    "decoder_input_test = [sentence for index, sentence in enumerate(decoder_input_test) if index not in drop_test]\n",
    "decoder_target_test = [sentence for index, sentence in enumerate(decoder_target_test) if index not in drop_test]\n",
    "\n",
    "print('훈련 데이터의 개수 :', len(encoder_input_train))\n",
    "print('훈련 레이블의 개수 :', len(decoder_input_train))\n",
    "print('테스트 데이터의 개수 :', len(encoder_input_test))\n",
    "print('테스트 레이블의 개수 :', len(decoder_input_test))"
   ]
  },
  {
   "cell_type": "markdown",
   "id": "e8721bb0",
   "metadata": {},
   "source": [
    "### 패딩하기"
   ]
  },
  {
   "cell_type": "code",
   "execution_count": 49,
   "id": "1dd07095",
   "metadata": {},
   "outputs": [
    {
     "name": "stdout",
     "output_type": "stream",
     "text": [
      "=3\n"
     ]
    }
   ],
   "source": [
    "encoder_input_train = pad_sequences(encoder_input_train, maxlen=text_max_len, padding='post')\n",
    "encoder_input_test = pad_sequences(encoder_input_test, maxlen=text_max_len, padding='post')\n",
    "decoder_input_train = pad_sequences(decoder_input_train, maxlen=headlines_max_len, padding='post')\n",
    "decoder_target_train = pad_sequences(decoder_target_train, maxlen=headlines_max_len, padding='post')\n",
    "decoder_input_test = pad_sequences(decoder_input_test, maxlen=headlines_max_len, padding='post')\n",
    "decoder_target_test = pad_sequences(decoder_target_test, maxlen=headlines_max_len, padding='post')\n",
    "print('=3')"
   ]
  },
  {
   "cell_type": "markdown",
   "id": "a0d33c11",
   "metadata": {},
   "source": [
    "## 모델 설계하기"
   ]
  },
  {
   "cell_type": "markdown",
   "id": "c514fcca",
   "metadata": {},
   "source": [
    "함수형 API를 이용한 모델 설계"
   ]
  },
  {
   "cell_type": "code",
   "execution_count": 217,
   "id": "14e709c4",
   "metadata": {},
   "outputs": [],
   "source": [
    "from tensorflow.keras.layers import Input, LSTM, Embedding, \\\n",
    "                      LayerNormalization, Dense, Concatenate, TimeDistributed\n",
    "from tensorflow.keras.models import Model\n",
    "from tensorflow.keras.callbacks import EarlyStopping, ModelCheckpoint\n",
    "\n",
    "\n",
    "# 인코더 설계 시작\n",
    "embedding_dim = 128\n",
    "hidden_size = 256\n",
    "\n",
    "# 인코더\n",
    "encoder_inputs = Input(shape=(text_max_len,))\n",
    "\n",
    "# 인코더의 임베딩 층\n",
    "enc_emb = Embedding(src_vocab, embedding_dim)(encoder_inputs)\n",
    "\n",
    "# 인코더의 LSTM 1\n",
    "# encoder_lstm1 = LSTM(hidden_size, return_sequences=True, return_state=True ,dropout = 0.4, recurrent_dropout = 0.4)\n",
    "encoder_lstm1 = LSTM(hidden_size, return_sequences=True, return_state=True, dropout=0.4 )\n",
    "encoder_output1, state_h1, state_c1 = encoder_lstm1(enc_emb)\n",
    "# layer_norm1 = LayerNormalization()\n",
    "\n",
    "\n",
    "# 인코더의 LSTM 2\n",
    "# encoder_lstm2 = LSTM(hidden_size, return_sequences=True, return_state=True, dropout=0.4, recurrent_dropout=0.4)\n",
    "encoder_lstm2 = LSTM(hidden_size, return_sequences=True, return_state=True, dropout=0.4)\n",
    "encoder_output2, state_h2, state_c2 = encoder_lstm2(encoder_output1)\n",
    "# layer_norm2 = LayerNormalization((), encoder_output2)\n",
    "\n",
    "\n",
    "# 인코더의 LSTM 3\n",
    "# encoder_lstm3 = LSTM(hidden_size, return_state=True, return_sequences=True, dropout=0.4, recurrent_dropout=0.4)\n",
    "encoder_lstm3 = LSTM(hidden_size, return_state=True, return_sequences=True, dropout=0.4)\n",
    "encoder_output3, state_h3, state_c3= encoder_lstm3(encoder_output2)\n",
    "# layer_norm3 = LayerNormalization((), encoder_output3)\n",
    "\n",
    "# 인코더의 LSTM 3\n",
    "# encoder_lstm3 = LSTM(hidden_size, return_state=True, return_sequences=True, dropout=0.4, recurrent_dropout=0.4)\n",
    "encoder_lstm4 = LSTM(hidden_size, return_state=True, return_sequences=True, dropout=0.4)\n",
    "encoder_outputs, state_h, state_c= encoder_lstm4(encoder_output3)\n",
    "# layer_norm4 = LayerNormalization((), encoder_outputs)\n",
    "\n"
   ]
  },
  {
   "cell_type": "code",
   "execution_count": 218,
   "id": "f9ed7446",
   "metadata": {},
   "outputs": [],
   "source": [
    "# 디코더 설계\n",
    "decoder_inputs = Input(shape=(None,))\n",
    "\n",
    "# 디코더의 임베딩 층\n",
    "dec_emb_layer = Embedding(tar_vocab, embedding_dim)\n",
    "dec_emb = dec_emb_layer(decoder_inputs)\n",
    "\n",
    "# 디코더의 LSTM\n",
    "# decoder_lstm = LSTM(hidden_size, return_sequences=True, return_state=True, dropout=0.4, recurrent_dropout=0.2)\n",
    "decoder_lstm = LSTM(hidden_size, return_sequences=True, return_state=True, dropout=0.4)\n",
    "decoder_outputs, _, _ = decoder_lstm(dec_emb, initial_state=[state_h, state_c])"
   ]
  },
  {
   "cell_type": "code",
   "execution_count": 219,
   "id": "25950b0d",
   "metadata": {
    "scrolled": true
   },
   "outputs": [
    {
     "name": "stdout",
     "output_type": "stream",
     "text": [
      "Model: \"model_51\"\n",
      "__________________________________________________________________________________________________\n",
      "Layer (type)                    Output Shape         Param #     Connected to                     \n",
      "==================================================================================================\n",
      "input_44 (InputLayer)           [(None, 50)]         0                                            \n",
      "__________________________________________________________________________________________________\n",
      "embedding_25 (Embedding)        (None, 50, 128)      1024000     input_44[0][0]                   \n",
      "__________________________________________________________________________________________________\n",
      "lstm_50 (LSTM)                  [(None, 50, 256), (N 394240      embedding_25[0][0]               \n",
      "__________________________________________________________________________________________________\n",
      "lstm_51 (LSTM)                  [(None, 50, 256), (N 525312      lstm_50[0][0]                    \n",
      "__________________________________________________________________________________________________\n",
      "input_45 (InputLayer)           [(None, None)]       0                                            \n",
      "__________________________________________________________________________________________________\n",
      "lstm_52 (LSTM)                  [(None, 50, 256), (N 525312      lstm_51[0][0]                    \n",
      "__________________________________________________________________________________________________\n",
      "embedding_26 (Embedding)        (None, None, 128)    256000      input_45[0][0]                   \n",
      "__________________________________________________________________________________________________\n",
      "lstm_53 (LSTM)                  [(None, 50, 256), (N 525312      lstm_52[0][0]                    \n",
      "__________________________________________________________________________________________________\n",
      "lstm_54 (LSTM)                  [(None, None, 256),  394240      embedding_26[0][0]               \n",
      "                                                                 lstm_53[0][1]                    \n",
      "                                                                 lstm_53[0][2]                    \n",
      "__________________________________________________________________________________________________\n",
      "dense_39 (Dense)                (None, None, 2000)   514000      lstm_54[0][0]                    \n",
      "==================================================================================================\n",
      "Total params: 4,158,416\n",
      "Trainable params: 4,158,416\n",
      "Non-trainable params: 0\n",
      "__________________________________________________________________________________________________\n"
     ]
    }
   ],
   "source": [
    "# 디코더의 출력층\n",
    "decoder_softmax_layer = Dense(tar_vocab, activation='softmax')\n",
    "decoder_softmax_outputs = decoder_softmax_layer(decoder_outputs) \n",
    "\n",
    "# 모델 정의\n",
    "model = Model([encoder_inputs, decoder_inputs], decoder_softmax_outputs)\n",
    "model.summary()"
   ]
  },
  {
   "cell_type": "markdown",
   "id": "025f270a",
   "metadata": {},
   "source": [
    "### 어텐션 메커니즘"
   ]
  },
  {
   "cell_type": "code",
   "execution_count": 220,
   "id": "c25c1ac4",
   "metadata": {
    "scrolled": false
   },
   "outputs": [
    {
     "name": "stdout",
     "output_type": "stream",
     "text": [
      "Model: \"model_52\"\n",
      "__________________________________________________________________________________________________\n",
      "Layer (type)                    Output Shape         Param #     Connected to                     \n",
      "==================================================================================================\n",
      "input_44 (InputLayer)           [(None, 50)]         0                                            \n",
      "__________________________________________________________________________________________________\n",
      "embedding_25 (Embedding)        (None, 50, 128)      1024000     input_44[0][0]                   \n",
      "__________________________________________________________________________________________________\n",
      "lstm_50 (LSTM)                  [(None, 50, 256), (N 394240      embedding_25[0][0]               \n",
      "__________________________________________________________________________________________________\n",
      "lstm_51 (LSTM)                  [(None, 50, 256), (N 525312      lstm_50[0][0]                    \n",
      "__________________________________________________________________________________________________\n",
      "input_45 (InputLayer)           [(None, None)]       0                                            \n",
      "__________________________________________________________________________________________________\n",
      "lstm_52 (LSTM)                  [(None, 50, 256), (N 525312      lstm_51[0][0]                    \n",
      "__________________________________________________________________________________________________\n",
      "embedding_26 (Embedding)        (None, None, 128)    256000      input_45[0][0]                   \n",
      "__________________________________________________________________________________________________\n",
      "lstm_53 (LSTM)                  [(None, 50, 256), (N 525312      lstm_52[0][0]                    \n",
      "__________________________________________________________________________________________________\n",
      "lstm_54 (LSTM)                  [(None, None, 256),  394240      embedding_26[0][0]               \n",
      "                                                                 lstm_53[0][1]                    \n",
      "                                                                 lstm_53[0][2]                    \n",
      "__________________________________________________________________________________________________\n",
      "attention_layer (AdditiveAttent (None, None, 256)    256         lstm_54[0][0]                    \n",
      "                                                                 lstm_53[0][0]                    \n",
      "__________________________________________________________________________________________________\n",
      "concat_layer (Concatenate)      (None, None, 512)    0           lstm_54[0][0]                    \n",
      "                                                                 attention_layer[0][0]            \n",
      "__________________________________________________________________________________________________\n",
      "dense_40 (Dense)                (None, None, 2000)   1026000     concat_layer[0][0]               \n",
      "==================================================================================================\n",
      "Total params: 4,670,672\n",
      "Trainable params: 4,670,672\n",
      "Non-trainable params: 0\n",
      "__________________________________________________________________________________________________\n"
     ]
    }
   ],
   "source": [
    "from tensorflow.keras.layers import AdditiveAttention\n",
    "\n",
    "# 어텐션 층(어텐션 함수)\n",
    "attn_layer = AdditiveAttention(name='attention_layer')\n",
    "\n",
    "# 인코더와 디코더의 모든 time step의 hidden state를 어텐션 층에 전달하고 결과를 리턴\n",
    "attn_out = attn_layer([decoder_outputs, encoder_outputs])\n",
    "\n",
    "\n",
    "# 어텐션의 결과와 디코더의 hidden state들을 연결\n",
    "decoder_concat_input = Concatenate(axis=-1, name='concat_layer')([decoder_outputs, attn_out])\n",
    "\n",
    "# 디코더의 출력층\n",
    "decoder_softmax_layer = Dense(tar_vocab, activation='softmax')\n",
    "decoder_softmax_outputs = decoder_softmax_layer(decoder_concat_input)\n",
    "\n",
    "# 모델 정의\n",
    "model = Model([encoder_inputs, decoder_inputs], decoder_softmax_outputs)\n",
    "model.summary()"
   ]
  },
  {
   "cell_type": "markdown",
   "id": "9a02b028",
   "metadata": {},
   "source": [
    "## 모델 훈련하기"
   ]
  },
  {
   "cell_type": "code",
   "execution_count": 221,
   "id": "1093043b",
   "metadata": {
    "scrolled": false
   },
   "outputs": [
    {
     "name": "stdout",
     "output_type": "stream",
     "text": [
      "Epoch 1/50\n",
      "85/85 [==============================] - 15s 102ms/step - loss: 4.9291 - val_loss: 4.5553\n",
      "Epoch 2/50\n",
      "85/85 [==============================] - 7s 88ms/step - loss: 4.5288 - val_loss: 4.3745\n",
      "Epoch 3/50\n",
      "85/85 [==============================] - 7s 88ms/step - loss: 4.3485 - val_loss: 4.2364\n",
      "Epoch 4/50\n",
      "85/85 [==============================] - 7s 88ms/step - loss: 4.2168 - val_loss: 4.1234\n",
      "Epoch 5/50\n",
      "85/85 [==============================] - 7s 88ms/step - loss: 4.0882 - val_loss: 4.0312\n",
      "Epoch 6/50\n",
      "85/85 [==============================] - 7s 88ms/step - loss: 3.9665 - val_loss: 3.9449\n",
      "Epoch 7/50\n",
      "85/85 [==============================] - 7s 88ms/step - loss: 3.8423 - val_loss: 3.8311\n",
      "Epoch 8/50\n",
      "85/85 [==============================] - 7s 87ms/step - loss: 3.7091 - val_loss: 3.7437\n",
      "Epoch 9/50\n",
      "85/85 [==============================] - 7s 88ms/step - loss: 3.5856 - val_loss: 3.6656\n",
      "Epoch 10/50\n",
      "85/85 [==============================] - 7s 88ms/step - loss: 3.4797 - val_loss: 3.5958\n",
      "Epoch 11/50\n",
      "85/85 [==============================] - 7s 88ms/step - loss: 3.3842 - val_loss: 3.5427\n",
      "Epoch 12/50\n",
      "85/85 [==============================] - 7s 87ms/step - loss: 3.2913 - val_loss: 3.5018\n",
      "Epoch 13/50\n",
      "85/85 [==============================] - 7s 88ms/step - loss: 3.2036 - val_loss: 3.4725\n",
      "Epoch 14/50\n",
      "85/85 [==============================] - 7s 87ms/step - loss: 3.1270 - val_loss: 3.4581\n",
      "Epoch 15/50\n",
      "85/85 [==============================] - 7s 88ms/step - loss: 3.0546 - val_loss: 3.4204\n",
      "Epoch 16/50\n",
      "85/85 [==============================] - 7s 88ms/step - loss: 2.9874 - val_loss: 3.4073\n",
      "Epoch 17/50\n",
      "85/85 [==============================] - 7s 88ms/step - loss: 2.9191 - val_loss: 3.3973\n",
      "Epoch 18/50\n",
      "85/85 [==============================] - 7s 88ms/step - loss: 2.8543 - val_loss: 3.3816\n",
      "Epoch 19/50\n",
      "85/85 [==============================] - 7s 88ms/step - loss: 2.7966 - val_loss: 3.3691\n",
      "Epoch 20/50\n",
      "85/85 [==============================] - 7s 88ms/step - loss: 2.7374 - val_loss: 3.3645\n",
      "Epoch 21/50\n",
      "85/85 [==============================] - 7s 88ms/step - loss: 2.6784 - val_loss: 3.3616\n",
      "Epoch 22/50\n",
      "85/85 [==============================] - 7s 88ms/step - loss: 2.6235 - val_loss: 3.3597\n",
      "Epoch 23/50\n",
      "85/85 [==============================] - 7s 88ms/step - loss: 2.5670 - val_loss: 3.3565\n",
      "Epoch 24/50\n",
      "85/85 [==============================] - 7s 88ms/step - loss: 2.5143 - val_loss: 3.3542\n",
      "Epoch 25/50\n",
      "85/85 [==============================] - 7s 88ms/step - loss: 2.4635 - val_loss: 3.3582\n",
      "Epoch 26/50\n",
      "85/85 [==============================] - 7s 88ms/step - loss: 2.4152 - val_loss: 3.3581\n",
      "Epoch 00026: early stopping\n"
     ]
    }
   ],
   "source": [
    "from tensorflow.keras.optimizers import RMSprop\n",
    "rmsprop_ = RMSprop()\n",
    "model.compile(optimizer=rmsprop_, loss='sparse_categorical_crossentropy')\n",
    "es = EarlyStopping(monitor='val_loss', patience=2, verbose=1)\n",
    "history = model.fit(x=[encoder_input_train, decoder_input_train], y=decoder_target_train, \\\n",
    "          validation_data=([encoder_input_test, decoder_input_test], decoder_target_test), \\\n",
    "          batch_size=256, callbacks=[es], epochs=50)"
   ]
  },
  {
   "cell_type": "code",
   "execution_count": 222,
   "id": "e7d9a94e",
   "metadata": {},
   "outputs": [
    {
     "data": {
      "image/png": "[encoded data removed]",
      "text/plain": [
       "<Figure size 432x288 with 1 Axes>"
      ]
     },
     "metadata": {
      "needs_background": "light"
     },
     "output_type": "display_data"
    }
   ],
   "source": [
    "plt.plot(history.history['loss'], label='train')\n",
    "plt.plot(history.history['val_loss'], label='test')\n",
    "plt.legend()\n",
    "plt.show()"
   ]
  },
  {
   "cell_type": "markdown",
   "id": "c167c398",
   "metadata": {},
   "source": [
    "## 인퍼런스 모델 구현하기"
   ]
  },
  {
   "cell_type": "code",
   "execution_count": 223,
   "id": "6b9d9414",
   "metadata": {},
   "outputs": [
    {
     "name": "stdout",
     "output_type": "stream",
     "text": [
      "=3\n"
     ]
    }
   ],
   "source": [
    "src_index_to_word = src_tokenizer.index_word # 원문 단어 집합에서 정수 -> 단어를 얻음\n",
    "tar_word_to_index = tar_tokenizer.word_index # 요약 단어 집합에서 단어 -> 정수를 얻음\n",
    "tar_index_to_word = tar_tokenizer.index_word # 요약 단어 집합에서 정수 -> 단어를 얻음\n",
    "\n",
    "print('=3')"
   ]
  },
  {
   "cell_type": "code",
   "execution_count": 224,
   "id": "66de0ab4",
   "metadata": {},
   "outputs": [
    {
     "name": "stdout",
     "output_type": "stream",
     "text": [
      "=3\n"
     ]
    }
   ],
   "source": [
    "# 인코더 설계\n",
    "encoder_model = Model(inputs=encoder_inputs, outputs=[encoder_outputs, state_h, state_c])\n",
    "\n",
    "# 이전 시점의 상태들을 저장하는 텐서\n",
    "decoder_state_input_h = Input(shape=(hidden_size,))\n",
    "decoder_state_input_c = Input(shape=(hidden_size,))\n",
    "\n",
    "dec_emb2 = dec_emb_layer(decoder_inputs)\n",
    "\n",
    "# 문장의 다음 단어를 예측하기 위해서 초기 상태(initial_state)를 이전 시점의 상태로 사용. 이는 뒤의 함수 decode_sequence()에 구현\n",
    "# 훈련 과정에서와 달리 LSTM의 리턴하는 은닉 상태와 셀 상태인 state_h와 state_c를 버리지 않음.\n",
    "decoder_outputs2, state_h2, state_c2 = decoder_lstm(dec_emb2, initial_state=[decoder_state_input_h, decoder_state_input_c])\n",
    "\n",
    "print('=3')"
   ]
  },
  {
   "cell_type": "code",
   "execution_count": 225,
   "id": "10ddd69e",
   "metadata": {},
   "outputs": [
    {
     "name": "stdout",
     "output_type": "stream",
     "text": [
      "=3\n"
     ]
    }
   ],
   "source": [
    "# 어텐션 함수\n",
    "decoder_hidden_state_input = Input(shape=(text_max_len, hidden_size))\n",
    "attn_out_inf = attn_layer([decoder_outputs2, decoder_hidden_state_input])\n",
    "decoder_inf_concat = Concatenate(axis=-1, name='concat')([decoder_outputs2, attn_out_inf])\n",
    "\n",
    "# 디코더의 출력층\n",
    "decoder_outputs2 = decoder_softmax_layer(decoder_inf_concat) \n",
    "\n",
    "# 최종 디코더 모델\n",
    "decoder_model = Model(\n",
    "    [decoder_inputs] + [decoder_hidden_state_input,decoder_state_input_h, decoder_state_input_c],\n",
    "    [decoder_outputs2] + [state_h2, state_c2])\n",
    "\n",
    "print('=3')"
   ]
  },
  {
   "cell_type": "code",
   "execution_count": 226,
   "id": "49213bb5",
   "metadata": {},
   "outputs": [
    {
     "name": "stdout",
     "output_type": "stream",
     "text": [
      "=3\n"
     ]
    }
   ],
   "source": [
    "def decode_sequence(input_seq):\n",
    "    # 입력으로부터 인코더의 상태를 얻음\n",
    "    e_out, e_h, e_c = encoder_model.predict(input_seq)\n",
    "\n",
    "     # <SOS>에 해당하는 토큰 생성\n",
    "    target_seq = np.zeros((1,1))\n",
    "    target_seq[0, 0] = tar_word_to_index['sostoken']\n",
    "\n",
    "    stop_condition = False\n",
    "    decoded_sentence = ''\n",
    "    while not stop_condition: # stop_condition이 True가 될 때까지 루프 반복\n",
    "\n",
    "        output_tokens, h, c = decoder_model.predict([target_seq] + [e_out, e_h, e_c])\n",
    "        sampled_token_index = np.argmax(output_tokens[0, -1, :])\n",
    "        sampled_token = tar_index_to_word[sampled_token_index]\n",
    "\n",
    "        if (sampled_token!='eostoken'):\n",
    "            decoded_sentence += ' '+sampled_token\n",
    "\n",
    "        #  <eos>에 도달하거나 최대 길이를 넘으면 중단.\n",
    "        if (sampled_token == 'eostoken'  or len(decoded_sentence.split()) >= (headlines_max_len-1)):\n",
    "            stop_condition = True\n",
    "\n",
    "        # 길이가 1인 타겟 시퀀스를 업데이트\n",
    "        target_seq = np.zeros((1,1))\n",
    "        target_seq[0, 0] = sampled_token_index\n",
    "\n",
    "        # 상태를 업데이트 합니다.\n",
    "        e_h, e_c = h, c\n",
    "\n",
    "    return decoded_sentence\n",
    "print('=3')"
   ]
  },
  {
   "cell_type": "markdown",
   "id": "0047b9d0",
   "metadata": {},
   "source": [
    "## 모델 테스트"
   ]
  },
  {
   "cell_type": "code",
   "execution_count": 227,
   "id": "e2e864b6",
   "metadata": {},
   "outputs": [
    {
     "name": "stdout",
     "output_type": "stream",
     "text": [
      "=3\n"
     ]
    }
   ],
   "source": [
    "# 원문의 정수 시퀀스를 텍스트 시퀀스로 변환\n",
    "def seq2text(input_seq):\n",
    "    temp=''\n",
    "    for i in input_seq:\n",
    "        if (i!=0):\n",
    "            temp = temp + src_index_to_word[i]+' '\n",
    "    return temp\n",
    "\n",
    "# 요약문의 정수 시퀀스를 텍스트 시퀀스로 변환\n",
    "def seq2headlines(input_seq):\n",
    "    temp=''\n",
    "    for i in input_seq:\n",
    "        if ((i!=0 and i!=tar_word_to_index['sostoken']) and i!=tar_word_to_index['eostoken']):\n",
    "            temp = temp + tar_index_to_word[i] + ' '\n",
    "    return temp\n",
    "\n",
    "print('=3')"
   ]
  },
  {
   "cell_type": "code",
   "execution_count": 228,
   "id": "ab74d178",
   "metadata": {
    "scrolled": false
   },
   "outputs": [
    {
     "name": "stdout",
     "output_type": "stream",
     "text": [
      "원문 : scientists announced fourth gravitational waves detection first three different times accuracy previous merger two black holes three solar converted gravitational wave energy first detection made years einstein \n",
      "실제 요약 : most of made \n",
      "예측 요약 :  scientists create of\n",
      "\n",
      "\n",
      "원문 : photograph aditya roy kapur shraddha kapoor aggarwal deepak featured film shared shraddha instagram shraddha aditya featured sequel film picture taken event mark mahesh bhatt mukesh bhatt production house films completing years \n",
      "실제 요약 : pic shows shraddha with film actors \n",
      "예측 요약 :  baahubali release date of film announced\n",
      "\n",
      "\n",
      "원문 : us president donald trump said watching spacex falcon heavy rocket landing amazing watching rocket go adding landed trump said nobody ever seen recovery last month elon musk led spacex successfully launched powerful operational rocket falcon heavy towards mars \n",
      "실제 요약 : heavy landing was trump \n",
      "예측 요약 :  iran launches iran for space\n",
      "\n",
      "\n",
      "원문 : us president donald trump reportedly told japanese pm shinzo abe would send million japan discussing migration shinzo problem send million office soon trump reportedly said trump also reportedly told french president macron terrorists paris \n",
      "실제 요약 : trump threatens to million to japan \n",
      "예측 요약 :  us approves million for military deal\n",
      "\n",
      "\n",
      "원문 : mumbai police wednesday tweeted warning bridge grant road station hence traffic diverted another route warning comes day part station andheri collapsed injuring five people notably cleared safety audit report november \n",
      "실제 요약 : in another mumbai bridge after collapse \n",
      "예측 요약 :  bengaluru to get\n",
      "\n",
      "\n",
      "원문 : south korea thursday deployed four terminal high altitude area defence rocket amid rising tensions korean peninsula three days made announcement anti missile deployed city kilometres south south korea vowed install counter north korea nuclear missile threats \n",
      "실제 요약 : korea days after \n",
      "예측 요약 :  us missile test to korea\n",
      "\n",
      "\n",
      "원문 : shiv sena leader maharashtra industries minister subhash resignation allegations graft rejected chief minister devendra fadnavis saturday allegedly nearly acres land nashik acquired farmers benefit builder fadnavis asked continue result inquiry matter \n",
      "실제 요약 : maha cm rejects shiv sena leader resignation \n",
      "예측 요약 :  karnataka cm resigns from karnataka cm\n",
      "\n",
      "\n",
      "원문 : world bank report stated withdrawal around gst affected india economic report however mentioned growth could sound policies around public spending private investment also projected growth increase gradually \n",
      "실제 요약 : cash affected india economic growth world bank \n",
      "예측 요약 :  india gdp to\n",
      "\n",
      "\n",
      "원문 : wipro chairman billionaire premji family office investor snapdeal wednesday objected million proposed snapdeal co founders kunal bahl rohit bansal part snapdeal flipkart merger also said million proposed snapdeal early investors like kalaari capital nexus venture partners acceptable \n",
      "실제 요약 : mn for snapdeal founders \n",
      "예측 요약 :  bank shares mn after snapdeal\n",
      "\n",
      "\n",
      "원문 : ex australian spinner may pakistan odi october umpire turned appeal may teammates noticed change thinking disappointed later celebrating wicket went may admitted strongly \n",
      "실제 요약 : australian bowler once while for wicket \n",
      "예측 요약 :  bcci to play cricket\n",
      "\n",
      "\n",
      "원문 : ministry external affairs friday announced extended visa hindu pilgrims visiting pakistan least days comes pilgrims requested ministry extend visas stating wished visit cities pakistani citizens arrived india ashes kin \n",
      "실제 요약 : india extends visa of hindu from pakistan \n",
      "예측 요약 :  indian fishermen to sri navy\n",
      "\n",
      "\n",
      "원문 : former haryana chief minister om prakash serving year sentence delhi jail conviction teachers recruitment scam reportedly cleared class board examination year old scored exam conducted national institute open april according reports \n",
      "실제 요약 : jailed former haryana cm clears class exam \n",
      "예측 요약 :  bihar class board exams for\n",
      "\n",
      "\n",
      "원문 : tandon released friday successful rape subject wrote hindustan times drama many little depth said india today wrote victim hands get justice rated \n",
      "실제 요약 : hits the theatres \n",
      "예측 요약 :  the of\n",
      "\n",
      "\n",
      "원문 : team international scientists measured earth magnetic field using laser generated artificial stars altitude kilometres used determine earth magnetic field layer atmosphere beam directed atmosphere strikes atoms energy laser start team said \n",
      "실제 요약 : earth using artificial \n",
      "예측 요약 :  scientists discover new planet\n",
      "\n",
      "\n",
      "원문 : nasa released sounds missions jupiter saturn comet scientists convert radio emissions captured spacecraft sound waves study signals better time halloween put together sounds planets sure make skin nasa said \n",
      "실제 요약 : nasa releases from space for \n",
      "예측 요약 :  nasa telescope to\n",
      "\n",
      "\n",
      "원문 : many police personnel kerala accused criminal cases according report submitted state human rights commission among returned police department serving punishment kerala police act accused suspended service found guilty \n",
      "실제 요약 : nearly kerala police personnel accused in criminal cases \n",
      "예측 요약 :  people in kerala in sabarimala\n",
      "\n",
      "\n",
      "원문 : scientists discovered new classes cells human immune system new cells belong white blood cells called cells cells hold molecules producing whereas largest type white blood cells develop waste produced cells \n",
      "실제 요약 : scientists discover new of blood cells \n",
      "예측 요약 :  scientists discover new cells\n",
      "\n",
      "\n",
      "원문 : two storey apartment london one park become expensive home ever sold uk sold offshore buyer million luxury apartment two wine two park view residents access room service luxury hotel located nearby \n",
      "실제 요약 : becomes uk home at crore \n",
      "예측 요약 :  world largest dinosaur found in\n",
      "\n",
      "\n",
      "원문 : patidar hardik patel category security cover centre following directions intelligence agencies contingent armed central industrial security force commandos take charge patidar leader police officials said around eight commandos whenever travels gujarat added \n",
      "실제 요약 : leader hardik patel with security \n",
      "예측 요약 :  hardik patel to give\n",
      "\n",
      "\n",
      "원문 : district administration sealed janata dal office madhya pradesh bhopal due ongoing leader sharad yadav bihar chief minister nitish kumar factions came leaders claimed stake office meanwhile election commission india tuesday rejected sharad yadav application claim party symbol \n",
      "실제 요약 : jd office in the city \n",
      "예측 요약 :  aiadmk governor secy\n",
      "\n",
      "\n",
      "원문 : smith crowned miss universe title holder sushmita sen passed away saturday aged due prolonged illness sushmita tweeted loved smile spirit represented usa miss universe pageant family said crown set bar intelligent women around world \n",
      "실제 요약 : miss universe by passes away at \n",
      "예측 요약 :  australian champion slams his\n",
      "\n",
      "\n",
      "원문 : automaker parent company mercedes benz invested germany based startup developing electric flying taxis investment part million funding round also participated startup working flying taxis fourth quarter dubai \n",
      "실제 요약 : owner backs startup developing flying \n",
      "예측 요약 :  flipkart startup raises million\n",
      "\n",
      "\n",
      "원문 : according reports ryan starrer superhero film deadpool feature song shah rukh khan starrer song reportedly feature scene shows character indian driving cab deadpool scheduled release may \n",
      "실제 요약 : to feature song from srk reports \n",
      "예측 요약 :  new trailer of film released\n",
      "\n",
      "\n",
      "원문 : censor board chief joshi filmmaker sanjay leela bhansali appear parliamentary panel thursday discuss controversy surrounding film padmavati member parliamentary panel also asked producers film officials information broadcasting ministry attend meeting panel includes actor mps raj \n",
      "실제 요약 : bhansali to meet panel over padmavati \n",
      "예측 요약 :  kejriwal on padmaavat\n",
      "\n",
      "\n",
      "원문 : afghanistan reduced india first day first ever test thursday match witnessed shikhar dhawan become first indian score hundred lunch first day test rahman aged years days became youngest overseas player take test wicket india \n",
      "실제 요약 : afghanistan india to from on test debut \n",
      "예측 요약 :  pakistani ever batsman for\n",
      "\n",
      "\n",
      "원문 : departure british era practice himachal governor acharya directed state government words addressing said name instead governor used occasions \n",
      "실제 요약 : himachal governor british his \n",
      "예측 요약 :  of to\n",
      "\n",
      "\n",
      "원문 : chinese university cancelled fan meet actor aamir khan organisers failed seek permission use university campus per reports event promotion khan film set release china next week organisers claim event cancelled students \n",
      "실제 요약 : aamir event for cancelled in china \n",
      "예측 요약 :  hardik patel calls for\n",
      "\n",
      "\n",
      "원문 : parliament wednesday informed official websites central state governments publicly display personal details including aadhaar number various schemes mos chaudhary said uidai taken note problem monitoring status regularly get aadhaar data removed said websites \n",
      "실제 요약 : govt display personal of aadhaar \n",
      "예측 요약 :  aadhaar to aadhaar\n",
      "\n",
      "\n",
      "원문 : iran banned teaching english primary schools country supreme leader ali said early learning language could way western cultural invasion earlier blamed iran enemies including us britain creating unrest country wake anti government protests \n",
      "실제 요약 : iran bans english in schools \n",
      "예측 요약 :  saudi arabia to war in\n",
      "\n",
      "\n",
      "원문 : congress leader chidambaram saturday accused modi government controlling owners media houses today believe control owners media talk journalist delhi tell stories simply killed serious problem added \n",
      "실제 요약 : media being by modi govt chidambaram \n",
      "예측 요약 :  pm modi for\n",
      "\n",
      "\n",
      "원문 : us based startup galaxy developed smart bottle called automatically tracks user level via app bottle data app user smartphone personalised drink water also automatically users goals based activity \n",
      "실제 요약 : smart which user level made \n",
      "예측 요약 :  startup lets users to\n",
      "\n",
      "\n",
      "원문 : us based uber rival raised million funding round led volkswagen participation previous investors latest round valued startup billion startup ceo founder dave said interview founded raised million till date investors including partners capital \n",
      "실제 요약 : uber rival raises million at billion valuation \n",
      "예측 요약 :  raises million from softbank\n",
      "\n",
      "\n",
      "원문 : us president donald trump star hollywood walk vandalised man later surrendered police man reveal motive act held bail installed trump star frequently vandalised since elected office \n",
      "실제 요약 : trump star on of \n",
      "예측 요약 :  trump to be wedding\n",
      "\n",
      "\n",
      "원문 : priyanka chopra close friend american actress meghan markle among celebrities attended wedding uk prince harry hollywood actor george wife american television host also attended wedding celebrity guests included david beckham wife victoria beckham john \n",
      "실제 요약 : which prince harry wedding \n",
      "예측 요약 :  priyanka attends priyanka wedding in priyanka\n",
      "\n",
      "\n",
      "원문 : uk doubled number visas available tier route individuals technology science art creative industries increase visas per year intended ensure highly skilled people enhance british economy come work country government said \n",
      "실제 요약 : uk visas for before brexit \n",
      "예측 요약 :  bans of\n",
      "\n",
      "\n",
      "원문 : barcelona european club help crash struck financially brazilian football club president revealed spanish club sent club lost players plane crash colombia november barcelona also play friendly match camp pay crash victims \n",
      "실제 요약 : barcelona only european club to help \n",
      "예측 요약 :  players score in days\n",
      "\n",
      "\n",
      "원문 : zomato co founder pankaj apologised offensive ad saying company take see offensive people take ad immediate effect tweeted came commentator took twitter call zomato \n",
      "실제 요약 : zomato founder apologises promises to remove ad \n",
      "예측 요약 :  ceo resigns over\n",
      "\n",
      "\n",
      "원문 : us security department said investigating possible abuse authority case triggered lawsuit social network company twitter twitter complained lawsuit received summons department demanding records account platform featured posts critical president donald trump immigration policies \n",
      "실제 요약 : us possible abuse in twitter case \n",
      "예측 요약 :  us bans lawsuit over fake news\n",
      "\n",
      "\n",
      "원문 : former jammu kashmir chief minister omar abdullah friday said militants abducted two relatives policemen taking number within last three days tweeted worse outrage people leaders alleged security force silent \n",
      "실제 요약 : as militants of cops \n",
      "예측 요약 :  ex minister\n",
      "\n",
      "\n",
      "원문 : billionaire chairman bharti airtel sunil bharti mittal took home salary crore financial year annual package higher previous year mittal drawn salary crore mittal appointed chairman company last year five year term \n",
      "실제 요약 : airtel chairman earned cr salary in \n",
      "예측 요약 :  billionaire earned crore in days\n",
      "\n",
      "\n",
      "원문 : parents indian pacer thakur injured bike road tuesday night year old left mumbai visit parents taken eight wickets chennai super kings selected earlier tuesday one test afghanistan \n",
      "실제 요약 : parents injured in accident \n",
      "예측 요약 :  dies after surgery\n",
      "\n",
      "\n",
      "원문 : ex google engineer james hired indian origin lawyer representative republican national committee lawyer fired earlier month writing memo company diversity policies representing complaint us national relations board accusing google upper management \n",
      "실제 요약 : fired google engineer hires indian origin lawyer \n",
      "예측 요약 :  google ceo resigns after google employee\n",
      "\n",
      "\n",
      "원문 : jammu kashmir allegedly slapped vistara employee denying boarding delhi airport friday passenger reportedly reached check counter late given boarding pass however also late boarding gate reaching five minutes take even though boarding gates closed minutes departure \n",
      "실제 요약 : police officer staff for \n",
      "예측 요약 :  delhi airport for aadhaar\n",
      "\n",
      "\n",
      "원문 : amazon space startup blue origin billionaire founder jeff bezos joined photo video sharing platform instagram first post account video shows flyover blue origin new rocket factory heavy lift new glenn launch vehicle made factory intended carry passengers space \n",
      "실제 요약 : amazon founder joins instagram \n",
      "예측 요약 :  samsung founder startup makes\n",
      "\n",
      "\n",
      "원문 : philippine military said isis linked militants city marawi may using money new received reports people paid cash join terrorist group also support officials said comes cash seized individual attempting enter war zone \n",
      "실제 요약 : isis with money philippine military \n",
      "예측 요약 :  militants in philippines\n",
      "\n",
      "\n",
      "원문 : actress priyanka chopra attended reliance industries chairman mukesh ambani son ambani pre engagement rumoured boyfriend nick jonas thursday rumoured couple earlier travelled together goa accompanied priyanka cousin parineeti chopra ambani mehta engagement taking place ambani residence mumbai \n",
      "실제 요약 : priyanka attend ambani engagement party \n",
      "예측 요약 :  priyanka chopra shahid shahid in priyanka\n",
      "\n",
      "\n",
      "원문 : american diamond studied albert einstein brain passed away aged first show animals change experience improve considered diamond also demonstrated brain develop age male female differently \n",
      "실제 요약 : scientist who einstein brain dies aged \n",
      "예측 요약 :  einstein worth crore\n",
      "\n",
      "\n",
      "원문 : congress mp shashi tharoor said called opposing padmavati release surrendered honour british union minister smriti irani asked british amarinder singh say shashi tharoor comments asked referring congress leaders royal \n",
      "실제 요약 : irani slams shashi tharoor for remark \n",
      "예측 요약 :  tharoor clarifies padmavati on shashi tharoor\n",
      "\n",
      "\n",
      "원문 : myanmar government saturday revealed houses belonging rohingya muslims country rakhine state burned past two weeks officials blamed rohingya militants burning homes however rohingya muslims fleeing bangladesh myanmar security forces launching attacks force country \n",
      "실제 요약 : more than rohingya in myanmar \n",
      "예측 요약 :  myanmar to rohingyas myanmar in myanmar\n",
      "\n",
      "\n",
      "원문 : former indian cricketer sachin tendulkar shared photograph early days cricket career alongside post twitter tuesday sachin tweet read chasing dream waste moment every second practice makes difference notably sachin debuted ranji trophy age \n",
      "실제 요약 : tendulkar tweets photo from his early days \n",
      "예측 요약 :  sachin tendulkar tweets childhood picture\n",
      "\n",
      "\n"
     ]
    }
   ],
   "source": [
    "for i in range(50, 100):\n",
    "    print(\"원문 :\", seq2text(encoder_input_test[i]))\n",
    "    print(\"실제 요약 :\", seq2headlines(decoder_input_test[i]))\n",
    "    print(\"예측 요약 :\", decode_sequence(encoder_input_test[i].reshape(1, text_max_len)))\n",
    "    print(\"\\n\")"
   ]
  },
  {
   "cell_type": "markdown",
   "id": "424f8c9f",
   "metadata": {},
   "source": [
    "## 추출적 요약"
   ]
  },
  {
   "cell_type": "code",
   "execution_count": 229,
   "id": "b4dba709",
   "metadata": {},
   "outputs": [],
   "source": [
    "import requests\n",
    "from summa.summarizer import summarize"
   ]
  },
  {
   "cell_type": "code",
   "execution_count": 230,
   "id": "022d602b",
   "metadata": {},
   "outputs": [
    {
     "data": {
      "text/plain": [
       "Index(['headlines', 'text', 'headlines_len', 'text_len', 'decoder_input',\n",
       "       'decoder_target'],\n",
       "      dtype='object')"
      ]
     },
     "execution_count": 230,
     "metadata": {},
     "output_type": "execute_result"
    }
   ],
   "source": [
    "data_ = pd.read_csv('news_summary_more.csv', encoding='iso-8859-1')\n",
    "data.columns"
   ]
  },
  {
   "cell_type": "code",
   "execution_count": 231,
   "id": "f21e7e1c",
   "metadata": {},
   "outputs": [],
   "source": [
    "data.reset_index(drop=True, inplace=True)"
   ]
  },
  {
   "cell_type": "code",
   "execution_count": 232,
   "id": "e3842368",
   "metadata": {},
   "outputs": [
    {
     "data": {
      "text/html": [
       "<div>\n",
       "<style scoped>\n",
       "    .dataframe tbody tr th:only-of-type {\n",
       "        vertical-align: middle;\n",
       "    }\n",
       "\n",
       "    .dataframe tbody tr th {\n",
       "        vertical-align: top;\n",
       "    }\n",
       "\n",
       "    .dataframe thead th {\n",
       "        text-align: right;\n",
       "    }\n",
       "</style>\n",
       "<table border=\"1\" class=\"dataframe\">\n",
       "  <thead>\n",
       "    <tr style=\"text-align: right;\">\n",
       "      <th></th>\n",
       "      <th>headlines</th>\n",
       "      <th>text</th>\n",
       "      <th>headlines_len</th>\n",
       "      <th>text_len</th>\n",
       "      <th>decoder_input</th>\n",
       "      <th>decoder_target</th>\n",
       "    </tr>\n",
       "  </thead>\n",
       "  <tbody>\n",
       "    <tr>\n",
       "      <th>0</th>\n",
       "      <td>odisha cm patnaik controls mining mafia union ...</td>\n",
       "      <td>union minister dharmendra pradhan wednesday cl...</td>\n",
       "      <td>55.0</td>\n",
       "      <td>357.0</td>\n",
       "      <td>sostoken odisha cm patnaik controls mining maf...</td>\n",
       "      <td>odisha cm patnaik controls mining mafia union ...</td>\n",
       "    </tr>\n",
       "    <tr>\n",
       "      <th>1</th>\n",
       "      <td>isro unveils bengaluru centre for manned space...</td>\n",
       "      <td>indian space research organisation wednesday u...</td>\n",
       "      <td>55.0</td>\n",
       "      <td>403.0</td>\n",
       "      <td>sostoken isro unveils bengaluru centre for man...</td>\n",
       "      <td>isro unveils bengaluru centre for manned space...</td>\n",
       "    </tr>\n",
       "    <tr>\n",
       "      <th>2</th>\n",
       "      <td>killed injured in saudi arabia floods</td>\n",
       "      <td>least people killed others injured saudi arabi...</td>\n",
       "      <td>45.0</td>\n",
       "      <td>326.0</td>\n",
       "      <td>sostoken killed injured in saudi arabia floods</td>\n",
       "      <td>killed injured in saudi arabia floods eostoken</td>\n",
       "    </tr>\n",
       "    <tr>\n",
       "      <th>3</th>\n",
       "      <td>seat cushions from missing plane carrying foot...</td>\n",
       "      <td>investigators searching lost plane carrying ar...</td>\n",
       "      <td>62.0</td>\n",
       "      <td>399.0</td>\n",
       "      <td>sostoken seat cushions from missing plane carr...</td>\n",
       "      <td>seat cushions from missing plane carrying foot...</td>\n",
       "    </tr>\n",
       "    <tr>\n",
       "      <th>4</th>\n",
       "      <td>agustawestland scam accused rajiv saxena extra...</td>\n",
       "      <td>agustawestland chopper scam co accused rajiv s...</td>\n",
       "      <td>60.0</td>\n",
       "      <td>396.0</td>\n",
       "      <td>sostoken agustawestland scam accused rajiv sax...</td>\n",
       "      <td>agustawestland scam accused rajiv saxena extra...</td>\n",
       "    </tr>\n",
       "  </tbody>\n",
       "</table>\n",
       "</div>"
      ],
      "text/plain": [
       "                                           headlines  \\\n",
       "0  odisha cm patnaik controls mining mafia union ...   \n",
       "1  isro unveils bengaluru centre for manned space...   \n",
       "2              killed injured in saudi arabia floods   \n",
       "3  seat cushions from missing plane carrying foot...   \n",
       "4  agustawestland scam accused rajiv saxena extra...   \n",
       "\n",
       "                                                text  headlines_len  text_len  \\\n",
       "0  union minister dharmendra pradhan wednesday cl...           55.0     357.0   \n",
       "1  indian space research organisation wednesday u...           55.0     403.0   \n",
       "2  least people killed others injured saudi arabi...           45.0     326.0   \n",
       "3  investigators searching lost plane carrying ar...           62.0     399.0   \n",
       "4  agustawestland chopper scam co accused rajiv s...           60.0     396.0   \n",
       "\n",
       "                                       decoder_input  \\\n",
       "0  sostoken odisha cm patnaik controls mining maf...   \n",
       "1  sostoken isro unveils bengaluru centre for man...   \n",
       "2     sostoken killed injured in saudi arabia floods   \n",
       "3  sostoken seat cushions from missing plane carr...   \n",
       "4  sostoken agustawestland scam accused rajiv sax...   \n",
       "\n",
       "                                      decoder_target  \n",
       "0  odisha cm patnaik controls mining mafia union ...  \n",
       "1  isro unveils bengaluru centre for manned space...  \n",
       "2     killed injured in saudi arabia floods eostoken  \n",
       "3  seat cushions from missing plane carrying foot...  \n",
       "4  agustawestland scam accused rajiv saxena extra...  "
      ]
     },
     "execution_count": 232,
     "metadata": {},
     "output_type": "execute_result"
    }
   ],
   "source": [
    "data.head()"
   ]
  },
  {
   "cell_type": "code",
   "execution_count": 233,
   "id": "3a1b2e98",
   "metadata": {},
   "outputs": [
    {
     "name": "stdout",
     "output_type": "stream",
     "text": [
      "<pandas.core.indexing._LocIndexer object at 0x7f3220556b80>\n"
     ]
    }
   ],
   "source": [
    "print(data.loc)"
   ]
  },
  {
   "cell_type": "code",
   "execution_count": 235,
   "id": "41b2dec2",
   "metadata": {},
   "outputs": [
    {
     "name": "stdout",
     "output_type": "stream",
     "text": [
      "headlines:\n",
      "\n",
      "\n",
      "\n",
      "\n",
      "\n",
      "\n",
      "\n",
      "\n",
      "\n",
      "\n"
     ]
    }
   ],
   "source": [
    "print('headlines:')\n",
    "#print(data.loc[1, 'text'])\n",
    "\n",
    "for i in range(10):\n",
    "    string = ''\n",
    "    for j in range(1000):\n",
    "        string += data.loc[1000*(i-0)+j,'text']\n",
    "    print(summarize(string, words=10))\n",
    "    #print(string)"
   ]
  },
  {
   "cell_type": "markdown",
   "id": "34aadfdd",
   "metadata": {},
   "source": [
    "## 회고\n",
    "혼돈의 멀티요약기...  \n",
    "layer normalization 넣어보고 hidden size, embedding_dim, batch size, dropout, recurrent dropout 튜닝했는데 validation loss가 안내려가네요. 뒤늦게 hidden state와 cell state를 잘 활용했는지 의문이 듭니다.\n",
    "추출적 요약도 짧은 텍스트 긴 텍스트 넣어보았는데도 왜 안나오는지 디버깅을 하는게 좋겠지만 다음 노드로 넘어갈 시간이라 스킵했습니다.\n",
    "early stopping은 매우 유용한듯합니다. 잘 응용해야겠습니다.\n"
   ]
  }
 ],
 "metadata": {
  "kernelspec": {
   "display_name": "Python 3 (ipykernel)",
   "language": "python",
   "name": "python3"
  },
  "language_info": {
   "codemirror_mode": {
    "name": "ipython",
    "version": 3
   },
   "file_extension": ".py",
   "mimetype": "text/x-python",
   "name": "python",
   "nbconvert_exporter": "python",
   "pygments_lexer": "ipython3",
   "version": "3.9.7"
  }
 },
 "nbformat": 4,
 "nbformat_minor": 5
}
