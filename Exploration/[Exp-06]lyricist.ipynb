{
 "cells": [
  {
   "cell_type": "code",
   "execution_count": 1,
   "id": "f7472635",
   "metadata": {},
   "outputs": [],
   "source": [
    "import glob\n",
    "import tensorflow as tf\n",
    "import os, re\n",
    "import numpy as np\n",
    "import random\n",
    "\n",
    "# 랜덤 시드 고정\n",
    "global_seed = 2\n",
    "def seed_everything(seed: int):\n",
    "    random.seed(seed)\n",
    "    np.random.seed(seed)\n",
    "    os.environ[\"PYTHONHASHSEED\"] = str(seed)\n",
    "    tf.random.set_seed(seed)\n",
    "seed_everything(global_seed)\n",
    "\n",
    "# pretty sample printing\n",
    "def sample_print(list1):\n",
    "    for i in list1:\n",
    "        print(i)"
   ]
  },
  {
   "cell_type": "markdown",
   "id": "6bcc5975",
   "metadata": {},
   "source": [
    "### 데이터 읽어오기"
   ]
  },
  {
   "cell_type": "code",
   "execution_count": 2,
   "id": "e898c47b",
   "metadata": {},
   "outputs": [
    {
     "name": "stdout",
     "output_type": "stream",
     "text": [
      "데이터 크기: 187088\n",
      "Examples:\n",
      "Now I've heard there was a secret chord\n",
      "That David played, and it pleased the Lord\n",
      "But you don't really care for music, do you?\n"
     ]
    }
   ],
   "source": [
    "txt_file_path = os.getenv('HOME')+'/aiffel/lyricist/data/lyrics/*' \n",
    "txt_list = glob.glob(txt_file_path)\n",
    "raw_corpus = [] \n",
    "\n",
    "for txt_file in txt_list:\n",
    "    with open(txt_file, \"r\") as f:\n",
    "        raw = f.read().splitlines() \n",
    "        raw_corpus.extend(raw) \n",
    "\n",
    "print(\"데이터 크기:\", len(raw_corpus))\n",
    "print(\"Examples:\")\n",
    "sample_print(raw_corpus[:3])"
   ]
  },
  {
   "cell_type": "markdown",
   "id": "01c77ceb",
   "metadata": {},
   "source": [
    "### 데이터 정제"
   ]
  },
  {
   "cell_type": "markdown",
   "id": "3265de5c",
   "metadata": {},
   "source": [
    "특수문자를 제거하는 함수입니다."
   ]
  },
  {
   "cell_type": "code",
   "execution_count": 3,
   "id": "0986da3d",
   "metadata": {},
   "outputs": [
    {
     "name": "stdout",
     "output_type": "stream",
     "text": [
      "<start> now i ve heard there was a secret chord <end>\n",
      "<start> that david played , and it pleased the lord <end>\n",
      "<start> but you don t really care for music , do you ? <end>\n",
      "<start> it goes like this <end>\n",
      "<start> the fourth , the fifth <end>\n"
     ]
    }
   ],
   "source": [
    "def preprocess_sentence(sentence):\n",
    "    sentence = sentence.lower().strip()\n",
    "    sentence = re.sub(r\"([?.!,¿])\", r\" \\1 \", sentence)\n",
    "    sentence = re.sub(r'[\" \"]+', \" \", sentence)\n",
    "    sentence = re.sub(r\"[^a-zA-Z?.!,¿]+\", \" \", sentence)\n",
    "    sentence = sentence.strip()\n",
    "    sentence = '<start> ' + sentence + ' <end>'\n",
    "    return sentence\n",
    "\n",
    "corpus = []\n",
    "\n",
    "for sentence in raw_corpus:\n",
    "    if len(sentence) == 0: continue\n",
    "    if sentence[-1] == \":\":continue\n",
    "    \n",
    "    preprocessed_sentence = preprocess_sentence(sentence)\n",
    "    corpus.append(preprocessed_sentence)\n",
    "\n",
    "sample_print(corpus[:5])"
   ]
  },
  {
   "cell_type": "markdown",
   "id": "6ffef716",
   "metadata": {},
   "source": [
    "토큰화했을 때 토큰의 개수가 15개를 넘어가는 문장은 작사에 부적합하기 때문에 학습데이터에서 제외합니다. "
   ]
  },
  {
   "cell_type": "code",
   "execution_count": 4,
   "id": "375d09cf",
   "metadata": {},
   "outputs": [
    {
     "name": "stdout",
     "output_type": "stream",
     "text": [
      "corpus에 담긴 문장의 수: 175749\n",
      "short_corpus에 담긴 문장의 수: 156013\n"
     ]
    }
   ],
   "source": [
    "short_corpus = []\n",
    "for sentence in corpus:\n",
    "    splitted = sentence.split(\" \")\n",
    "    if len(splitted) <= 15:\n",
    "        short_corpus.append(sentence)\n",
    "print(f'corpus에 담긴 문장의 수: {len(corpus)}')\n",
    "print(f'short_corpus에 담긴 문장의 수: {len(short_corpus)}')"
   ]
  },
  {
   "cell_type": "code",
   "execution_count": 5,
   "id": "d0868775",
   "metadata": {},
   "outputs": [
    {
     "name": "stdout",
     "output_type": "stream",
     "text": [
      "총 unique 단어수: 25662\n"
     ]
    }
   ],
   "source": [
    "set1 = set()\n",
    "for sts in short_corpus:\n",
    "    for i in sts.split():\n",
    "        set1.update([i])\n",
    "print('총 unique 단어수:', len(set1))"
   ]
  },
  {
   "cell_type": "markdown",
   "id": "9bc71d50",
   "metadata": {},
   "source": [
    "주어진 데이터셋에 맞게 토크나이저를 생성 및 fit하고, 길이를 맞추어 패딩 처리합니다. "
   ]
  },
  {
   "cell_type": "code",
   "execution_count": 6,
   "id": "358cac37",
   "metadata": {},
   "outputs": [
    {
     "data": {
      "text/plain": [
       "(156013, 15)"
      ]
     },
     "execution_count": 6,
     "metadata": {},
     "output_type": "execute_result"
    }
   ],
   "source": [
    "def tokenize(corpus):\n",
    "    tokenizer = tf.keras.preprocessing.text.Tokenizer(\n",
    "        num_words=12000,\n",
    "        filters=' ',\n",
    "        oov_token='<unk>'\n",
    "    )\n",
    "    tokenizer.fit_on_texts(corpus)\n",
    "    tensor = tokenizer.texts_to_sequences(corpus)\n",
    "    tensor = tf.keras.preprocessing.sequence.pad_sequences(tensor, padding='post')\n",
    "    return tensor, tokenizer\n",
    "\n",
    "tensor, tokenizer = tokenize(short_corpus)\n",
    "tensor.shape"
   ]
  },
  {
   "cell_type": "markdown",
   "id": "3dcb7841",
   "metadata": {},
   "source": [
    "source는 문장 끝의 \\<end> 또는 \\<pad>를 한 칸 잘라내서 만듭니다. target은 문장 시작의 \\<start>를 잘라내서 만듭니다."
   ]
  },
  {
   "cell_type": "code",
   "execution_count": 7,
   "id": "b6f8b0d3",
   "metadata": {},
   "outputs": [],
   "source": [
    "\n",
    "src_input = tensor[:, :-1]\n",
    "tgt_input = tensor[:, 1:]    \n",
    "\n",
    "BUFFER_SIZE = len(src_input)\n",
    "BATCH_SIZE = 256\n",
    "steps_per_epoch = len(src_input) // BATCH_SIZE\n",
    "\n",
    "VOCAB_SIZE = tokenizer.num_words + 1"
   ]
  },
  {
   "cell_type": "markdown",
   "id": "4b95a333",
   "metadata": {},
   "source": [
    "### 평가 데이터셋 분리"
   ]
  },
  {
   "cell_type": "markdown",
   "id": "13f4b513",
   "metadata": {},
   "source": [
    "트레이닝 시킨 모델을 평가할 수 있도록 train 데이터셋을 train과 val으로 분할합니다.\n"
   ]
  },
  {
   "cell_type": "code",
   "execution_count": 8,
   "id": "b6527399",
   "metadata": {},
   "outputs": [],
   "source": [
    "from sklearn.model_selection import train_test_split\n",
    "\n",
    "enc_train, enc_val, dec_train, dec_val = train_test_split(src_input, tgt_input, test_size=0.2, random_state=global_seed)\n",
    "\n",
    "dataset_train = tf.data.Dataset.from_tensor_slices((enc_train, dec_train))\n",
    "dataset_train = dataset_train.shuffle(BUFFER_SIZE)\n",
    "dataset_train = dataset_train.batch(BATCH_SIZE, drop_remainder=True)\n",
    "\n",
    "dataset_val = tf.data.Dataset.from_tensor_slices((enc_val, dec_val))\n",
    "dataset_val = dataset_val.shuffle(BUFFER_SIZE)\n",
    "dataset_val = dataset_val.batch(BATCH_SIZE, drop_remainder=True)"
   ]
  },
  {
   "cell_type": "markdown",
   "id": "801c1def",
   "metadata": {},
   "source": [
    "### 인공지능 만들기"
   ]
  },
  {
   "cell_type": "markdown",
   "id": "6eea0fe7",
   "metadata": {},
   "source": [
    "목표: 모델의 Embedding Size와 Hidden Size를 조절하며 10 epoch 안에 val_loss 값을 2.2 수준으로 줄일 수 있는 모델을 설계"
   ]
  },
  {
   "cell_type": "code",
   "execution_count": 9,
   "id": "eea33623",
   "metadata": {},
   "outputs": [],
   "source": [
    "class TextGenerator(tf.keras.Model):\n",
    "    def __init__(self, vocab_size, embedding_size, hidden_size):\n",
    "        super().__init__()\n",
    "        self.embedding = tf.keras.layers.Embedding(vocab_size, embedding_size)\n",
    "        self.rnn_1 = tf.keras.layers.LSTM(hidden_size, return_sequences=True)\n",
    "        self.rnn_2 = tf.keras.layers.LSTM(hidden_size, return_sequences=True)\n",
    "        self.linear = tf.keras.layers.Dense(vocab_size)\n",
    "        \n",
    "                            \n",
    "    def call(self, x):\n",
    "        out = self.embedding(x)\n",
    "        out = self.rnn_1(out)\n",
    "        out = self.rnn_2(out)\n",
    "        out = self.linear(out)\n",
    "        return out\n",
    "\n",
    "embedding_size = 512\n",
    "hidden_size = 2048\n",
    "model = TextGenerator(tokenizer.num_words + 1, embedding_size, hidden_size)"
   ]
  },
  {
   "cell_type": "code",
   "execution_count": 10,
   "id": "6b750588",
   "metadata": {
    "scrolled": false
   },
   "outputs": [
    {
     "name": "stdout",
     "output_type": "stream",
     "text": [
      "Epoch 1/10\n",
      "487/487 [==============================] - 294s 513ms/step - loss: 3.2942 - val_loss: 2.9048\n",
      "Epoch 2/10\n",
      "487/487 [==============================] - 256s 525ms/step - loss: 2.7273 - val_loss: 2.6349\n",
      "Epoch 3/10\n",
      "487/487 [==============================] - 255s 524ms/step - loss: 2.3946 - val_loss: 2.4532\n",
      "Epoch 4/10\n",
      "487/487 [==============================] - 256s 525ms/step - loss: 2.0718 - val_loss: 2.3206\n",
      "Epoch 5/10\n",
      "487/487 [==============================] - 256s 525ms/step - loss: 1.7747 - val_loss: 2.2265\n",
      "Epoch 6/10\n",
      "487/487 [==============================] - 256s 525ms/step - loss: 1.5189 - val_loss: 2.1642\n",
      "Epoch 7/10\n",
      "487/487 [==============================] - 256s 526ms/step - loss: 1.3135 - val_loss: 2.1405\n",
      "Epoch 8/10\n",
      "487/487 [==============================] - 256s 526ms/step - loss: 1.1618 - val_loss: 2.1430\n",
      "Epoch 9/10\n",
      "487/487 [==============================] - 256s 526ms/step - loss: 1.0668 - val_loss: 2.1634\n",
      "Epoch 10/10\n",
      "487/487 [==============================] - 256s 526ms/step - loss: 1.0145 - val_loss: 2.1831\n"
     ]
    },
    {
     "data": {
      "text/plain": [
       "<keras.callbacks.History at 0x7f77c57d0dc0>"
      ]
     },
     "execution_count": 10,
     "metadata": {},
     "output_type": "execute_result"
    }
   ],
   "source": [
    "#Loss\n",
    "loss = tf.keras.losses.SparseCategoricalCrossentropy( \n",
    "    from_logits=True, reduction='none')\n",
    "optimizer = tf.keras.optimizers.Adam()\n",
    "model.compile(loss=loss, optimizer=optimizer)\n",
    "model.fit(dataset_train, epochs=10, validation_data=dataset_val)"
   ]
  },
  {
   "cell_type": "markdown",
   "id": "622f661d",
   "metadata": {},
   "source": [
    "val_loss가 최종적으로 2.1831를 달성했습니다."
   ]
  },
  {
   "cell_type": "markdown",
   "id": "8ab1a42f",
   "metadata": {},
   "source": [
    "트레이닝한 모델을 작동시켜 가사 텍스트를 생성합니다."
   ]
  },
  {
   "cell_type": "code",
   "execution_count": 11,
   "id": "d59591cc",
   "metadata": {},
   "outputs": [],
   "source": [
    "def generate_text(model, tokenizer, init_sentence='<start>', max_len=20):\n",
    "    test_input = tokenizer.texts_to_sequences([init_sentence])\n",
    "    test_tensor = tf.convert_to_tensor(test_input, dtype=tf.int64)\n",
    "    end_token = tokenizer.word_index[\"<end>\"]\n",
    "    \n",
    "    while True:\n",
    "        predict = model(test_tensor)\n",
    "        predict_word = tf.argmax(tf.nn.softmax(predict, axis=-1), axis=-1)[:, -1]\n",
    "        test_tensor = tf.concat([test_tensor, tf.expand_dims(predict_word, axis=0)], axis=-1)\n",
    "        if predict_word.numpy()[0] == end_token: break\n",
    "        if test_tensor.shape[1] >= max_len: break\n",
    "        \n",
    "    generated = \"\"\n",
    "    for word_index in test_tensor[0].numpy():\n",
    "        generated += tokenizer.index_word[word_index] + \" \"\n",
    "        \n",
    "    return generated"
   ]
  },
  {
   "cell_type": "code",
   "execution_count": 20,
   "id": "bef2ab6b",
   "metadata": {},
   "outputs": [
    {
     "data": {
      "text/plain": [
       "'<start> your love is all i ever needed <end> '"
      ]
     },
     "execution_count": 20,
     "metadata": {},
     "output_type": "execute_result"
    }
   ],
   "source": [
    "generate_text(model, tokenizer, init_sentence=\"<start> your\", max_len=20)"
   ]
  },
  {
   "cell_type": "markdown",
   "id": "1d41d4b5",
   "metadata": {},
   "source": [
    "### 회고\n"
   ]
  },
  {
   "attachments": {
    "image.png": {
     "image/png": "[encoded data removed]"
    }
   },
   "cell_type": "markdown",
   "id": "375c8b08",
   "metadata": {},
   "source": [
    "* 이번 프로젝트에서 어려웠던 점  \n",
    "트레이닝이 오래 걸리는데 도중에 자리를 옮길 일이 생기는게 어려웠습니다. 그래서 중간부터는 Colab에서 하이퍼파라미터를 튜닝하고 결과로 알아낸 하이퍼파라미터를 아이펠 클라우드로 가져와 최종결과물을 트레이닝했습니다.\n",
    "  \n",
    "  \n",
    "* 프로젝트를 진행하면서 알아낸 점 혹은 아직 모호한 점  \n",
    "정규표현식을 복습하게 되었고 정규표현식의 그룹 개념을 새롭게 알게 되었습니다.\n",
    "하이퍼파라미터와 random seed를 모두 일치시켰다고 생각했는데 다른 loss값이 결과로 나올때가 있었습니다. 일단은 다른 하이퍼파라미터를 조정하는게 중요하다고 생각해 넘겼는데, tensorflow로 신경망을 트레이닝할 때 고려할 random seed가 더 있는지 알아보아야겠습니다.  \n",
    "같은 input sentence에도 비슷하지만 다른 결과물들을 출력할수있게 하려면 모델을 어떻게 바꿔야될지 궁금합니다.\n",
    "  \n",
    "  \n",
    "* 루브릭 평가 지표를 맞추기 위해 시도한 것들\n",
    "![image.png](attachment:image.png)  \n",
    "  \n",
    "  \n",
    "* 자기 다짐  \n",
    "앞으로 딥러닝 프로젝트를 해나가면서 바꿔볼 하이퍼파라미터들이 많아질텐데 정리하고 관리하자! 다른 사람들의 정리방법을 배우자!"
   ]
  },
  {
   "cell_type": "code",
   "execution_count": null,
   "id": "7888df76",
   "metadata": {},
   "outputs": [],
   "source": []
  }
 ],
 "metadata": {
  "kernelspec": {
   "display_name": "Python 3 (ipykernel)",
   "language": "python",
   "name": "python3"
  },
  "language_info": {
   "codemirror_mode": {
    "name": "ipython",
    "version": 3
   },
   "file_extension": ".py",
   "mimetype": "text/x-python",
   "name": "python",
   "nbconvert_exporter": "python",
   "pygments_lexer": "ipython3",
   "version": "3.9.7"
  }
 },
 "nbformat": 4,
 "nbformat_minor": 5
}
