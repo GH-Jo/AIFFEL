{
 "cells": [
  {
   "cell_type": "markdown",
   "id": "e180becb",
   "metadata": {},
   "source": [
    "## 1. 정제, 정규화, 전처리 (영어, 프랑스어 모두)"
   ]
  },
  {
   "cell_type": "code",
   "execution_count": 104,
   "id": "2f2ce3d6",
   "metadata": {},
   "outputs": [],
   "source": [
    "import pandas as pd\n",
    "from tensorflow.keras.preprocessing.text import Tokenizer\n",
    "from tensorflow.keras.preprocessing.sequence import pad_sequences\n",
    "from tensorflow.keras.utils import to_categorical\n",
    "import numpy as np\n",
    "import re"
   ]
  },
  {
   "cell_type": "code",
   "execution_count": 105,
   "id": "df183890",
   "metadata": {},
   "outputs": [
    {
     "name": "stdout",
     "output_type": "stream",
     "text": [
      "전체 샘플의 수 : 197463\n"
     ]
    },
    {
     "data": {
      "text/html": [
       "<div>\n",
       "<style scoped>\n",
       "    .dataframe tbody tr th:only-of-type {\n",
       "        vertical-align: middle;\n",
       "    }\n",
       "\n",
       "    .dataframe tbody tr th {\n",
       "        vertical-align: top;\n",
       "    }\n",
       "\n",
       "    .dataframe thead th {\n",
       "        text-align: right;\n",
       "    }\n",
       "</style>\n",
       "<table border=\"1\" class=\"dataframe\">\n",
       "  <thead>\n",
       "    <tr style=\"text-align: right;\">\n",
       "      <th></th>\n",
       "      <th>eng</th>\n",
       "      <th>fra</th>\n",
       "      <th>cc</th>\n",
       "    </tr>\n",
       "  </thead>\n",
       "  <tbody>\n",
       "    <tr>\n",
       "      <th>155097</th>\n",
       "      <td>I used to go to that library to study.</td>\n",
       "      <td>J'avais pour habitude d'aller étudier à cette ...</td>\n",
       "      <td>CC-BY 2.0 (France) Attribution: tatoeba.org #2...</td>\n",
       "    </tr>\n",
       "    <tr>\n",
       "      <th>103977</th>\n",
       "      <td>I'm not supposed to help you.</td>\n",
       "      <td>Je ne suis pas censé t'aider.</td>\n",
       "      <td>CC-BY 2.0 (France) Attribution: tatoeba.org #3...</td>\n",
       "    </tr>\n",
       "    <tr>\n",
       "      <th>16861</th>\n",
       "      <td>What drives you?</td>\n",
       "      <td>Qu'est-ce qui vous mène ?</td>\n",
       "      <td>CC-BY 2.0 (France) Attribution: tatoeba.org #3...</td>\n",
       "    </tr>\n",
       "    <tr>\n",
       "      <th>17999</th>\n",
       "      <td>Have a nice trip!</td>\n",
       "      <td>Faites bon voyage.</td>\n",
       "      <td>CC-BY 2.0 (France) Attribution: tatoeba.org #3...</td>\n",
       "    </tr>\n",
       "    <tr>\n",
       "      <th>79562</th>\n",
       "      <td>I know you're not serious.</td>\n",
       "      <td>Je sais que vous n'êtes pas sérieuses.</td>\n",
       "      <td>CC-BY 2.0 (France) Attribution: tatoeba.org #2...</td>\n",
       "    </tr>\n",
       "  </tbody>\n",
       "</table>\n",
       "</div>"
      ],
      "text/plain": [
       "                                           eng  \\\n",
       "155097  I used to go to that library to study.   \n",
       "103977           I'm not supposed to help you.   \n",
       "16861                         What drives you?   \n",
       "17999                        Have a nice trip!   \n",
       "79562               I know you're not serious.   \n",
       "\n",
       "                                                      fra  \\\n",
       "155097  J'avais pour habitude d'aller étudier à cette ...   \n",
       "103977                      Je ne suis pas censé t'aider.   \n",
       "16861                           Qu'est-ce qui vous mène ?   \n",
       "17999                                  Faites bon voyage.   \n",
       "79562              Je sais que vous n'êtes pas sérieuses.   \n",
       "\n",
       "                                                       cc  \n",
       "155097  CC-BY 2.0 (France) Attribution: tatoeba.org #2...  \n",
       "103977  CC-BY 2.0 (France) Attribution: tatoeba.org #3...  \n",
       "16861   CC-BY 2.0 (France) Attribution: tatoeba.org #3...  \n",
       "17999   CC-BY 2.0 (France) Attribution: tatoeba.org #3...  \n",
       "79562   CC-BY 2.0 (France) Attribution: tatoeba.org #2...  "
      ]
     },
     "execution_count": 105,
     "metadata": {},
     "output_type": "execute_result"
    }
   ],
   "source": [
    "import os\n",
    "file_path = os.getenv('HOME')+'/aiffel/translator_seq2seq/data/fra.txt'\n",
    "lines = pd.read_csv(file_path, names=['eng', 'fra', 'cc'], sep='\\t')\n",
    "print('전체 샘플의 수 :',len(lines))\n",
    "lines.sample(5) #샘플 5개 출력"
   ]
  },
  {
   "cell_type": "code",
   "execution_count": 106,
   "id": "26eecd58",
   "metadata": {
    "scrolled": true
   },
   "outputs": [
    {
     "data": {
      "text/html": [
       "<div>\n",
       "<style scoped>\n",
       "    .dataframe tbody tr th:only-of-type {\n",
       "        vertical-align: middle;\n",
       "    }\n",
       "\n",
       "    .dataframe tbody tr th {\n",
       "        vertical-align: top;\n",
       "    }\n",
       "\n",
       "    .dataframe thead th {\n",
       "        text-align: right;\n",
       "    }\n",
       "</style>\n",
       "<table border=\"1\" class=\"dataframe\">\n",
       "  <thead>\n",
       "    <tr style=\"text-align: right;\">\n",
       "      <th></th>\n",
       "      <th>eng</th>\n",
       "      <th>fra</th>\n",
       "    </tr>\n",
       "  </thead>\n",
       "  <tbody>\n",
       "    <tr>\n",
       "      <th>24648</th>\n",
       "      <td>I'll go if you go.</td>\n",
       "      <td>J'irai si vous allez.</td>\n",
       "    </tr>\n",
       "    <tr>\n",
       "      <th>6831</th>\n",
       "      <td>Don't deny it.</td>\n",
       "      <td>Ne le niez pas !</td>\n",
       "    </tr>\n",
       "    <tr>\n",
       "      <th>19328</th>\n",
       "      <td>I'm a bookkeeper.</td>\n",
       "      <td>Je suis comptable.</td>\n",
       "    </tr>\n",
       "    <tr>\n",
       "      <th>10402</th>\n",
       "      <td>I fell in love.</td>\n",
       "      <td>Je suis tombée amoureuse.</td>\n",
       "    </tr>\n",
       "    <tr>\n",
       "      <th>6885</th>\n",
       "      <td>Eat healthily.</td>\n",
       "      <td>Mangez sainement !</td>\n",
       "    </tr>\n",
       "  </tbody>\n",
       "</table>\n",
       "</div>"
      ],
      "text/plain": [
       "                      eng                        fra\n",
       "24648  I'll go if you go.      J'irai si vous allez.\n",
       "6831       Don't deny it.           Ne le niez pas !\n",
       "19328   I'm a bookkeeper.         Je suis comptable.\n",
       "10402     I fell in love.  Je suis tombée amoureuse.\n",
       "6885       Eat healthily.         Mangez sainement !"
      ]
     },
     "execution_count": 106,
     "metadata": {},
     "output_type": "execute_result"
    }
   ],
   "source": [
    "lines = lines[['eng', 'fra']][:33000] # 5만개 샘플 사용\n",
    "lines.sample(5)"
   ]
  },
  {
   "cell_type": "code",
   "execution_count": 107,
   "id": "1af3e0f5",
   "metadata": {},
   "outputs": [
    {
     "data": {
      "text/html": [
       "<div>\n",
       "<style scoped>\n",
       "    .dataframe tbody tr th:only-of-type {\n",
       "        vertical-align: middle;\n",
       "    }\n",
       "\n",
       "    .dataframe tbody tr th {\n",
       "        vertical-align: top;\n",
       "    }\n",
       "\n",
       "    .dataframe thead th {\n",
       "        text-align: right;\n",
       "    }\n",
       "</style>\n",
       "<table border=\"1\" class=\"dataframe\">\n",
       "  <thead>\n",
       "    <tr style=\"text-align: right;\">\n",
       "      <th></th>\n",
       "      <th>eng</th>\n",
       "      <th>fra</th>\n",
       "    </tr>\n",
       "  </thead>\n",
       "  <tbody>\n",
       "    <tr>\n",
       "      <th>0</th>\n",
       "      <td>Go.</td>\n",
       "      <td>Va !</td>\n",
       "    </tr>\n",
       "    <tr>\n",
       "      <th>1</th>\n",
       "      <td>Go.</td>\n",
       "      <td>Marche.</td>\n",
       "    </tr>\n",
       "    <tr>\n",
       "      <th>2</th>\n",
       "      <td>Go.</td>\n",
       "      <td>En route !</td>\n",
       "    </tr>\n",
       "    <tr>\n",
       "      <th>3</th>\n",
       "      <td>Go.</td>\n",
       "      <td>Bouge !</td>\n",
       "    </tr>\n",
       "    <tr>\n",
       "      <th>4</th>\n",
       "      <td>Hi.</td>\n",
       "      <td>Salut !</td>\n",
       "    </tr>\n",
       "    <tr>\n",
       "      <th>5</th>\n",
       "      <td>Hi.</td>\n",
       "      <td>Salut.</td>\n",
       "    </tr>\n",
       "    <tr>\n",
       "      <th>6</th>\n",
       "      <td>Run!</td>\n",
       "      <td>Cours !</td>\n",
       "    </tr>\n",
       "    <tr>\n",
       "      <th>7</th>\n",
       "      <td>Run!</td>\n",
       "      <td>Courez !</td>\n",
       "    </tr>\n",
       "    <tr>\n",
       "      <th>8</th>\n",
       "      <td>Run!</td>\n",
       "      <td>Prenez vos jambes à vos cous !</td>\n",
       "    </tr>\n",
       "    <tr>\n",
       "      <th>9</th>\n",
       "      <td>Run!</td>\n",
       "      <td>File !</td>\n",
       "    </tr>\n",
       "  </tbody>\n",
       "</table>\n",
       "</div>"
      ],
      "text/plain": [
       "    eng                             fra\n",
       "0   Go.                            Va !\n",
       "1   Go.                         Marche.\n",
       "2   Go.                      En route !\n",
       "3   Go.                         Bouge !\n",
       "4   Hi.                         Salut !\n",
       "5   Hi.                          Salut.\n",
       "6  Run!                         Cours !\n",
       "7  Run!                        Courez !\n",
       "8  Run!  Prenez vos jambes à vos cous !\n",
       "9  Run!                          File !"
      ]
     },
     "execution_count": 107,
     "metadata": {},
     "output_type": "execute_result"
    }
   ],
   "source": [
    "lines.head(10)"
   ]
  },
  {
   "cell_type": "code",
   "execution_count": 108,
   "id": "13e373f1",
   "metadata": {},
   "outputs": [],
   "source": [
    "# 구두점 분리하기\n",
    "# 소문자로 바꾸기"
   ]
  },
  {
   "cell_type": "code",
   "execution_count": 109,
   "id": "50f5b16d",
   "metadata": {},
   "outputs": [],
   "source": [
    "def preprocess_sentence(sentence):\n",
    "    sentence = sentence.lower()\n",
    "    sentence = re.sub(r\"([?.!,¿])\", r\" \\1\", sentence)\n",
    "    sentence = sentence.split()\n",
    "    return sentence"
   ]
  },
  {
   "cell_type": "code",
   "execution_count": 110,
   "id": "db56b22f",
   "metadata": {},
   "outputs": [],
   "source": [
    "lines['eng'] = lines['eng'].apply(preprocess_sentence)\n",
    "lines['fra'] = lines['fra'].apply(preprocess_sentence)"
   ]
  },
  {
   "cell_type": "code",
   "execution_count": 111,
   "id": "66fc05fe",
   "metadata": {},
   "outputs": [
    {
     "data": {
      "text/plain": [
       "['do', 'you', 'read', 'me', '?']"
      ]
     },
     "execution_count": 111,
     "metadata": {},
     "output_type": "execute_result"
    }
   ],
   "source": [
    "preprocess_sentence('Do you read me?')"
   ]
  },
  {
   "cell_type": "code",
   "execution_count": 112,
   "id": "4d8dc209",
   "metadata": {},
   "outputs": [],
   "source": [
    "# 띄어쓰기 단위로 토큰화를 수행하세요.   "
   ]
  },
  {
   "cell_type": "code",
   "execution_count": 113,
   "id": "dc0d55e9",
   "metadata": {},
   "outputs": [
    {
     "data": {
      "text/plain": [
       "0                                   [va, !]\n",
       "1                               [marche, .]\n",
       "2                            [en, route, !]\n",
       "3                                [bouge, !]\n",
       "4                                [salut, !]\n",
       "5                                [salut, .]\n",
       "6                                [cours, !]\n",
       "7                               [courez, !]\n",
       "8    [prenez, vos, jambes, à, vos, cous, !]\n",
       "9                                 [file, !]\n",
       "Name: fra, dtype: object"
      ]
     },
     "execution_count": 113,
     "metadata": {},
     "output_type": "execute_result"
    }
   ],
   "source": [
    "lines['fra'].head(10)"
   ]
  },
  {
   "cell_type": "code",
   "execution_count": 114,
   "id": "abae34b4",
   "metadata": {},
   "outputs": [
    {
     "data": {
      "text/plain": [
       "0     [go, .]\n",
       "1     [go, .]\n",
       "2     [go, .]\n",
       "3     [go, .]\n",
       "4     [hi, .]\n",
       "5     [hi, .]\n",
       "6    [run, !]\n",
       "7    [run, !]\n",
       "8    [run, !]\n",
       "9    [run, !]\n",
       "Name: eng, dtype: object"
      ]
     },
     "execution_count": 114,
     "metadata": {},
     "output_type": "execute_result"
    }
   ],
   "source": [
    "lines['eng'].head(10)"
   ]
  },
  {
   "cell_type": "code",
   "execution_count": null,
   "id": "86288c53",
   "metadata": {},
   "outputs": [],
   "source": []
  },
  {
   "cell_type": "markdown",
   "id": "cb1567a7",
   "metadata": {},
   "source": [
    "## 2. 디코더의 문장에 시작 토큰과 종료 토큰을 넣기"
   ]
  },
  {
   "cell_type": "code",
   "execution_count": 115,
   "id": "605cf979",
   "metadata": {},
   "outputs": [
    {
     "name": "stdout",
     "output_type": "stream",
     "text": [
      "전체 샘플의 수 : 33000\n"
     ]
    },
    {
     "data": {
      "text/html": [
       "<div>\n",
       "<style scoped>\n",
       "    .dataframe tbody tr th:only-of-type {\n",
       "        vertical-align: middle;\n",
       "    }\n",
       "\n",
       "    .dataframe tbody tr th {\n",
       "        vertical-align: top;\n",
       "    }\n",
       "\n",
       "    .dataframe thead th {\n",
       "        text-align: right;\n",
       "    }\n",
       "</style>\n",
       "<table border=\"1\" class=\"dataframe\">\n",
       "  <thead>\n",
       "    <tr style=\"text-align: right;\">\n",
       "      <th></th>\n",
       "      <th>eng</th>\n",
       "      <th>fra</th>\n",
       "    </tr>\n",
       "  </thead>\n",
       "  <tbody>\n",
       "    <tr>\n",
       "      <th>5824</th>\n",
       "      <td>[stop, yelling, !]</td>\n",
       "      <td>[&lt;sos&gt;, arrête, de, hurler, !, &lt;eos&gt;]</td>\n",
       "    </tr>\n",
       "    <tr>\n",
       "      <th>24020</th>\n",
       "      <td>[i, hope, that, helps, .]</td>\n",
       "      <td>[&lt;sos&gt;, j'espère, que, cela, aide, ., &lt;eos&gt;]</td>\n",
       "    </tr>\n",
       "    <tr>\n",
       "      <th>20462</th>\n",
       "      <td>[that, seems, clear, .]</td>\n",
       "      <td>[&lt;sos&gt;, cela, semble, clair, ., &lt;eos&gt;]</td>\n",
       "    </tr>\n",
       "    <tr>\n",
       "      <th>27386</th>\n",
       "      <td>[what, did, you, find, ?]</td>\n",
       "      <td>[&lt;sos&gt;, qu'avez-vous, trouvé, ?, &lt;eos&gt;]</td>\n",
       "    </tr>\n",
       "    <tr>\n",
       "      <th>14386</th>\n",
       "      <td>[i, need, this, job, .]</td>\n",
       "      <td>[&lt;sos&gt;, j'ai, besoin, de, ce, travail, ., &lt;eos&gt;]</td>\n",
       "    </tr>\n",
       "  </tbody>\n",
       "</table>\n",
       "</div>"
      ],
      "text/plain": [
       "                             eng  \\\n",
       "5824          [stop, yelling, !]   \n",
       "24020  [i, hope, that, helps, .]   \n",
       "20462    [that, seems, clear, .]   \n",
       "27386  [what, did, you, find, ?]   \n",
       "14386    [i, need, this, job, .]   \n",
       "\n",
       "                                                    fra  \n",
       "5824              [<sos>, arrête, de, hurler, !, <eos>]  \n",
       "24020      [<sos>, j'espère, que, cela, aide, ., <eos>]  \n",
       "20462            [<sos>, cela, semble, clair, ., <eos>]  \n",
       "27386           [<sos>, qu'avez-vous, trouvé, ?, <eos>]  \n",
       "14386  [<sos>, j'ai, besoin, de, ce, travail, ., <eos>]  "
      ]
     },
     "execution_count": 115,
     "metadata": {},
     "output_type": "execute_result"
    }
   ],
   "source": [
    "# 시작 토큰과 종료 토큰 추가\n",
    "sos_token = '<sos>'\n",
    "eos_token = '<eos>'\n",
    "lines.fra = lines.fra.apply(lambda x : [sos_token] + x + [eos_token])\n",
    "print('전체 샘플의 수 :',len(lines))\n",
    "lines.sample(5)"
   ]
  },
  {
   "cell_type": "markdown",
   "id": "873be6f1",
   "metadata": {},
   "source": [
    "## 3. 케라스의 토크나이저로 텍스트를 숫자로 바꾸기"
   ]
  },
  {
   "cell_type": "code",
   "execution_count": 116,
   "id": "66cbb284",
   "metadata": {},
   "outputs": [
    {
     "data": {
      "text/plain": [
       "[[25, 1], [25, 1], [25, 1]]"
      ]
     },
     "execution_count": 116,
     "metadata": {},
     "output_type": "execute_result"
    }
   ],
   "source": [
    "eng_tokenizer = Tokenizer(char_level=False)   # 문자 단위로 Tokenizer를 생성합니다. \n",
    "eng_tokenizer.fit_on_texts(lines.eng)               # 50000개의 행을 가진 eng의 각 행에 토큰화를 수행\n",
    "input_text = eng_tokenizer.texts_to_sequences(lines.eng)    # 단어를 숫자값 인덱스로 변환하여 저장\n",
    "input_text[:3]"
   ]
  },
  {
   "cell_type": "code",
   "execution_count": 117,
   "id": "e109428c",
   "metadata": {},
   "outputs": [
    {
     "data": {
      "text/plain": [
       "[[1, 62, 7, 2], [1, 346, 3, 2], [1, 25, 504, 7, 2]]"
      ]
     },
     "execution_count": 117,
     "metadata": {},
     "output_type": "execute_result"
    }
   ],
   "source": [
    "fra_tokenizer = Tokenizer(char_level=False)   # 문자 단위로 Tokenizer를 생성합니다. \n",
    "fra_tokenizer.fit_on_texts(lines.fra)                 # 50000개의 행을 가진 fra의 각 행에 토큰화를 수행\n",
    "target_text = fra_tokenizer.texts_to_sequences(lines.fra)     # 단어를 숫자값 인덱스로 변환하여 저장\n",
    "target_text[:3]"
   ]
  },
  {
   "cell_type": "code",
   "execution_count": 118,
   "id": "a71460fb",
   "metadata": {},
   "outputs": [
    {
     "name": "stdout",
     "output_type": "stream",
     "text": [
      "영어 단어장의 크기 : 4812\n",
      "프랑스어 단어장의 크기 : 9984\n"
     ]
    }
   ],
   "source": [
    "eng_vocab_size = len(eng_tokenizer.word_index) + 1\n",
    "fra_vocab_size = len(fra_tokenizer.word_index) + 1\n",
    "print('영어 단어장의 크기 :', eng_vocab_size)\n",
    "print('프랑스어 단어장의 크기 :', fra_vocab_size)"
   ]
  },
  {
   "cell_type": "code",
   "execution_count": 119,
   "id": "e587c4fa",
   "metadata": {},
   "outputs": [
    {
     "name": "stdout",
     "output_type": "stream",
     "text": [
      "영어 시퀀스의 최대 길이 7\n",
      "프랑스어 시퀀스의 최대 길이 15\n"
     ]
    }
   ],
   "source": [
    "max_eng_seq_len = max([len(line) for line in input_text])\n",
    "max_fra_seq_len = max([len(line) for line in target_text])\n",
    "print('영어 시퀀스의 최대 길이', max_eng_seq_len)\n",
    "print('프랑스어 시퀀스의 최대 길이', max_fra_seq_len)"
   ]
  },
  {
   "cell_type": "code",
   "execution_count": 120,
   "id": "d92deb51",
   "metadata": {},
   "outputs": [
    {
     "name": "stdout",
     "output_type": "stream",
     "text": [
      "전체 샘플의 수 : 33000\n",
      "영어 단어장의 크기 : 4812\n",
      "프랑스어 단어장의 크기 : 9984\n",
      "영어 시퀀스의 최대 길이 7\n",
      "프랑스어 시퀀스의 최대 길이 15\n"
     ]
    }
   ],
   "source": [
    "print('전체 샘플의 수 :',len(lines))\n",
    "print('영어 단어장의 크기 :', eng_vocab_size)\n",
    "print('프랑스어 단어장의 크기 :', fra_vocab_size)\n",
    "print('영어 시퀀스의 최대 길이', max_eng_seq_len)\n",
    "print('프랑스어 시퀀스의 최대 길이', max_fra_seq_len)"
   ]
  },
  {
   "cell_type": "code",
   "execution_count": 121,
   "id": "1cc21a08",
   "metadata": {},
   "outputs": [],
   "source": [
    "encoder_input = input_text\n",
    "# 종료 토큰 제거\n",
    "decoder_input = [[ char for char in line if char != fra_tokenizer.word_index[eos_token] ] for line in target_text] \n",
    "# 시작 토큰 제거\n",
    "decoder_target = [[ char for char in line if char != fra_tokenizer.word_index[sos_token] ] for line in target_text]"
   ]
  },
  {
   "cell_type": "code",
   "execution_count": 142,
   "id": "0756f4e9",
   "metadata": {},
   "outputs": [
    {
     "data": {
      "text/plain": [
       "1"
      ]
     },
     "execution_count": 142,
     "metadata": {},
     "output_type": "execute_result"
    }
   ],
   "source": [
    "fra_tokenizer.word_index[sos_token]"
   ]
  },
  {
   "cell_type": "code",
   "execution_count": 122,
   "id": "973423e6",
   "metadata": {},
   "outputs": [
    {
     "name": "stdout",
     "output_type": "stream",
     "text": [
      "[[1, 62, 7], [1, 346, 3], [1, 25, 504, 7]]\n",
      "[[62, 7, 2], [346, 3, 2], [25, 504, 7, 2]]\n"
     ]
    }
   ],
   "source": [
    "print(decoder_input[:3])\n",
    "print(decoder_target[:3])"
   ]
  },
  {
   "cell_type": "code",
   "execution_count": 180,
   "id": "e25ffbef",
   "metadata": {},
   "outputs": [
    {
     "name": "stdout",
     "output_type": "stream",
     "text": [
      "영어 데이터의 크기(shape) : (33000, 7)\n",
      "프랑스어 입력데이터의 크기(shape) : (33000, 15)\n",
      "프랑스어 출력데이터의 크기(shape) : (33000, 15)\n"
     ]
    }
   ],
   "source": [
    "encoder_input = pad_sequences(encoder_input, maxlen = max_eng_seq_len, padding='post')\n",
    "decoder_input = pad_sequences(decoder_input, maxlen = max_fra_seq_len, padding='post')\n",
    "decoder_target = pad_sequences(decoder_target, maxlen = max_fra_seq_len, padding='post')\n",
    "print('영어 데이터의 크기(shape) :',np.shape(encoder_input))\n",
    "print('프랑스어 입력데이터의 크기(shape) :',np.shape(decoder_input))\n",
    "print('프랑스어 출력데이터의 크기(shape) :',np.shape(decoder_target))"
   ]
  },
  {
   "cell_type": "code",
   "execution_count": 181,
   "id": "cfddb785",
   "metadata": {},
   "outputs": [
    {
     "name": "stdout",
     "output_type": "stream",
     "text": [
      "영어 학습데이터의 크기(shape) : (33000, 7)\n",
      "프랑스어 학습 입력데이터의 크기(shape) : (33000, 15)\n",
      "프랑스어 학습 출력데이터의 크기(shape) : (33000, 15)\n"
     ]
    }
   ],
   "source": [
    "n_of_val = 3000\n",
    "\n",
    "encoder_input_train = encoder_input[:-n_of_val]\n",
    "decoder_input_train = decoder_input[:-n_of_val]\n",
    "decoder_target_train = decoder_target[:-n_of_val]\n",
    "\n",
    "encoder_input_test = encoder_input[-n_of_val:]\n",
    "decoder_input_test = decoder_input[-n_of_val:]\n",
    "decoder_target_test = decoder_target[-n_of_val:]\n",
    "\n",
    "print('영어 학습데이터의 크기(shape) :',np.shape(encoder_input))\n",
    "print('프랑스어 학습 입력데이터의 크기(shape) :',np.shape(decoder_input))\n",
    "print('프랑스어 학습 출력데이터의 크기(shape) :',np.shape(decoder_target))"
   ]
  },
  {
   "cell_type": "markdown",
   "id": "a1613758",
   "metadata": {},
   "source": [
    "## 4. 임베딩 층 사용하기"
   ]
  },
  {
   "cell_type": "code",
   "execution_count": null,
   "id": "8d42c7c6",
   "metadata": {},
   "outputs": [],
   "source": []
  },
  {
   "cell_type": "code",
   "execution_count": 182,
   "id": "f264422a",
   "metadata": {},
   "outputs": [],
   "source": [
    "from tensorflow.keras.layers import Input, LSTM, Embedding, Dense\n",
    "from tensorflow.keras.models import Model\n",
    "from tensorflow.keras.layers import Input, Embedding, Masking\n",
    "\n",
    "#eng_vocab_size\n",
    "#fra_vocab_size\n",
    "NUM_EMBEDDING = 128\n",
    "LSTM_HIDDEN = 256\n",
    "\n",
    "# 인코더에서 사용할 임베딩 층 사용 예시\n",
    "encoder_inputs = Input(shape=(None,))\n",
    "enc_emb =  Embedding(eng_vocab_size, NUM_EMBEDDING)(encoder_inputs)\n",
    "enc_masking = Masking(mask_value=0.0)(enc_emb)\n",
    "encoder_lstm = LSTM(LSTM_HIDDEN, return_state=True)\n",
    "encoder_outputs, state_h, state_c = encoder_lstm(enc_masking)\n",
    "encoder_states = [state_h, state_c]"
   ]
  },
  {
   "cell_type": "markdown",
   "id": "7cae6d93",
   "metadata": {},
   "source": [
    "## 5. 모델 구현하기"
   ]
  },
  {
   "cell_type": "code",
   "execution_count": 183,
   "id": "7d879e41",
   "metadata": {},
   "outputs": [],
   "source": [
    "# 입력 텐서 생성.\n",
    "decoder_inputs = Input(shape=(None, ))\n",
    "dec_emb_layer =  Embedding(fra_vocab_size, NUM_EMBEDDING)\n",
    "dec_emb = dec_emb_layer(decoder_inputs)\n",
    "dec_masking = Masking(mask_value=0.0)(dec_emb)\n",
    "decoder_lstm = LSTM(units = LSTM_HIDDEN, return_sequences = True, return_state=True)\n",
    "decoder_outputs, _, _= decoder_lstm(dec_masking, initial_state = encoder_states)\n",
    "decoder_softmax_layer = Dense(fra_vocab_size, activation='softmax')\n",
    "decoder_outputs = decoder_softmax_layer(decoder_outputs)"
   ]
  },
  {
   "cell_type": "code",
   "execution_count": 184,
   "id": "58c1b5c5",
   "metadata": {
    "scrolled": false
   },
   "outputs": [
    {
     "name": "stdout",
     "output_type": "stream",
     "text": [
      "Model: \"model_21\"\n",
      "__________________________________________________________________________________________________\n",
      "Layer (type)                    Output Shape         Param #     Connected to                     \n",
      "==================================================================================================\n",
      "input_45 (InputLayer)           [(None, None)]       0                                            \n",
      "__________________________________________________________________________________________________\n",
      "input_46 (InputLayer)           [(None, None)]       0                                            \n",
      "__________________________________________________________________________________________________\n",
      "embedding_30 (Embedding)        (None, None, 128)    615936      input_45[0][0]                   \n",
      "__________________________________________________________________________________________________\n",
      "embedding_31 (Embedding)        (None, None, 128)    1277952     input_46[0][0]                   \n",
      "__________________________________________________________________________________________________\n",
      "masking_15 (Masking)            (None, None, 128)    0           embedding_30[0][0]               \n",
      "__________________________________________________________________________________________________\n",
      "masking_16 (Masking)            (None, None, 128)    0           embedding_31[0][0]               \n",
      "__________________________________________________________________________________________________\n",
      "lstm_30 (LSTM)                  [(None, 256), (None, 394240      masking_15[0][0]                 \n",
      "__________________________________________________________________________________________________\n",
      "lstm_31 (LSTM)                  [(None, None, 256),  394240      masking_16[0][0]                 \n",
      "                                                                 lstm_30[0][1]                    \n",
      "                                                                 lstm_30[0][2]                    \n",
      "__________________________________________________________________________________________________\n",
      "dense_12 (Dense)                (None, None, 9984)   2565888     lstm_31[0][0]                    \n",
      "==================================================================================================\n",
      "Total params: 5,248,256\n",
      "Trainable params: 5,248,256\n",
      "Non-trainable params: 0\n",
      "__________________________________________________________________________________________________\n"
     ]
    }
   ],
   "source": [
    "model = Model([encoder_inputs, decoder_inputs], decoder_outputs)\n",
    "model.compile(optimizer=\"rmsprop\", loss=\"sparse_categorical_crossentropy\", metrics=['acc'])\n",
    "model.summary()"
   ]
  },
  {
   "cell_type": "code",
   "execution_count": 185,
   "id": "084bbdc1",
   "metadata": {
    "scrolled": false
   },
   "outputs": [
    {
     "name": "stdout",
     "output_type": "stream",
     "text": [
      "Epoch 1/30\n",
      "118/118 [==============================] - 16s 71ms/step - loss: 2.2695 - acc: 0.6740 - val_loss: 2.0354 - val_acc: 0.7084\n",
      "Epoch 2/30\n",
      "118/118 [==============================] - 6s 53ms/step - loss: 1.5729 - acc: 0.7619 - val_loss: 1.8291 - val_acc: 0.7308\n",
      "Epoch 3/30\n",
      "118/118 [==============================] - 6s 54ms/step - loss: 1.4152 - acc: 0.7763 - val_loss: 1.7401 - val_acc: 0.7383\n",
      "Epoch 4/30\n",
      "118/118 [==============================] - 6s 53ms/step - loss: 1.2780 - acc: 0.7966 - val_loss: 1.6027 - val_acc: 0.7629\n",
      "Epoch 5/30\n",
      "118/118 [==============================] - 6s 52ms/step - loss: 1.1705 - acc: 0.8102 - val_loss: 1.5260 - val_acc: 0.7669\n",
      "Epoch 6/30\n",
      "118/118 [==============================] - 6s 52ms/step - loss: 1.0882 - acc: 0.8196 - val_loss: 1.4849 - val_acc: 0.7751\n",
      "Epoch 7/30\n",
      "118/118 [==============================] - 6s 52ms/step - loss: 1.0214 - acc: 0.8274 - val_loss: 1.4127 - val_acc: 0.7862\n",
      "Epoch 8/30\n",
      "118/118 [==============================] - 6s 51ms/step - loss: 0.9663 - acc: 0.8336 - val_loss: 1.3993 - val_acc: 0.7874\n",
      "Epoch 9/30\n",
      "118/118 [==============================] - 6s 51ms/step - loss: 0.9196 - acc: 0.8389 - val_loss: 1.3611 - val_acc: 0.7904\n",
      "Epoch 10/30\n",
      "118/118 [==============================] - 6s 51ms/step - loss: 0.8790 - acc: 0.8438 - val_loss: 1.3391 - val_acc: 0.7971\n",
      "Epoch 11/30\n",
      "118/118 [==============================] - 6s 51ms/step - loss: 0.8429 - acc: 0.8477 - val_loss: 1.3372 - val_acc: 0.7976\n",
      "Epoch 12/30\n",
      "118/118 [==============================] - 6s 51ms/step - loss: 0.8103 - acc: 0.8516 - val_loss: 1.3049 - val_acc: 0.8005\n",
      "Epoch 13/30\n",
      "118/118 [==============================] - 6s 52ms/step - loss: 0.7803 - acc: 0.8551 - val_loss: 1.2968 - val_acc: 0.8025\n",
      "Epoch 14/30\n",
      "118/118 [==============================] - 6s 52ms/step - loss: 0.7520 - acc: 0.8586 - val_loss: 1.2954 - val_acc: 0.8014\n",
      "Epoch 15/30\n",
      "118/118 [==============================] - 6s 52ms/step - loss: 0.7247 - acc: 0.8621 - val_loss: 1.2791 - val_acc: 0.8053\n",
      "Epoch 16/30\n",
      "118/118 [==============================] - 6s 52ms/step - loss: 0.6997 - acc: 0.8655 - val_loss: 1.2717 - val_acc: 0.8073\n",
      "Epoch 17/30\n",
      "118/118 [==============================] - 6s 52ms/step - loss: 0.6767 - acc: 0.8686 - val_loss: 1.2768 - val_acc: 0.8072\n",
      "Epoch 18/30\n",
      "118/118 [==============================] - 6s 52ms/step - loss: 0.6538 - acc: 0.8720 - val_loss: 1.2689 - val_acc: 0.8052\n",
      "Epoch 19/30\n",
      "118/118 [==============================] - 6s 52ms/step - loss: 0.6327 - acc: 0.8749 - val_loss: 1.2458 - val_acc: 0.8108\n",
      "Epoch 20/30\n",
      "118/118 [==============================] - 6s 52ms/step - loss: 0.6119 - acc: 0.8780 - val_loss: 1.2513 - val_acc: 0.8094\n",
      "Epoch 21/30\n",
      "118/118 [==============================] - 6s 52ms/step - loss: 0.5930 - acc: 0.8810 - val_loss: 1.2534 - val_acc: 0.8116\n",
      "Epoch 22/30\n",
      "118/118 [==============================] - 6s 52ms/step - loss: 0.5738 - acc: 0.8841 - val_loss: 1.2422 - val_acc: 0.8132\n",
      "Epoch 23/30\n",
      "118/118 [==============================] - 6s 52ms/step - loss: 0.5562 - acc: 0.8867 - val_loss: 1.2480 - val_acc: 0.8123\n",
      "Epoch 24/30\n",
      "118/118 [==============================] - 6s 51ms/step - loss: 0.5389 - acc: 0.8899 - val_loss: 1.2331 - val_acc: 0.8135\n",
      "Epoch 25/30\n",
      "118/118 [==============================] - 6s 51ms/step - loss: 0.5221 - acc: 0.8927 - val_loss: 1.2512 - val_acc: 0.8143\n",
      "Epoch 26/30\n",
      "118/118 [==============================] - 6s 52ms/step - loss: 0.5056 - acc: 0.8955 - val_loss: 1.2347 - val_acc: 0.8152\n",
      "Epoch 27/30\n",
      "118/118 [==============================] - 6s 52ms/step - loss: 0.4888 - acc: 0.8985 - val_loss: 1.2397 - val_acc: 0.8151\n",
      "Epoch 28/30\n",
      "118/118 [==============================] - 6s 52ms/step - loss: 0.4736 - acc: 0.9010 - val_loss: 1.2409 - val_acc: 0.8163\n",
      "Epoch 29/30\n",
      "118/118 [==============================] - 6s 52ms/step - loss: 0.4596 - acc: 0.9037 - val_loss: 1.2499 - val_acc: 0.8150\n",
      "Epoch 30/30\n",
      "118/118 [==============================] - 6s 52ms/step - loss: 0.4453 - acc: 0.9061 - val_loss: 1.2507 - val_acc: 0.8171\n"
     ]
    }
   ],
   "source": [
    "hist = model.fit(x=[encoder_input_train, decoder_input_train], y=decoder_target_train, \\\n",
    "          validation_data = ([encoder_input_test, decoder_input_test], decoder_target_test),\n",
    "          batch_size=256, epochs=30)"
   ]
  },
  {
   "cell_type": "code",
   "execution_count": 186,
   "id": "ab5ae374",
   "metadata": {},
   "outputs": [],
   "source": [
    "import matplotlib.pyplot as plt\n",
    "\n",
    "def draw_graph(history_dict):\n",
    "    acc = history_dict['acc']\n",
    "    val_acc = history_dict['val_acc']\n",
    "    loss = history_dict['loss']\n",
    "    val_loss = history_dict['val_loss']\n",
    "\n",
    "    epochs = range(1, len(acc) + 1)\n",
    "\n",
    "    plt.plot(epochs, loss, 'bo', label='Training loss')\n",
    "    plt.plot(epochs, val_loss, 'b', label='Validation loss')\n",
    "    plt.title('Training and validation loss')\n",
    "    plt.xlabel('Epochs')\n",
    "    plt.ylabel('Loss')\n",
    "    plt.legend()\n",
    "\n",
    "    plt.show()\n",
    "    plt.clf()   \n",
    "\n",
    "    plt.plot(epochs, acc, 'bo', label='Training acc')\n",
    "    plt.plot(epochs, val_acc, 'b', label='Validation acc')\n",
    "    plt.title('Training and validation accuracy')\n",
    "    plt.xlabel('Epochs')\n",
    "    plt.ylabel('Accuracy')\n",
    "    plt.legend()\n",
    "\n",
    "    plt.show()"
   ]
  },
  {
   "cell_type": "code",
   "execution_count": 187,
   "id": "55e8b5c7",
   "metadata": {},
   "outputs": [
    {
     "data": {
      "image/png": "[encoded data removed]",
      "text/plain": [
       "<Figure size 432x288 with 1 Axes>"
      ]
     },
     "metadata": {
      "needs_background": "light"
     },
     "output_type": "display_data"
    },
    {
     "data": {
      "image/png": "[encoded data removed]",
      "text/plain": [
       "<Figure size 432x288 with 1 Axes>"
      ]
     },
     "metadata": {
      "needs_background": "light"
     },
     "output_type": "display_data"
    }
   ],
   "source": [
    "draw_graph(hist.history)"
   ]
  },
  {
   "cell_type": "markdown",
   "id": "5a145874",
   "metadata": {},
   "source": [
    "## 6. 모델 평가하기"
   ]
  },
  {
   "cell_type": "code",
   "execution_count": 188,
   "id": "d47f5d9c",
   "metadata": {},
   "outputs": [
    {
     "name": "stdout",
     "output_type": "stream",
     "text": [
      "Model: \"model_22\"\n",
      "_________________________________________________________________\n",
      "Layer (type)                 Output Shape              Param #   \n",
      "=================================================================\n",
      "input_45 (InputLayer)        [(None, None)]            0         \n",
      "_________________________________________________________________\n",
      "embedding_30 (Embedding)     (None, None, 128)         615936    \n",
      "_________________________________________________________________\n",
      "masking_15 (Masking)         (None, None, 128)         0         \n",
      "_________________________________________________________________\n",
      "lstm_30 (LSTM)               [(None, 256), (None, 256) 394240    \n",
      "=================================================================\n",
      "Total params: 1,010,176\n",
      "Trainable params: 1,010,176\n",
      "Non-trainable params: 0\n",
      "_________________________________________________________________\n"
     ]
    }
   ],
   "source": [
    "encoder_model = Model(inputs = encoder_inputs, outputs = encoder_states)\n",
    "encoder_model.summary()"
   ]
  },
  {
   "cell_type": "code",
   "execution_count": 189,
   "id": "94fe72d3",
   "metadata": {},
   "outputs": [],
   "source": [
    "decoder_state_input_h = Input(shape=(256,))\n",
    "decoder_state_input_c = Input(shape=(256,))\n",
    "decoder_states_inputs = [decoder_state_input_h, decoder_state_input_c]\n",
    "\n",
    "dec_emb = dec_emb_layer(decoder_inputs)\n",
    "decoder_outputs, state_h, state_c = decoder_lstm(dec_emb, initial_state = decoder_states_inputs)\n",
    "decoder_states = [state_h, state_c]"
   ]
  },
  {
   "cell_type": "code",
   "execution_count": 190,
   "id": "ebe1414b",
   "metadata": {},
   "outputs": [
    {
     "name": "stdout",
     "output_type": "stream",
     "text": [
      "Model: \"model_23\"\n",
      "__________________________________________________________________________________________________\n",
      "Layer (type)                    Output Shape         Param #     Connected to                     \n",
      "==================================================================================================\n",
      "input_46 (InputLayer)           [(None, None)]       0                                            \n",
      "__________________________________________________________________________________________________\n",
      "embedding_31 (Embedding)        (None, None, 128)    1277952     input_46[0][0]                   \n",
      "__________________________________________________________________________________________________\n",
      "input_47 (InputLayer)           [(None, 256)]        0                                            \n",
      "__________________________________________________________________________________________________\n",
      "input_48 (InputLayer)           [(None, 256)]        0                                            \n",
      "__________________________________________________________________________________________________\n",
      "lstm_31 (LSTM)                  [(None, None, 256),  394240      embedding_31[1][0]               \n",
      "                                                                 input_47[0][0]                   \n",
      "                                                                 input_48[0][0]                   \n",
      "__________________________________________________________________________________________________\n",
      "dense_12 (Dense)                (None, None, 9984)   2565888     lstm_31[1][0]                    \n",
      "==================================================================================================\n",
      "Total params: 4,238,080\n",
      "Trainable params: 4,238,080\n",
      "Non-trainable params: 0\n",
      "__________________________________________________________________________________________________\n"
     ]
    }
   ],
   "source": [
    "decoder_outputs = decoder_softmax_layer(decoder_outputs)\n",
    "decoder_model = Model(inputs=[decoder_inputs] + decoder_states_inputs, outputs=[decoder_outputs] + decoder_states)\n",
    "decoder_model.summary()"
   ]
  },
  {
   "cell_type": "code",
   "execution_count": 191,
   "id": "85caf1d8",
   "metadata": {},
   "outputs": [],
   "source": [
    "eng2idx = eng_tokenizer.word_index\n",
    "fra2idx = fra_tokenizer.word_index\n",
    "idx2eng = eng_tokenizer.index_word\n",
    "idx2fra = fra_tokenizer.index_word"
   ]
  },
  {
   "cell_type": "code",
   "execution_count": 192,
   "id": "10f754de",
   "metadata": {},
   "outputs": [],
   "source": [
    "def decode_sequence(input_seq):\n",
    "    # 입력으로부터 인코더의 상태를 얻음\n",
    "    states_value = encoder_model.predict(input_seq)\n",
    "\n",
    "    # 에 해당하는 원-핫 벡터 생성\n",
    "    target_seq = np.zeros((1,1)) \n",
    "    target_seq[0, 0] = fra2idx['<sos>']\n",
    "    \n",
    "    stop_condition = False\n",
    "    decoded_sentence = \"\"\n",
    "\n",
    "    # stop_condition이 True가 될 때까지 루프 반복\n",
    "    while not stop_condition:\n",
    "        # 이점 시점의 상태 states_value를 현 시점의 초기 상태로 사용\n",
    "        output_tokens, h, c = decoder_model.predict([target_seq] + states_value)\n",
    "\n",
    "        # 예측 결과를 문자로 변환\n",
    "        sampled_token_index = np.argmax(output_tokens[0, -1, :])\n",
    "        sampled_char = idx2fra[sampled_token_index]\n",
    "\n",
    "        # 현재 시점의 예측 문자를 예측 문장에 추가\n",
    "        decoded_sentence += ' '+sampled_char\n",
    "\n",
    "        # 에 도달하거나 최대 길이를 넘으면 중단.\n",
    "        if (sampled_char == '<eos>' or\n",
    "           len(decoded_sentence) > max_fra_seq_len):\n",
    "            stop_condition = True\n",
    "\n",
    "        # 현재 시점의 예측 결과를 다음 시점의 입력으로 사용하기 위해 저장     \n",
    "        target_seq = np.zeros((1, 1))\n",
    "        target_seq[0, 0] = sampled_token_index\n",
    "\n",
    "        # 현재 시점의 상태를 다음 시점의 상태로 사용하기 위해 저장\n",
    "        states_value = [h, c]\n",
    "\n",
    "    return decoded_sentence"
   ]
  },
  {
   "cell_type": "code",
   "execution_count": 193,
   "id": "bc69d645",
   "metadata": {
    "scrolled": false
   },
   "outputs": [
    {
     "name": "stdout",
     "output_type": "stream",
     "text": [
      "-----------------------------------\n",
      "입력 문장: ['bury', 'it', '.']\n",
      "정답 문장: ['enterre-le', '.']\n",
      "번역기가 번역한 문장:  la chance . <eos\n",
      "-----------------------------------\n",
      "입력 문장: ['hang', 'on', '.']\n",
      "정답 문장: ['tiens', 'bon', '!']\n",
      "번역기가 번역한 문장:  attendez . <eos\n",
      "-----------------------------------\n",
      "입력 문장: ['shut', 'up', '!']\n",
      "정답 문장: ['ferme-la', '!']\n",
      "번역기가 번역한 문장:  la chance ! <eos\n",
      "-----------------------------------\n",
      "입력 문장: ['get', 'away', '!']\n",
      "정답 문장: ['criss', 'ton', 'camp', \"d'icit\", '!']\n",
      "번역기가 번역한 문장:  dégage ! <eos\n",
      "-----------------------------------\n",
      "입력 문장: ['hurry', 'up', '.']\n",
      "정답 문장: ['grouille', '!']\n",
      "번역기가 번역한 문장:  dépêche-toi . <eos\n"
     ]
    }
   ],
   "source": [
    "import numpy as np\n",
    "for seq_index in [200, 300, 400, 500, 600]: # 입력 문장의 인덱스 (자유롭게 선택해 보세요)\n",
    "    input_seq = encoder_input[seq_index: seq_index + 1]\n",
    "    decoded_sentence = decode_sequence(input_seq)\n",
    "    print(35 * \"-\")\n",
    "    print('입력 문장:', lines.eng[seq_index])\n",
    "    print('정답 문장:', lines.fra[seq_index][1:len(lines.fra[seq_index])-1]) # '\\t'와 '\\n'을 빼고 출력\n",
    "    print('번역기가 번역한 문장:', decoded_sentence[:len(decoded_sentence)-1]) # '\\n'을 빼고 출력"
   ]
  },
  {
   "cell_type": "markdown",
   "id": "3bc6e5d4",
   "metadata": {},
   "source": [
    "구글 번역 한국어 결과는 다음과 같습니다.\n",
    "\n",
    "| Eng/Fra sentence | Korean Translation Result |\n",
    "|------------------|---------------------------|\n",
    "| bury it.         | 묻어.                     |\n",
    "| enterre-le.      | 그를 묻어.                |\n",
    "| la chance        | 운                        |\n",
    "|------------------|---------------------------|\n",
    "| hang on.         | 기다려!                   |\n",
    "| tiens bon!       | 기다리다!                 |\n",
    "| attendez.        | 기다리다.                 |\n",
    "|------------------|---------------------------|\n",
    "| shut up!         | 입 다물어!                |\n",
    "| ferme-la!        | 입 다물어!                |\n",
    "| la chance        | 운                        |\n",
    "|------------------|---------------------------|\n",
    "| get away!        | 떨어져!                   |\n",
    "| criss ton camp d'icit! | 여기에서 당신의 캠프를 위기! |\n",
    "| dégage!          | 분명한!                   |\n",
    "|------------------|---------------------------|\n",
    "| hurry up!        | 서둘러!                   |\n",
    "| grouille!        | 붐비다!                   |\n",
    "| en route!        | 서둘러!                   |\n",
    "|------------------|---------------------------|"
   ]
  },
  {
   "cell_type": "markdown",
   "id": "f7977421",
   "metadata": {},
   "source": [
    "### 회고\n",
    "4층 여러 그루분들의 도움으로 제출할 수 있었습니다. 감사합니다."
   ]
  }
 ],
 "metadata": {
  "kernelspec": {
   "display_name": "Python 3 (ipykernel)",
   "language": "python",
   "name": "python3"
  },
  "language_info": {
   "codemirror_mode": {
    "name": "ipython",
    "version": 3
   },
   "file_extension": ".py",
   "mimetype": "text/x-python",
   "name": "python",
   "nbconvert_exporter": "python",
   "pygments_lexer": "ipython3",
   "version": "3.9.7"
  }
 },
 "nbformat": 4,
 "nbformat_minor": 5
}
